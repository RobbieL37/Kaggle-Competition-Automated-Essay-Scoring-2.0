{
 "cells": [
  {
   "cell_type": "markdown",
   "id": "a3d31d81-46db-441b-bafe-8ac0809e62e2",
   "metadata": {
    "tags": []
   },
   "source": [
    "## Kaggle competition: Automated Essay Scoring 2.0"
   ]
  },
  {
   "cell_type": "markdown",
   "id": "e18fdde3-4f89-46e4-bc60-01cead995d77",
   "metadata": {
    "tags": []
   },
   "source": [
    "### Libraries + data loading"
   ]
  },
  {
   "cell_type": "code",
   "execution_count": 1,
   "id": "0b2012d3-c950-415b-9cfc-ade989f45eb8",
   "metadata": {
    "tags": []
   },
   "outputs": [
    {
     "name": "stderr",
     "output_type": "stream",
     "text": [
      "C:\\Users\\LiangX\\anaconda3\\Lib\\site-packages\\pandas\\core\\arrays\\masked.py:60: UserWarning: Pandas requires version '1.3.6' or newer of 'bottleneck' (version '1.3.5' currently installed).\n",
      "  from pandas.core import (\n",
      "[nltk_data] Downloading package stopwords to\n",
      "[nltk_data]     C:\\Users\\LiangX\\AppData\\Roaming\\nltk_data...\n",
      "[nltk_data]   Package stopwords is already up-to-date!\n",
      "[nltk_data] Downloading package wordnet to\n",
      "[nltk_data]     C:\\Users\\LiangX\\AppData\\Roaming\\nltk_data...\n",
      "[nltk_data]   Package wordnet is already up-to-date!\n",
      "[nltk_data] Downloading package punkt to\n",
      "[nltk_data]     C:\\Users\\LiangX\\AppData\\Roaming\\nltk_data...\n",
      "[nltk_data]   Package punkt is already up-to-date!\n"
     ]
    },
    {
     "data": {
      "text/plain": [
       "True"
      ]
     },
     "execution_count": 1,
     "metadata": {},
     "output_type": "execute_result"
    }
   ],
   "source": [
    "import pandas as pd\n",
    "import numpy as np\n",
    "from sklearn.model_selection import cross_val_score, train_test_split\n",
    "from sklearn.impute import SimpleImputer\n",
    "from sklearn.compose import ColumnTransformer\n",
    "from sklearn.model_selection import GridSearchCV\n",
    "import matplotlib.pyplot as plt\n",
    "\n",
    "import re\n",
    "import string\n",
    "import nltk\n",
    "from nltk.corpus import stopwords\n",
    "from nltk.tokenize import word_tokenize\n",
    "from nltk.stem import WordNetLemmatizer\n",
    "nltk.download('stopwords')\n",
    "\n",
    "import nltk\n",
    "nltk.download('wordnet')\n",
    "\n",
    "import nltk\n",
    "nltk.download('punkt')"
   ]
  },
  {
   "cell_type": "code",
   "execution_count": 2,
   "id": "27a9cd34-9fac-4f76-b88b-1d38adc71597",
   "metadata": {
    "tags": []
   },
   "outputs": [
    {
     "data": {
      "text/html": [
       "<div>\n",
       "<style scoped>\n",
       "    .dataframe tbody tr th:only-of-type {\n",
       "        vertical-align: middle;\n",
       "    }\n",
       "\n",
       "    .dataframe tbody tr th {\n",
       "        vertical-align: top;\n",
       "    }\n",
       "\n",
       "    .dataframe thead th {\n",
       "        text-align: right;\n",
       "    }\n",
       "</style>\n",
       "<table border=\"1\" class=\"dataframe\">\n",
       "  <thead>\n",
       "    <tr style=\"text-align: right;\">\n",
       "      <th></th>\n",
       "      <th>essay_id</th>\n",
       "      <th>full_text</th>\n",
       "      <th>score</th>\n",
       "    </tr>\n",
       "  </thead>\n",
       "  <tbody>\n",
       "    <tr>\n",
       "      <th>0</th>\n",
       "      <td>000d118</td>\n",
       "      <td>Many people have car where they live. The thin...</td>\n",
       "      <td>3</td>\n",
       "    </tr>\n",
       "    <tr>\n",
       "      <th>1</th>\n",
       "      <td>000fe60</td>\n",
       "      <td>I am a scientist at NASA that is discussing th...</td>\n",
       "      <td>3</td>\n",
       "    </tr>\n",
       "    <tr>\n",
       "      <th>2</th>\n",
       "      <td>001ab80</td>\n",
       "      <td>People always wish they had the same technolog...</td>\n",
       "      <td>4</td>\n",
       "    </tr>\n",
       "    <tr>\n",
       "      <th>3</th>\n",
       "      <td>001bdc0</td>\n",
       "      <td>We all heard about Venus, the planet without a...</td>\n",
       "      <td>4</td>\n",
       "    </tr>\n",
       "    <tr>\n",
       "      <th>4</th>\n",
       "      <td>002ba53</td>\n",
       "      <td>Dear, State Senator\\n\\nThis is a letter to arg...</td>\n",
       "      <td>3</td>\n",
       "    </tr>\n",
       "  </tbody>\n",
       "</table>\n",
       "</div>"
      ],
      "text/plain": [
       "  essay_id                                          full_text  score\n",
       "0  000d118  Many people have car where they live. The thin...      3\n",
       "1  000fe60  I am a scientist at NASA that is discussing th...      3\n",
       "2  001ab80  People always wish they had the same technolog...      4\n",
       "3  001bdc0  We all heard about Venus, the planet without a...      4\n",
       "4  002ba53  Dear, State Senator\\n\\nThis is a letter to arg...      3"
      ]
     },
     "execution_count": 2,
     "metadata": {},
     "output_type": "execute_result"
    }
   ],
   "source": [
    "# load the first 10M rows of data\n",
    "train_data = pd.read_csv('.\\\\learning-agency-lab-automated-essay-scoring-2\\\\train.csv')\n",
    "train_data.head()"
   ]
  },
  {
   "cell_type": "code",
   "execution_count": 3,
   "id": "ea79a3c8-b5d3-477f-acf5-d1edf9bf7e7c",
   "metadata": {
    "tags": []
   },
   "outputs": [
    {
     "name": "stdout",
     "output_type": "stream",
     "text": [
      "<class 'pandas.core.frame.DataFrame'>\n",
      "RangeIndex: 17307 entries, 0 to 17306\n",
      "Data columns (total 3 columns):\n",
      " #   Column     Non-Null Count  Dtype \n",
      "---  ------     --------------  ----- \n",
      " 0   essay_id   17307 non-null  object\n",
      " 1   full_text  17307 non-null  object\n",
      " 2   score      17307 non-null  int64 \n",
      "dtypes: int64(1), object(2)\n",
      "memory usage: 405.8+ KB\n"
     ]
    }
   ],
   "source": [
    "train_data.info()"
   ]
  },
  {
   "cell_type": "code",
   "execution_count": 4,
   "id": "ac3c0f3c-0889-4701-a4cd-e7b29d8da4f6",
   "metadata": {
    "tags": []
   },
   "outputs": [
    {
     "data": {
      "text/plain": [
       "2190"
      ]
     },
     "execution_count": 4,
     "metadata": {},
     "output_type": "execute_result"
    }
   ],
   "source": [
    "# sampling some essay to see how large is the length \n",
    "len(train_data.iloc[1501, 1])  "
   ]
  },
  {
   "cell_type": "markdown",
   "id": "af488e1e-1c48-4e07-940a-5655dcb2f67a",
   "metadata": {
    "tags": []
   },
   "source": [
    "### Game plan:\n",
    "    1. clean up all the data\n",
    "    2. topic modeling\n",
    "    3. try to evaluate all dimensions data for analysing how did the essay Demonstrates Mastery\n",
    "    4. using all generated dimensions to predict scores"
   ]
  },
  {
   "cell_type": "markdown",
   "id": "9cc6f51f-6532-4c8e-83c4-9e7ad18af9dd",
   "metadata": {
    "jp-MarkdownHeadingCollapsed": true,
    "tags": []
   },
   "source": [
    "### Topic modeling"
   ]
  },
  {
   "cell_type": "markdown",
   "id": "92b11cda-4c0c-43fc-b0d7-03ccaf4d213b",
   "metadata": {
    "tags": []
   },
   "source": [
    "#### Latent Dirichlet Allocation (LDA): \n",
    "This is the most widely used method for topic modeling. LDA works by assuming that each document is a mixture of several topics, and each topic is a probability distribution over words. The algorithm then tries to find the hidden topics that best explain the observed documents. LDA is a powerful method that can be used to uncover complex thematic structures in large collections of text data."
   ]
  },
  {
   "cell_type": "code",
   "execution_count": 5,
   "id": "d3b134c9-6604-4f68-9dd0-b735a2b6c6d9",
   "metadata": {
    "tags": []
   },
   "outputs": [],
   "source": [
    "# import gensim\n",
    "# # for LDA\n",
    "# from gensim import corpora\n",
    "# from gensim.models import LdaModel\n",
    "# from gensim.models.coherencemodel import CoherenceModel\n",
    "\n",
    "# # for LDA evaluation\n",
    "# import pip \n",
    "# import pyLDAvis.gensim_models as gensimvisualize\n",
    "\n",
    "# from sklearn.feature_extraction.text import CountVectorizer"
   ]
  },
  {
   "cell_type": "code",
   "execution_count": 6,
   "id": "85aeb6d1-29f7-41ce-b80b-3f24c23b2758",
   "metadata": {
    "tags": []
   },
   "outputs": [],
   "source": [
    "# import gensim\n",
    "# from gensim.utils import simple_preprocess\n",
    "# import nltk\n",
    "# nltk.download('stopwords')\n",
    "# from nltk.corpus import stopwords\n",
    "\n",
    "# # stop_words = stopwords.words('english')\n",
    "# # stop_words.extend(['from', 'subject', 're', 'edu', 'use'])\n",
    "\n",
    "# def sent_to_words(sentences):\n",
    "#     for sentence in sentences:\n",
    "#         # deacc=True removes punctuations\n",
    "#         yield(gensim.utils.simple_preprocess(str(sentence), deacc=True))\n",
    "\n",
    "# # def remove_stopwords(texts):\n",
    "#     # return [[word for word in simple_preprocess(str(doc)) \n",
    "#              # if word not in stop_words] for doc in texts]\n",
    "\n",
    "# data = train_data.full_text.values.tolist()\n",
    "# data_words = list(sent_to_words(data))# remove stop words\n",
    "\n",
    "# # data_words = remove_stopwords(data_words)\n",
    "\n",
    "# print(data_words[:1][0][:30])"
   ]
  },
  {
   "cell_type": "code",
   "execution_count": 7,
   "id": "866c6828-339d-4196-a7c8-8cb0d1210bb7",
   "metadata": {
    "tags": []
   },
   "outputs": [],
   "source": [
    "# import gensim.corpora as corpora# Create Dictionary\n",
    "\n",
    "# id2word = corpora.Dictionary(data_words)# Create Corpus\n",
    "# texts = data_words   # Term Document Frequency\n",
    "# corpus = [id2word.doc2bow(text) for text in texts]# View\n",
    "\n",
    "# print(corpus[:1][0][:30])"
   ]
  },
  {
   "cell_type": "code",
   "execution_count": 8,
   "id": "baee4dad-ee4f-46bd-82f1-9bf19221b05e",
   "metadata": {},
   "outputs": [],
   "source": [
    "# from pprint import pprint\n",
    "\n",
    "# # number of topics\n",
    "# num_topics = 8     \n",
    "\n",
    "# # Build LDA model\n",
    "# lda_model = gensim.models.LdaMulticore(corpus=corpus,\n",
    "#                                        id2word=id2word,\n",
    "#                                        num_topics=num_topics)# Print the Keyword in the 10 topics\n",
    "# pprint(lda_model.print_topics())\n",
    "# doc_lda = lda_model[corpus]"
   ]
  },
  {
   "cell_type": "code",
   "execution_count": 9,
   "id": "b7c99a2e-57af-453a-b00c-716cdf7a84d1",
   "metadata": {},
   "outputs": [],
   "source": [
    "# # Train the LDA model\n",
    "# num_topics = 8\n",
    "# ldamodel = LdaModel(corpus, num_topics=num_topics, id2word=id2word, passes=20, alpha='auto', eta='auto')\n",
    "\n",
    "# # Get the topics\n",
    "# topics = ldamodel.show_topics(num_topics=num_topics, num_words=10, log=False, formatted=False)\n",
    "\n",
    "# # Print the topics\n",
    "# for topic_id, topic in topics:\n",
    "#     print(\"Topic: {}\".format(topic_id))\n",
    "#     print(\"Words: {}\".format([word for word, _ in topic]))"
   ]
  },
  {
   "cell_type": "markdown",
   "id": "93a52cb2-c1f8-4a56-b1a9-1c6f546636e4",
   "metadata": {
    "tags": []
   },
   "source": [
    "#### Tuning LDA modeling"
   ]
  },
  {
   "cell_type": "code",
   "execution_count": 10,
   "id": "15f72c2f-8059-4074-ac4e-722c1e1c42a6",
   "metadata": {
    "scrolled": true
   },
   "outputs": [
    {
     "data": {
      "text/plain": [
       "'\\nn : 8 ; alpha : symmetric ; beta : auto ; Score : 0.5867571344360871\\nn : 8 ; alpha : symmetric ; beta : 0.3 ; Score : 0.6484286193478872\\nn : 8 ; alpha : symmetric ; beta : 0.5 ; Score : 0.6908468584411063\\nn : 8 ; alpha : symmetric ; beta : 0.7 ; Score : 0.6535039626900472\\nn : 8 ; alpha : 0.3 ; beta : auto ; Score : 0.7009901825318623\\nn : 8 ; alpha : 0.3 ; beta : 0.3 ; Score : 0.6067786338573026\\nn : 8 ; alpha : 0.3 ; beta : 0.5 ; Score : 0.6884324910768638\\nn : 8 ; alpha : 0.3 ; beta : 0.7 ; Score : 0.6159885331868643\\nn : 8 ; alpha : 0.5 ; beta : auto ; Score : 0.5892287024171865\\nn : 8 ; alpha : 0.5 ; beta : 0.3 ; Score : 0.6001228872778723\\nn : 8 ; alpha : 0.5 ; beta : 0.5 ; Score : 0.6771281385904965\\nn : 8 ; alpha : 0.5 ; beta : 0.7 ; Score : 0.6308784067976919\\nn : 8 ; alpha : 0.7 ; beta : auto ; Score : 0.5896615094033433\\nn : 8 ; alpha : 0.7 ; beta : 0.3 ; Score : 0.5892956339922097\\nn : 8 ; alpha : 0.7 ; beta : 0.5 ; Score : 0.6489195742346713\\nn : 8 ; alpha : 0.7 ; beta : 0.7 ; Score : 0.6444760144697218\\nn : 12 ; alpha : symmetric ; beta : auto ; Score : 0.5750300760673676\\nn : 12 ; alpha : symmetric ; beta : 0.3 ; Score : 0.6849110437993057\\nn : 12 ; alpha : symmetric ; beta : 0.5 ; Score : 0.7314194212807755\\nn : 12 ; alpha : symmetric ; beta : 0.7 ; Score : 0.76320512140851\\nn : 12 ; alpha : 0.3 ; beta : auto ; Score : 0.6213726949189714\\nn : 12 ; alpha : 0.3 ; beta : 0.3 ; Score : 0.5161033312814763\\nn : 12 ; alpha : 0.3 ; beta : 0.5 ; Score : 0.6272328248043099\\nn : 12 ; alpha : 0.3 ; beta : 0.7 ; Score : 0.6730741674189091\\nn : 12 ; alpha : 0.5 ; beta : auto ; Score : 0.6077342896100025\\nn : 12 ; alpha : 0.5 ; beta : 0.3 ; Score : 0.5935212555277873\\nn : 12 ; alpha : 0.5 ; beta : 0.5 ; Score : 0.540065264714628\\nn : 12 ; alpha : 0.5 ; beta : 0.7 ; Score : 0.5469721196213261\\nn : 12 ; alpha : 0.7 ; beta : auto ; Score : 0.6230499220866276\\nn : 12 ; alpha : 0.7 ; beta : 0.3 ; Score : 0.6643458580320608\\nn : 12 ; alpha : 0.7 ; beta : 0.5 ; Score : 0.53247498510502\\nn : 12 ; alpha : 0.7 ; beta : 0.7 ; Score : 0.5513126167860697\\nn : 18 ; alpha : symmetric ; beta : auto ; Score : 0.5684524380785312\\nn : 18 ; alpha : symmetric ; beta : 0.3 ; Score : 0.6339300188517728\\nn : 18 ; alpha : symmetric ; beta : 0.5 ; Score : 0.6830333628690716\\nn : 18 ; alpha : symmetric ; beta : 0.7 ; Score : 0.70750756576385\\nn : 18 ; alpha : 0.3 ; beta : auto ; Score : 0.5432114628137467\\nn : 18 ; alpha : 0.3 ; beta : 0.3 ; Score : 0.5291213920783898\\nn : 18 ; alpha : 0.3 ; beta : 0.5 ; Score : 0.5770419998172478\\nn : 18 ; alpha : 0.3 ; beta : 0.7 ; Score : 0.5950913864671474\\nn : 18 ; alpha : 0.5 ; beta : auto ; Score : 0.5853262650331381\\nn : 18 ; alpha : 0.5 ; beta : 0.3 ; Score : 0.4610565717199081\\nn : 18 ; alpha : 0.5 ; beta : 0.5 ; Score : 0.5082908394269366\\nn : 18 ; alpha : 0.5 ; beta : 0.7 ; Score : 0.497395366148738\\nn : 18 ; alpha : 0.7 ; beta : auto ; Score : 0.5336068890678578\\nn : 18 ; alpha : 0.7 ; beta : 0.3 ; Score : 0.4891766592065441\\nn : 18 ; alpha : 0.7 ; beta : 0.5 ; Score : 0.5062269165521386\\nn : 18 ; alpha : 0.7 ; beta : 0.7 ; Score : 0.5478582738764528\\n'"
      ]
     },
     "execution_count": 10,
     "metadata": {},
     "output_type": "execute_result"
    }
   ],
   "source": [
    "# def calculate_coherence_score(n, alpha, beta):\n",
    "#     lda_model = gensim.models.ldamodel.LdaModel(corpus=corpus,\n",
    "#                                            id2word=id2word,\n",
    "#                                            num_topics=n, \n",
    "#                                            random_state=100,\n",
    "#                                            update_every=1,\n",
    "#                                            chunksize=100,\n",
    "#                                            passes=10,\n",
    "#                                            alpha=alpha,\n",
    "#                                            per_word_topics=True,\n",
    "#                                            eta = beta)\n",
    "#     coherence_model_lda = CoherenceModel(model=lda_model, texts=texts, dictionary=id2word, coherence='c_v', processes=1)\n",
    "#     coherence_lda = coherence_model_lda.get_coherence()\n",
    "#     return coherence_lda\n",
    "\n",
    "# #list containing various hyperparameters\n",
    "# no_of_topics = [8, 12, 18]\n",
    "# alpha_list = ['symmetric',0.3,0.5,0.7]\n",
    "# beta_list = ['auto',0.3,0.5,0.7]\n",
    "\n",
    "\n",
    "# for n in no_of_topics:\n",
    "#     for alpha in alpha_list:\n",
    "#         for beta in beta_list:\n",
    "#             coherence_score = calculate_coherence_score(n, alpha, beta)\n",
    "#             print(f\"n : {n} ; alpha : {alpha} ; beta : {beta} ; Score : {coherence_score}\")\n",
    "\n",
    "\n",
    "'''\n",
    "This for loop takes a few hours to run\n",
    "so here is the result: and we don't want to run this again:\n",
    "'''\n",
    "'''\n",
    "n : 8 ; alpha : symmetric ; beta : auto ; Score : 0.5867571344360871\n",
    "n : 8 ; alpha : symmetric ; beta : 0.3 ; Score : 0.6484286193478872\n",
    "n : 8 ; alpha : symmetric ; beta : 0.5 ; Score : 0.6908468584411063\n",
    "n : 8 ; alpha : symmetric ; beta : 0.7 ; Score : 0.6535039626900472\n",
    "n : 8 ; alpha : 0.3 ; beta : auto ; Score : 0.7009901825318623\n",
    "n : 8 ; alpha : 0.3 ; beta : 0.3 ; Score : 0.6067786338573026\n",
    "n : 8 ; alpha : 0.3 ; beta : 0.5 ; Score : 0.6884324910768638\n",
    "n : 8 ; alpha : 0.3 ; beta : 0.7 ; Score : 0.6159885331868643\n",
    "n : 8 ; alpha : 0.5 ; beta : auto ; Score : 0.5892287024171865\n",
    "n : 8 ; alpha : 0.5 ; beta : 0.3 ; Score : 0.6001228872778723\n",
    "n : 8 ; alpha : 0.5 ; beta : 0.5 ; Score : 0.6771281385904965\n",
    "n : 8 ; alpha : 0.5 ; beta : 0.7 ; Score : 0.6308784067976919\n",
    "n : 8 ; alpha : 0.7 ; beta : auto ; Score : 0.5896615094033433\n",
    "n : 8 ; alpha : 0.7 ; beta : 0.3 ; Score : 0.5892956339922097\n",
    "n : 8 ; alpha : 0.7 ; beta : 0.5 ; Score : 0.6489195742346713\n",
    "n : 8 ; alpha : 0.7 ; beta : 0.7 ; Score : 0.6444760144697218\n",
    "n : 12 ; alpha : symmetric ; beta : auto ; Score : 0.5750300760673676\n",
    "n : 12 ; alpha : symmetric ; beta : 0.3 ; Score : 0.6849110437993057\n",
    "n : 12 ; alpha : symmetric ; beta : 0.5 ; Score : 0.7314194212807755\n",
    "n : 12 ; alpha : symmetric ; beta : 0.7 ; Score : 0.76320512140851\n",
    "n : 12 ; alpha : 0.3 ; beta : auto ; Score : 0.6213726949189714\n",
    "n : 12 ; alpha : 0.3 ; beta : 0.3 ; Score : 0.5161033312814763\n",
    "n : 12 ; alpha : 0.3 ; beta : 0.5 ; Score : 0.6272328248043099\n",
    "n : 12 ; alpha : 0.3 ; beta : 0.7 ; Score : 0.6730741674189091\n",
    "n : 12 ; alpha : 0.5 ; beta : auto ; Score : 0.6077342896100025\n",
    "n : 12 ; alpha : 0.5 ; beta : 0.3 ; Score : 0.5935212555277873\n",
    "n : 12 ; alpha : 0.5 ; beta : 0.5 ; Score : 0.540065264714628\n",
    "n : 12 ; alpha : 0.5 ; beta : 0.7 ; Score : 0.5469721196213261\n",
    "n : 12 ; alpha : 0.7 ; beta : auto ; Score : 0.6230499220866276\n",
    "n : 12 ; alpha : 0.7 ; beta : 0.3 ; Score : 0.6643458580320608\n",
    "n : 12 ; alpha : 0.7 ; beta : 0.5 ; Score : 0.53247498510502\n",
    "n : 12 ; alpha : 0.7 ; beta : 0.7 ; Score : 0.5513126167860697\n",
    "n : 18 ; alpha : symmetric ; beta : auto ; Score : 0.5684524380785312\n",
    "n : 18 ; alpha : symmetric ; beta : 0.3 ; Score : 0.6339300188517728\n",
    "n : 18 ; alpha : symmetric ; beta : 0.5 ; Score : 0.6830333628690716\n",
    "n : 18 ; alpha : symmetric ; beta : 0.7 ; Score : 0.70750756576385\n",
    "n : 18 ; alpha : 0.3 ; beta : auto ; Score : 0.5432114628137467\n",
    "n : 18 ; alpha : 0.3 ; beta : 0.3 ; Score : 0.5291213920783898\n",
    "n : 18 ; alpha : 0.3 ; beta : 0.5 ; Score : 0.5770419998172478\n",
    "n : 18 ; alpha : 0.3 ; beta : 0.7 ; Score : 0.5950913864671474\n",
    "n : 18 ; alpha : 0.5 ; beta : auto ; Score : 0.5853262650331381\n",
    "n : 18 ; alpha : 0.5 ; beta : 0.3 ; Score : 0.4610565717199081\n",
    "n : 18 ; alpha : 0.5 ; beta : 0.5 ; Score : 0.5082908394269366\n",
    "n : 18 ; alpha : 0.5 ; beta : 0.7 ; Score : 0.497395366148738\n",
    "n : 18 ; alpha : 0.7 ; beta : auto ; Score : 0.5336068890678578\n",
    "n : 18 ; alpha : 0.7 ; beta : 0.3 ; Score : 0.4891766592065441\n",
    "n : 18 ; alpha : 0.7 ; beta : 0.5 ; Score : 0.5062269165521386\n",
    "n : 18 ; alpha : 0.7 ; beta : 0.7 ; Score : 0.5478582738764528\n",
    "'''"
   ]
  },
  {
   "cell_type": "code",
   "execution_count": 11,
   "id": "e4bfe594-d746-43b4-b49b-2c06251b05e3",
   "metadata": {},
   "outputs": [],
   "source": [
    "# # Train the LDA model\n",
    "# num_topics = 12\n",
    "# # ldamodel = LdaModel(corpus, num_topics=num_topics, id2word=id2word, passes=20, alpha='symmetric', eta=0.7)\n",
    "# ldamodel = gensim.models.ldamodel.LdaModel(corpus=corpus,\n",
    "#                                            id2word=id2word,\n",
    "#                                            num_topics=num_topics, \n",
    "#                                            random_state=100,\n",
    "#                                            update_every=1,\n",
    "#                                            chunksize=100,\n",
    "#                                            passes=10,\n",
    "#                                            alpha='symmetric',\n",
    "#                                            per_word_topics=True,\n",
    "#                                            eta = 0.7)\n",
    "\n",
    "# # Get the topics\n",
    "# topics = ldamodel.show_topics(num_topics=num_topics, num_words=20, log=False, formatted=False)\n",
    "\n",
    "# # Print the topics\n",
    "# for topic_id, topic in topics:\n",
    "#     print(\"Topic: {}\".format(topic_id))\n",
    "#     print(\"Words: {}\".format([word for word, _ in topic]))"
   ]
  },
  {
   "cell_type": "markdown",
   "id": "945aeed5-cd15-412a-b6dc-743e7174f909",
   "metadata": {},
   "source": [
    "##### cars, space, animals, politics, technology topics"
   ]
  },
  {
   "cell_type": "markdown",
   "id": "445536c1-9615-4e19-ae38-30e9dca31574",
   "metadata": {
    "tags": []
   },
   "source": [
    "### Judgement on the essay mastery: \n",
    "    1. a point of view on the issue\n",
    "    2. critical thinking\n",
    "    3. appropriate examples, reasons, and other evidence\n",
    "    4. clear coherence and smooth progression\n",
    "### Jugement on language mastery: (will use feedback data model to help)\n",
    "    cohesion, syntax, vocabulary, phraseology, grammar, conventions"
   ]
  },
  {
   "cell_type": "markdown",
   "id": "bb3f6860-c465-4580-ad57-6c8f041f5eb8",
   "metadata": {
    "jp-MarkdownHeadingCollapsed": true,
    "tags": []
   },
   "source": [
    "#### critical thinking"
   ]
  },
  {
   "cell_type": "code",
   "execution_count": 12,
   "id": "7e6b2f0d-ca58-43c1-8116-8ec889918cad",
   "metadata": {
    "tags": []
   },
   "outputs": [
    {
     "name": "stderr",
     "output_type": "stream",
     "text": [
      "[nltk_data] Downloading package punkt to\n",
      "[nltk_data]     C:\\Users\\LiangX\\AppData\\Roaming\\nltk_data...\n",
      "[nltk_data]   Package punkt is already up-to-date!\n",
      "[nltk_data] Downloading package stopwords to\n",
      "[nltk_data]     C:\\Users\\LiangX\\AppData\\Roaming\\nltk_data...\n",
      "[nltk_data]   Package stopwords is already up-to-date!\n",
      "[nltk_data] Downloading package vader_lexicon to\n",
      "[nltk_data]     C:\\Users\\LiangX\\AppData\\Roaming\\nltk_data...\n",
      "[nltk_data]   Package vader_lexicon is already up-to-date!\n"
     ]
    },
    {
     "data": {
      "text/plain": [
       "True"
      ]
     },
     "execution_count": 12,
     "metadata": {},
     "output_type": "execute_result"
    }
   ],
   "source": [
    "import nltk\n",
    "from nltk.tokenize import word_tokenize, sent_tokenize\n",
    "from nltk.corpus import stopwords\n",
    "from nltk.sentiment.vader import SentimentIntensityAnalyzer\n",
    "nltk.download('punkt')\n",
    "nltk.download('stopwords')\n",
    "nltk.download('vader_lexicon')"
   ]
  },
  {
   "cell_type": "code",
   "execution_count": 13,
   "id": "c7af92d4-f071-41ee-9c19-82d1aabeb76c",
   "metadata": {
    "tags": []
   },
   "outputs": [
    {
     "name": "stderr",
     "output_type": "stream",
     "text": [
      "[nltk_data] Downloading package punkt to\n",
      "[nltk_data]     C:\\Users\\LiangX\\AppData\\Roaming\\nltk_data...\n",
      "[nltk_data]   Package punkt is already up-to-date!\n",
      "[nltk_data] Downloading package stopwords to\n",
      "[nltk_data]     C:\\Users\\LiangX\\AppData\\Roaming\\nltk_data...\n",
      "[nltk_data]   Package stopwords is already up-to-date!\n"
     ]
    }
   ],
   "source": [
    "import nltk\n",
    "from nltk.tokenize import sent_tokenize, word_tokenize\n",
    "from nltk.corpus import stopwords\n",
    "from textblob import TextBlob\n",
    "\n",
    "# Download NLTK data\n",
    "nltk.download('punkt')\n",
    "nltk.download('stopwords')\n",
    "\n",
    "import re"
   ]
  },
  {
   "cell_type": "markdown",
   "id": "95d3cc9b-e29f-4537-a4bb-144d207d4ca1",
   "metadata": {
    "tags": []
   },
   "source": [
    "##### What is critical thinking?\n",
    "Critical thinking is the ability to interpret, evaluate, and analyze facts and information that are available, to form a judgment or decide if something is right or wrong."
   ]
  },
  {
   "cell_type": "code",
   "execution_count": 14,
   "id": "c4aeb9e3-f386-4532-828a-7fad6901fdcf",
   "metadata": {
    "tags": []
   },
   "outputs": [
    {
     "name": "stdout",
     "output_type": "stream",
     "text": [
      "Critical Thinking Score: 3\n"
     ]
    }
   ],
   "source": [
    "def analyze_text_structure(text):\n",
    "    sentences = sent_tokenize(text)\n",
    "    words = word_tokenize(text)\n",
    "    \n",
    "    stop_words = set(stopwords.words('english'))\n",
    "    filtered_words = [word for word in words if word.lower() not in stop_words]\n",
    "    \n",
    "    num_questions = sum(1 for sentence in sentences if sentence.endswith('?'))\n",
    "    \n",
    "    return {\n",
    "        'num_sentences': len(sentences),\n",
    "        'num_words': len(filtered_words),\n",
    "        'num_questions': num_questions\n",
    "    }\n",
    "\n",
    "def evaluate_sentiment(text):\n",
    "    blob = TextBlob(text)\n",
    "    sentiment = blob.sentiment\n",
    "    return {\n",
    "        'polarity': sentiment.polarity,\n",
    "        'subjectivity': sentiment.subjectivity\n",
    "    }\n",
    "\n",
    "def check_argumentation(text):\n",
    "    sentences = sent_tokenize(text)\n",
    "    argument_words = ['because', 'therefore', 'hence', 'thus', 'consequently', 'as a result', 'due to', 'since', 'so', 'leads to', \n",
    "        'results in', 'however', 'although', 'though', 'but', 'on the other hand', 'whereas', 'yet', 'despite', \n",
    "        'in contrast', 'nevertheless', 'nonetheless', 'in conclusion', 'to sum up', 'finally', 'in summary', \n",
    "        'for example', 'for instance', 'such as', 'including', 'like', 'particularly', 'in particular', \n",
    "        'to illustrate', 'as an example', 'furthermore', 'moreover', 'additionally', 'besides', 'also', \n",
    "        'in addition', 'plus', 'along with', 'if', 'unless', 'provided that', 'assuming that', 'even if', \n",
    "        'only if', 'given that', 'as long as', 'in case', 'since', 'for', 'as', 'in other words', 'that is', \n",
    "        'to clarify', 'to explain', 'namely', 'indeed', 'in fact', 'certainly', 'surely', 'of course', 'notably', \n",
    "        'significantly', 'especially', 'importantly', 'then', 'next', 'afterwards', 'later', 'subsequently', \n",
    "        'previously', 'before', 'after', 'eventually', 'meanwhile']\n",
    "    arguments = [sentence for sentence in sentences if any(word in sentence.lower() for word in argument_words)]\n",
    "    return len(arguments)\n",
    "\n",
    "def count_numbers(text):\n",
    "    numbers = re.findall(r'\\b\\d+(\\.\\d+)?\\b', text)\n",
    "    return len(numbers)\n",
    "\n",
    "def count_personal_opinions(text):\n",
    "    opinion_words = ['I think', 'I believe', 'I feel', 'I guess', 'I hope', 'I doubt', 'I assume', 'I imagine', \n",
    "        'I suppose', 'I wonder', 'I predict', 'I suspect', 'I prefer', 'I’d say', 'I’m sure', 'I suggest', \n",
    "        'I propose', 'I fear', 'I reckon', 'Personally', 'In my view', 'My view', 'It seems', 'It appears', \n",
    "        'I bet', 'I’d argue', 'I’d think', 'I’d hope', 'My guess', 'To me', 'For me', 'My take', 'I believe that', \n",
    "        'I think that', 'I feel that', 'I hope that', 'I doubt that', 'I imagine that', 'I suppose that', \n",
    "        'I guess that', 'I assume that', 'I suspect that', 'I’d say that', 'I’d argue that', 'I’d think that', \n",
    "        'I’d hope that', 'It seems that', 'It appears that', 'My guess is that', 'My view is that']\n",
    "    sentences = sent_tokenize(text)\n",
    "    opinions = [sentence for sentence in sentences if any(phrase in sentence for phrase in opinion_words)]\n",
    "    return len(opinions)\n",
    "\n",
    "def critical_thinking_analysis(text):\n",
    "    structure_analysis = analyze_text_structure(text)\n",
    "    sentiment_analysis = evaluate_sentiment(text)\n",
    "    argumentation_count = check_argumentation(text)\n",
    "    number_count = count_numbers(text)\n",
    "    opinion_count = count_personal_opinions(text)\n",
    "\n",
    "    critical_thinking_score = 0\n",
    "    \n",
    "    # Increase score based on the presence of critical thinking indicators\n",
    "    if structure_analysis['num_sentences'] > 10:\n",
    "        critical_thinking_score += 1\n",
    "    #     print(\"sentences number is high\")\n",
    "    if structure_analysis['num_words'] > 250:\n",
    "        critical_thinking_score += 1\n",
    "        # print(\"words number is high\")\n",
    "    if structure_analysis['num_questions'] > 1:\n",
    "        critical_thinking_score += 1\n",
    "        # print(\"throw questions\")\n",
    "    if abs(sentiment_analysis['polarity']) < 0.5:  # Neutral to balanced sentiment\n",
    "        critical_thinking_score += 1\n",
    "        # print(\"balanced sentiment\")\n",
    "    if argumentation_count > 3:\n",
    "        critical_thinking_score += 1\n",
    "        # print(\"arguments enough\")\n",
    "    if number_count > 5:  # Adjust threshold as needed\n",
    "        critical_thinking_score += 1\n",
    "        # print(\"used numbers\")\n",
    "    if opinion_count > 1:  # Penalize for too many personal opinions\n",
    "        critical_thinking_score -= 1\n",
    "        # print(\"too much opinions\")\n",
    "\n",
    "    return critical_thinking_score\n",
    "\n",
    "# Example usage\n",
    "text = \"\"\"\n",
    "Climate change is a pressing issue that affects everyone. It is caused by human activities, particularly the burning of fossil fuels.\n",
    "However, there are differing opinions on how to address it. Some argue that renewable energy is the solution, because it reduces carbon emissions.\n",
    "Therefore, investing in renewable energy is essential. For instance, wind energy production increased by 25% in 2020 and solar energy saw a 15% rise.\n",
    "But, others believe that economic growth should not be sacrificed. The GDP grew by 3% last year despite these changes.\n",
    "What is the best approach? We need to balance environmental sustainability with economic development. Personally, I think renewable energy is the best solution.\n",
    "\"\"\"\n",
    "\n",
    "score = critical_thinking_analysis(text)\n",
    "print(f\"Critical Thinking Score: {score}\")\n"
   ]
  },
  {
   "cell_type": "code",
   "execution_count": null,
   "id": "1f1656f2-429a-4ea1-af63-0800b5e4d4ef",
   "metadata": {},
   "outputs": [],
   "source": []
  },
  {
   "cell_type": "code",
   "execution_count": 15,
   "id": "5b0c14fe-eafb-47af-b2e2-5dee91b54454",
   "metadata": {
    "tags": []
   },
   "outputs": [
    {
     "name": "stdout",
     "output_type": "stream",
     "text": [
      "There are many reasons why you should join seagoing cowboys program. You would be helping your country. You'd be traveling around the world. Last you'd have lots of fun over seas. You'd be helping our country because when Luke was in seagoing cowboy program it was 1945 and world war 2 was happening in Europe and he had to those countries recover. Luke had to help the horses when the war was over to get people places and to work. If you were 18 or up you might be lucky and be drafted into the military service. The UNRRA would hire seagoing Cowboys to feed the horses cows and mules that were shipped overseas. You'd be traveling around they world like Luke did. It took Luke 2 weeks to cross the Atlantic Ocean from the eastern coast. You'd be traveling to China, Europe, Greece, and many more places. The only way you'd be good at this job is if you wouldn't get sea sick because if you are a seagoing cowboy told travel overseas a lot. You'd have fun overseas if you don't get seasick. You'd have many adventures. You'd have many stories to tell your friends and family. You'd been in countries you'd didn't think you'd be in. You'd be able to play games in the countries you visit in the seagoing Cowboys program. If you join the seagoing Cowboys program you'd love it. You'd be traveling. You'd be having fun. You'd be helping our country. So why don't you join our seagoing cowboy program. I bet you'd love to be in this program with all our helpful friends and family that want to try to help our country. \n",
      "\n",
      "\n",
      "Critical Thinking Score: 3\n"
     ]
    }
   ],
   "source": [
    "text = \"There are many reasons why you should join seagoing cowboys program. You would be helping your country. You'd be traveling around the world. Last you'd have lots of fun over seas. You'd be helping our country because when Luke was in seagoing cowboy program it was 1945 and world war 2 was happening in Europe and he had to those countries recover. Luke had to help the horses when the war was over to get people places and to work. If you were 18 or up you might be lucky and be drafted into the military service. The UNRRA would hire seagoing Cowboys to feed the horses cows and mules that were shipped overseas. You'd be traveling around they world like Luke did. It took Luke 2 weeks to cross the Atlantic Ocean from the eastern coast. You'd be traveling to China, Europe, Greece, and many more places. The only way you'd be good at this job is if you wouldn't get sea sick because if you are a seagoing cowboy told travel overseas a lot. You'd have fun overseas if you don't get seasick. You'd have many adventures. You'd have many stories to tell your friends and family. You'd been in countries you'd didn't think you'd be in. You'd be able to play games in the countries you visit in the seagoing Cowboys program. If you join the seagoing Cowboys program you'd love it. You'd be traveling. You'd be having fun. You'd be helping our country. So why don't you join our seagoing cowboy program. I bet you'd love to be in this program with all our helpful friends and family that want to try to help our country. \"\n",
    "print(text)\n",
    "print('\\n')\n",
    "\n",
    "score = critical_thinking_analysis(text)\n",
    "print(f\"Critical Thinking Score: {score}\")"
   ]
  },
  {
   "cell_type": "code",
   "execution_count": 16,
   "id": "ba957c1a-38fd-48bb-bc46-2005619a1912",
   "metadata": {
    "tags": []
   },
   "outputs": [
    {
     "name": "stdout",
     "output_type": "stream",
     "text": [
      "Dear State Senate, I feel that the way we, the people, vote today is very unfair. We should change the voting to popular vote for the president of the United States. The majority of people don't care about voting for the next United States prsident because they don't get to chose who will win. The people that get to vote for one's state might not think about what what the remaining others would want. In source one, this section tells the reader what an electoral college is and how it works. Paragraph two sums up what this system is, The Electoral College process consists of the selection of the electors, the meeting of the electors where they vote for president and vice president, and the counting if the electoral votes by Congress. Basically what this paragraph was saying is that the people dont get to directly say who they want as president. The people of a state get to vote for who they want, but it is ultimately up to the state electors on who will get the vote from that particular state. There could be a ton of people voting for one president, and then there might be less votes for a president who may be even better. Ultimately what this system comes down to is the people don't vote for their next president. They are selecting a name that might not do anything to their country. Source two talks about the electoral college and how the best-laid defenses of the system are wrong. In paragraph nine,  the text says, ... according to a Gallup poll in 2000, taken shortly after Al Gore- thanks to the quirks of the electoral college- won the popular vote but lost presidency, over 60 percent of voters  would prefer a direct election to the kind we have now. The electoral college is responsible for picking electors, who can go behind the peoples back and chose the president nobody wanted. This system or process is a total disaster. Paragraph thirteen states, At the most basic level, the electoral college is unfair to voters. Because of the winner-take-all system in each state, candidates don't spend time in states they know they have no chance of winning, focusing only on the tight races in the 'swing' states. Paragrapgh twenty-three, It can be argued that the electoral college method of selecting the president may turn off potential voters for a candidate who has no hope of carrying their state- Democrates in Texas, for example, or Republicans in California. If these people were to vote by the system we have now, their vote would have no effect. This leads to the people living in these states to not vote. They don't even pay attention to the campaign anymore. They know that they won't do anything to the votes or who will become president. They couldn't care less. We should get rid of the electoral college all together. This system is not working for a lot of people and this is why many people dont care enough to vote anymore. There are people that vote for our state. Why should the people care? If we switched to popular vote, our country might participate in picking who the next president of the United States will be. When people have a voice, they will use it as much as they possibly can.                             \n",
      "\n",
      "\n",
      "Critical Thinking Score: 4\n"
     ]
    }
   ],
   "source": [
    "text = \"Dear State Senate, I feel that the way we, the people, vote today is very unfair. We should change the voting to popular vote for the president of the United States. The majority of people don't care about voting for the next United States prsident because they don't get to chose who will win. The people that get to vote for one's state might not think about what what the remaining others would want. In source one, this section tells the reader what an electoral college is and how it works. Paragraph two sums up what this system is, \"\"The Electoral College process consists of the selection of the electors, the meeting of the electors where they vote for president and vice president, and the counting if the electoral votes by Congress.\"\" Basically what this paragraph was saying is that the people dont get to directly say who they want as president. The people of a state get to vote for who they want, but it is ultimately up to the state electors on who will get the vote from that particular state. There could be a ton of people voting for one president, and then there might be less votes for a president who may be even better. Ultimately what this system comes down to is the people don't vote for their next president. They are selecting a name that might not do anything to their country. Source two talks about the electoral college and how the best-laid defenses of the system are wrong. In paragraph nine,  the text says, \"\"... according to a Gallup poll in 2000, taken shortly after Al Gore- thanks to the quirks of the electoral college- won the popular vote but lost presidency, over 60 percent of voters  would prefer a direct election to the kind we have now.\"\" The electoral college is responsible for picking electors, who can go behind the peoples back and chose the president nobody wanted. This system or process is a total disaster. Paragraph thirteen states, \"\"At the most basic level, the electoral college is unfair to voters. Because of the winner-take-all system in each state, candidates don't spend time in states they know they have no chance of winning, focusing only on the tight races in the 'swing' states. Paragrapgh twenty-three, \"\"It can be argued that the electoral college method of selecting the president may turn off potential voters for a candidate who has no hope of carrying their state- Democrates in Texas, for example, or Republicans in California.\"\" If these people were to vote by the system we have now, their vote would have no effect. This leads to the people living in these states to not vote. They don't even pay attention to the campaign anymore. They know that they won't do anything to the votes or who will become president. They couldn't care less. We should get rid of the electoral college all together. This system is not working for a lot of people and this is why many people dont care enough to vote anymore. There are people that vote for our state. Why should the people care? If we switched to popular vote, our country might participate in picking who the next president of the United States will be. When people have a voice, they will use it as much as they possibly can.                             \"\n",
    "\n",
    "print(text)\n",
    "print('\\n')\n",
    "\n",
    "score = critical_thinking_analysis(text)\n",
    "print(f\"Critical Thinking Score: {score}\")"
   ]
  },
  {
   "cell_type": "code",
   "execution_count": 17,
   "id": "c15e224e-d653-40d6-991b-debb0ccfce70",
   "metadata": {
    "tags": []
   },
   "outputs": [
    {
     "name": "stdout",
     "output_type": "stream",
     "text": [
      "Luke was going to China, because his friend asked him and he said he couldn't pass this up. In the text it says that Luke had no idea that his life would change once he graduated high school. He was working two part time jobs. He knew it was an opportunity of a lifetime. the United Nations Relief and rehabiliation Administartion hired Seagoing Cowboys to take care of the horses, young cows, and the Mule that were shipped overseas. Luke and Don helped and signed up for it. Luke turned 18 before arriving in Greece. When he finally got there he helped on his Aunt Katie's farm. He went on a second trip. The cowboys all got along and began playing table tennis tournaments, baseball,volleyball games, and boxing and the games helped pass some time for the cowboys. The cowboy, also known as Luke Bomberger, lead his family to host a number of international students and exchanged visitors for many years. They arrivred in China August 14, the day the Pacific war ended. I bet his family was very proud of him. When he turned 18 I bet he was excited because he could be drafted for miltary service. Then when his board learned that he was on a cattle boat trip they told him to just keep doing that for service. The reason you should join the Military is because you could save a life. Several of lives. Also because we probably need more people because we could always use more people to protect us. Luke made nine trips after 1947.    \n",
      "\n",
      "\n",
      "Critical Thinking Score: 2\n"
     ]
    }
   ],
   "source": [
    "text = \"Luke was going to China, because his friend asked him and he said he couldn't pass this up. In the text it says that Luke had no idea that his life would change once he graduated high school. He was working two part time jobs. He knew it was an opportunity of a lifetime. the United Nations Relief and rehabiliation Administartion hired \"\"Seagoing Cowboys\"\" to take care of the horses, young cows, and the Mule that were shipped overseas. Luke and Don helped and signed up for it. Luke turned 18 before arriving in Greece. When he finally got there he helped on his Aunt Katie's farm. He went on a second trip. The cowboys all got along and began playing table tennis tournaments, baseball,volleyball games, and boxing and the games helped pass some time for the cowboys. The cowboy, also known as Luke Bomberger, lead his family to host a number of international students and exchanged visitors for many years. They arrivred in China August 14, the day the Pacific war ended. I bet his family was very proud of him. When he turned 18 I bet he was excited because he could be drafted for miltary service. Then when his board learned that he was on a cattle boat trip they told him to just keep doing that for service. The reason you should join the Military is because you could save a life. Several of lives. Also because we probably need more people because we could always use more people to protect us. Luke made nine trips after 1947.    \"\n",
    "\n",
    "print(text)\n",
    "print('\\n')\n",
    "\n",
    "score = critical_thinking_analysis(text)\n",
    "print(f\"Critical Thinking Score: {score}\")"
   ]
  },
  {
   "cell_type": "code",
   "execution_count": 18,
   "id": "918d7106-4f34-44d6-893c-c646c30c1430",
   "metadata": {
    "tags": []
   },
   "outputs": [
    {
     "name": "stdout",
     "output_type": "stream",
     "text": [
      "Dear State senator , You should keep the electoral college , beacuse For one theres alot of electors like around 538. A majority of 270 electoral votes is required to elect the president. Then after the presidental election , your governor prepares a 'Certificate of Ascertainment ' listing all of the candidates who ran for president in your state along with the names of their respective electors.To begin with under the 23rd amendment of the constitution ,The District of Columbia is allocated 3 electors and treated like a state for purposes of the electoral college and for that saying , in the  following discussion , the  word state also refers to the district of columbia. Also Each and every candidate that is running for president in your state has his or her own group of electors.The electors are generally chosen by the candidate's political party , but state laws vary on how the electors are selected and what their responsibilities are.Foremost , under the electoral college system , voters vote not for the persident , but for a slate of electors , who in turn elect the president.Who are the electors? They can be anyone not holding public office. Who picks the electors in the  first place? it depends on the state. Now i understand sometimes at state conventions , Partys , central committee , sometimes the presidental candidates themselves , Also sometimes get confused about the electors and vote for the wrong candidate.The single best argument against the electoral college is what we might call the electoral college is what we might call the  disaster factor. Its Basically whenever theres a  really good argument thats what its called.Subconstantquintly , Sometimes most people worry about the prospect of a tie in the elections vote. In That case , the election would be thrown to the house of representatives , where state delegations vote on the president. At the most basic level , the electoral college is unfair to voters. because of the winner-take-all system in each state , candidates dont spend time in states they know they have no chance of winning , focusing only on the tight races in the swing states. Then now its official  The electoral college is unfair , outdated , and irrational. The best arguments in favor of it in favor of it are mostly assertions without much basis in reality.To end with , Thats why you should keep the electoral college because ,  You should keep the electoral college , beacuse For one theres alot of electors like around 538. A majority of 270 electoral votes is required to elect the president. Then after the presidental election , your governor prepares a 'Certificate of Ascertainment ' listing all of the candidates who ran for president in your state along with the names of their respective electors.                    \n",
      "\n",
      "\n",
      "Critical Thinking Score: 5\n"
     ]
    }
   ],
   "source": [
    "text = \"Dear State senator , You should keep the electoral college , beacuse For one theres alot of electors like around 538. A majority of 270 electoral votes is required to elect the president. Then after the presidental election , your governor prepares a 'Certificate of Ascertainment ' listing all of the candidates who ran for president in your state along with the names of their respective electors.To begin with under the 23rd amendment of the constitution ,\"\"The District of Columbia is allocated 3 electors and treated like a state for purposes of the electoral college\"\" and for that saying , in the  following discussion , the  word state also refers to the district of columbia. Also Each and every candidate that is running for president in your state has his or her own group of electors.\"\"The electors are generally chosen by the candidate's political party , but state laws vary on how the electors are selected and what their responsibilities are.\"\"Foremost , under the electoral college system , voters vote not for the persident , but for a slate of electors , who in turn elect the president.\"\"Who are the electors? They can be anyone not holding public office. Who picks the electors in the  first place? it depends on the state. Now i understand sometimes at state conventions , Partys , central committee , sometimes the presidental candidates themselves , Also sometimes get confused about the electors and vote for the wrong candidate.\"\"The single best argument against the electoral college is what we might call the electoral college is what we might call the  disaster factor. Its Basically whenever theres a  really good argument thats what its called.Subconstantquintly , Sometimes most people worry about the prospect of a tie in the elections vote. \"\"In That case , the election would be thrown to the house of representatives , where state delegations vote on the president.\"\" At the most basic level , the electoral college is unfair to voters. \"\"because of the winner-take-all system in each state , candidates dont spend time in states they know they have no chance of winning , focusing only on the tight races in the \"\"swing\"\" states. Then now its official \"\" The electoral college is unfair , outdated , and irrational.\"\" The best arguments in favor of it in favor of it are mostly assertions without much basis in reality.To end with , Thats why you should keep the electoral college because ,  You should keep the electoral college , beacuse For one theres alot of electors like around 538. A majority of 270 electoral votes is required to elect the president. Then after the presidental election , your governor prepares a 'Certificate of Ascertainment ' listing all of the candidates who ran for president in your state along with the names of their respective electors.                    \"\n",
    "\n",
    "print(text)\n",
    "print('\\n')\n",
    "\n",
    "score = critical_thinking_analysis(text)\n",
    "print(f\"Critical Thinking Score: {score}\")"
   ]
  },
  {
   "cell_type": "code",
   "execution_count": 19,
   "id": "cc249cd4-f8ca-44c7-bcf6-6516cd3b9da6",
   "metadata": {
    "tags": []
   },
   "outputs": [
    {
     "name": "stdout",
     "output_type": "stream",
     "text": [
      "the colleg now has votes for vice presidant and there are 538 electors but 270 electors are what we are suppos to have 3 were picked by the state they have a presadent election for evry for years if you run for president you get your own group and you get alot of responsibilities and it is held evry tuseday and first monday and the winner takes it all and they have other cannidates to worrie about and the govener prepares for the presidans election and there are about 60% of voters if your the presidant you need to defened your titel back in 1960's in lousiana we almost succeeded but then they hired other electors to go agianst John F Kennedy and then evrybody was faithlessand now their are 500,000 voters and it has increased drasticly and we half to make a congress if your presidant 35,000,000 go to just pick a presidant 41,971 are in deadlock  in 1976 there were about 5,559 elections back then there are 25,000 media markets texas hade the most voters in 1987 and all of are presadents have at least 2,000 or more canadates bush hade the least votes sence 1888 61.5% of votes was compared to a voteing persentage of 51.3% and that was in the north and south 2012 they have boosted their companie and their attinstion by ads and some build boards 29 elctoral votes 3 were passed through their were 301 votes now there are 370 votes and this all happened in 1992 and there are more dimacrats in texas than there are in florida there are 20 in florida and 33 in texas and all of the elections are nation wide and voters do half of the work for just voteing and the pepole are going through the votes to see hew there new presidant is for the new year and all the votes came from Electrol colleg and all of the campains are in the small states and in texas they have turned off votes in texas and now there is less attenstion in the compainey and they do politicl votes and the pepole think that the voters should be the ones to decid the election and up state voters pay close attention to see hew wins.\n",
      "\n",
      "\n",
      "Critical Thinking Score: 2\n"
     ]
    }
   ],
   "source": [
    "text = \"the colleg now has votes for vice presidant and there are 538 electors but 270 electors are what we are suppos to have 3 were picked by the state they have a presadent election for evry for years if you run for president you get your own group and you get alot of responsibilities and it is held evry tuseday and first monday and the winner takes it all and they have other cannidates to worrie about and the govener prepares for the presidans election and there are about 60% of voters if your the presidant you need to defened your titel back in 1960's in lousiana we almost succeeded but then they hired other electors to go agianst John F Kennedy and then evrybody was faithlessand now their are 500,000 voters and it has increased drasticly and we half to make a congress if your presidant 35,000,000 go to just pick a presidant 41,971 are in deadlock  in 1976 there were about 5,559 elections back then there are 25,000 media markets texas hade the most voters in 1987 and all of are presadents have at least 2,000 or more canadates bush hade the least votes sence 1888 61.5% of votes was compared to a voteing persentage of 51.3% and that was in the north and south 2012 they have boosted their companie and their attinstion by ads and some build boards 29 elctoral votes 3 were passed through their were 301 votes now there are 370 votes and this all happened in 1992 and there are more dimacrats in texas than there are in florida there are 20 in florida and 33 in texas and all of the elections are nation wide and voters do half of the work for just voteing and the pepole are going through the votes to see hew there new presidant is for the new year and all the votes came from Electrol colleg and all of the campains are in the small states and in texas they have turned off votes in texas and now there is less attenstion in the compainey and they do politicl votes and the pepole think that the voters should be the ones to decid the election and up state voters pay close attention to see hew wins.\"\n",
    "\n",
    "print(text)\n",
    "print('\\n')\n",
    "\n",
    "score = critical_thinking_analysis(text)\n",
    "print(f\"Critical Thinking Score: {score}\")"
   ]
  },
  {
   "cell_type": "code",
   "execution_count": 20,
   "id": "c1442298-4a04-4bd7-9aa4-f0360576ace6",
   "metadata": {
    "tags": []
   },
   "outputs": [
    {
     "name": "stdout",
     "output_type": "stream",
     "text": [
      "Critical Thinking Score: 2\n"
     ]
    }
   ],
   "source": [
    "score = critical_thinking_analysis(text)\n",
    "print(f\"Critical Thinking Score: {score}\")"
   ]
  },
  {
   "cell_type": "markdown",
   "id": "d899f546-5b7b-44b9-ae55-aa82c54fe14a",
   "metadata": {
    "tags": []
   },
   "source": [
    "##### Generate a new column to store it"
   ]
  },
  {
   "cell_type": "code",
   "execution_count": 21,
   "id": "5bee461a-593d-4f44-bbb9-1e08feab132e",
   "metadata": {
    "tags": []
   },
   "outputs": [
    {
     "data": {
      "text/html": [
       "<div>\n",
       "<style scoped>\n",
       "    .dataframe tbody tr th:only-of-type {\n",
       "        vertical-align: middle;\n",
       "    }\n",
       "\n",
       "    .dataframe tbody tr th {\n",
       "        vertical-align: top;\n",
       "    }\n",
       "\n",
       "    .dataframe thead th {\n",
       "        text-align: right;\n",
       "    }\n",
       "</style>\n",
       "<table border=\"1\" class=\"dataframe\">\n",
       "  <thead>\n",
       "    <tr style=\"text-align: right;\">\n",
       "      <th></th>\n",
       "      <th>essay_id</th>\n",
       "      <th>full_text</th>\n",
       "      <th>score</th>\n",
       "    </tr>\n",
       "  </thead>\n",
       "  <tbody>\n",
       "    <tr>\n",
       "      <th>0</th>\n",
       "      <td>000d118</td>\n",
       "      <td>Many people have car where they live. The thin...</td>\n",
       "      <td>3</td>\n",
       "    </tr>\n",
       "    <tr>\n",
       "      <th>1</th>\n",
       "      <td>000fe60</td>\n",
       "      <td>I am a scientist at NASA that is discussing th...</td>\n",
       "      <td>3</td>\n",
       "    </tr>\n",
       "    <tr>\n",
       "      <th>2</th>\n",
       "      <td>001ab80</td>\n",
       "      <td>People always wish they had the same technolog...</td>\n",
       "      <td>4</td>\n",
       "    </tr>\n",
       "    <tr>\n",
       "      <th>3</th>\n",
       "      <td>001bdc0</td>\n",
       "      <td>We all heard about Venus, the planet without a...</td>\n",
       "      <td>4</td>\n",
       "    </tr>\n",
       "    <tr>\n",
       "      <th>4</th>\n",
       "      <td>002ba53</td>\n",
       "      <td>Dear, State Senator\\n\\nThis is a letter to arg...</td>\n",
       "      <td>3</td>\n",
       "    </tr>\n",
       "  </tbody>\n",
       "</table>\n",
       "</div>"
      ],
      "text/plain": [
       "  essay_id                                          full_text  score\n",
       "0  000d118  Many people have car where they live. The thin...      3\n",
       "1  000fe60  I am a scientist at NASA that is discussing th...      3\n",
       "2  001ab80  People always wish they had the same technolog...      4\n",
       "3  001bdc0  We all heard about Venus, the planet without a...      4\n",
       "4  002ba53  Dear, State Senator\\n\\nThis is a letter to arg...      3"
      ]
     },
     "execution_count": 21,
     "metadata": {},
     "output_type": "execute_result"
    }
   ],
   "source": [
    "train_data = pd.read_csv('.\\\\learning-agency-lab-automated-essay-scoring-2\\\\train.csv')\n",
    "train_data.head()"
   ]
  },
  {
   "cell_type": "code",
   "execution_count": 22,
   "id": "d973f5ac-8c82-4e94-9b38-45465df4500c",
   "metadata": {
    "tags": []
   },
   "outputs": [
    {
     "data": {
      "text/html": [
       "<div>\n",
       "<style scoped>\n",
       "    .dataframe tbody tr th:only-of-type {\n",
       "        vertical-align: middle;\n",
       "    }\n",
       "\n",
       "    .dataframe tbody tr th {\n",
       "        vertical-align: top;\n",
       "    }\n",
       "\n",
       "    .dataframe thead th {\n",
       "        text-align: right;\n",
       "    }\n",
       "</style>\n",
       "<table border=\"1\" class=\"dataframe\">\n",
       "  <thead>\n",
       "    <tr style=\"text-align: right;\">\n",
       "      <th></th>\n",
       "      <th>essay_id</th>\n",
       "      <th>full_text</th>\n",
       "      <th>score</th>\n",
       "      <th>critical</th>\n",
       "    </tr>\n",
       "  </thead>\n",
       "  <tbody>\n",
       "    <tr>\n",
       "      <th>0</th>\n",
       "      <td>000d118</td>\n",
       "      <td>Many people have car where they live. The thin...</td>\n",
       "      <td>3</td>\n",
       "      <td>5</td>\n",
       "    </tr>\n",
       "    <tr>\n",
       "      <th>1</th>\n",
       "      <td>000fe60</td>\n",
       "      <td>I am a scientist at NASA that is discussing th...</td>\n",
       "      <td>3</td>\n",
       "      <td>4</td>\n",
       "    </tr>\n",
       "    <tr>\n",
       "      <th>2</th>\n",
       "      <td>001ab80</td>\n",
       "      <td>People always wish they had the same technolog...</td>\n",
       "      <td>4</td>\n",
       "      <td>4</td>\n",
       "    </tr>\n",
       "    <tr>\n",
       "      <th>3</th>\n",
       "      <td>001bdc0</td>\n",
       "      <td>We all heard about Venus, the planet without a...</td>\n",
       "      <td>4</td>\n",
       "      <td>5</td>\n",
       "    </tr>\n",
       "    <tr>\n",
       "      <th>4</th>\n",
       "      <td>002ba53</td>\n",
       "      <td>Dear, State Senator\\n\\nThis is a letter to arg...</td>\n",
       "      <td>3</td>\n",
       "      <td>3</td>\n",
       "    </tr>\n",
       "    <tr>\n",
       "      <th>5</th>\n",
       "      <td>0030e86</td>\n",
       "      <td>If I were to choose between keeping the electo...</td>\n",
       "      <td>4</td>\n",
       "      <td>2</td>\n",
       "    </tr>\n",
       "    <tr>\n",
       "      <th>6</th>\n",
       "      <td>0033037</td>\n",
       "      <td>The posibilty of a face reconizing computer wo...</td>\n",
       "      <td>2</td>\n",
       "      <td>1</td>\n",
       "    </tr>\n",
       "    <tr>\n",
       "      <th>7</th>\n",
       "      <td>0033bf4</td>\n",
       "      <td>What is the Seagoing Cowboys progam?\\n\\nIt was...</td>\n",
       "      <td>3</td>\n",
       "      <td>4</td>\n",
       "    </tr>\n",
       "    <tr>\n",
       "      <th>8</th>\n",
       "      <td>0036253</td>\n",
       "      <td>The challenge of exploring Venus\\n\\nThis stori...</td>\n",
       "      <td>2</td>\n",
       "      <td>3</td>\n",
       "    </tr>\n",
       "    <tr>\n",
       "      <th>9</th>\n",
       "      <td>0040e27</td>\n",
       "      <td>There are many reasons why you should join sea...</td>\n",
       "      <td>3</td>\n",
       "      <td>3</td>\n",
       "    </tr>\n",
       "  </tbody>\n",
       "</table>\n",
       "</div>"
      ],
      "text/plain": [
       "  essay_id                                          full_text  score  critical\n",
       "0  000d118  Many people have car where they live. The thin...      3         5\n",
       "1  000fe60  I am a scientist at NASA that is discussing th...      3         4\n",
       "2  001ab80  People always wish they had the same technolog...      4         4\n",
       "3  001bdc0  We all heard about Venus, the planet without a...      4         5\n",
       "4  002ba53  Dear, State Senator\\n\\nThis is a letter to arg...      3         3\n",
       "5  0030e86  If I were to choose between keeping the electo...      4         2\n",
       "6  0033037  The posibilty of a face reconizing computer wo...      2         1\n",
       "7  0033bf4  What is the Seagoing Cowboys progam?\\n\\nIt was...      3         4\n",
       "8  0036253  The challenge of exploring Venus\\n\\nThis stori...      2         3\n",
       "9  0040e27  There are many reasons why you should join sea...      3         3"
      ]
     },
     "execution_count": 22,
     "metadata": {},
     "output_type": "execute_result"
    }
   ],
   "source": [
    "train_data['critical'] = train_data['full_text'].apply(lambda x:critical_thinking_analysis(x))\n",
    "train_data.head(10)"
   ]
  },
  {
   "cell_type": "markdown",
   "id": "be398d38-f710-4d6b-b520-18a25ccd6598",
   "metadata": {
    "tags": []
   },
   "source": [
    "##### visualize the relationships "
   ]
  },
  {
   "cell_type": "code",
   "execution_count": 23,
   "id": "24c731f1-c4c7-459c-89e1-b4b617f8c586",
   "metadata": {
    "tags": []
   },
   "outputs": [
    {
     "data": {
      "image/png": "[encoded data removed]",
      "text/plain": [
       "<Figure size 640x480 with 1 Axes>"
      ]
     },
     "metadata": {},
     "output_type": "display_data"
    }
   ],
   "source": [
    "# density scatter plot \n",
    "import matplotlib.pyplot as plt\n",
    "from scipy.stats import gaussian_kde\n",
    "\n",
    "x = train_data['critical']\n",
    "y = train_data['score']\n",
    "\n",
    "# Calculate the point density\n",
    "xy = np.vstack([x,y])\n",
    "z = gaussian_kde(xy)(xy)\n",
    "\n",
    "fig, ax = plt.subplots()\n",
    "ax.scatter(x, y, c=z, s=100)\n",
    "\n",
    "plt.show()\n"
   ]
  },
  {
   "cell_type": "code",
   "execution_count": 24,
   "id": "b52e04de-c52a-41e2-9003-61ec17e642ac",
   "metadata": {
    "tags": []
   },
   "outputs": [
    {
     "name": "stderr",
     "output_type": "stream",
     "text": [
      "C:\\Users\\LiangX\\AppData\\Local\\Temp\\ipykernel_36660\\904812044.py:9: FutureWarning: \n",
      "\n",
      "`shade` is now deprecated in favor of `fill`; setting `fill=True`.\n",
      "This will become an error in seaborn v0.14.0; please update your code.\n",
      "\n",
      "  sns.kdeplot(x=x, y=y, cmap=\"Blues\", shade=True, bw_adjust=0.5)\n",
      "C:\\Users\\LiangX\\anaconda3\\Lib\\site-packages\\seaborn\\_oldcore.py:1119: FutureWarning: use_inf_as_na option is deprecated and will be removed in a future version. Convert inf values to NaN before operating instead.\n",
      "  with pd.option_context('mode.use_inf_as_na', True):\n",
      "C:\\Users\\LiangX\\anaconda3\\Lib\\site-packages\\seaborn\\_oldcore.py:1119: FutureWarning: use_inf_as_na option is deprecated and will be removed in a future version. Convert inf values to NaN before operating instead.\n",
      "  with pd.option_context('mode.use_inf_as_na', True):\n"
     ]
    },
    {
     "data": {
      "image/png": "[encoded data removed]",
      "text/plain": [
       "<Figure size 800x500 with 1 Axes>"
      ]
     },
     "metadata": {},
     "output_type": "display_data"
    }
   ],
   "source": [
    "import matplotlib.pyplot as plt\n",
    "import seaborn as sns\n",
    "\n",
    "x = train_data['critical']\n",
    "y = train_data['score']\n",
    "\n",
    "# Plotting\n",
    "plt.figure(figsize=(8, 5))\n",
    "sns.kdeplot(x=x, y=y, cmap=\"Blues\", shade=True, bw_adjust=0.5)\n",
    "plt.scatter(x, y, s=5, color='red', alpha=0.5)\n",
    "plt.title('Density Scatter Plot')\n",
    "plt.xlabel('X = critical')\n",
    "plt.ylabel('Y = score')\n",
    "plt.show()\n"
   ]
  },
  {
   "cell_type": "code",
   "execution_count": null,
   "id": "49ca9eba-f4ad-40e4-9613-c3c467a2ebf8",
   "metadata": {},
   "outputs": [],
   "source": []
  },
  {
   "cell_type": "code",
   "execution_count": null,
   "id": "4fa63711-12a8-4017-b308-3e3b7f5e9a66",
   "metadata": {},
   "outputs": [],
   "source": []
  },
  {
   "cell_type": "markdown",
   "id": "284ff8f7-bd2b-438e-92a6-d1552e04643c",
   "metadata": {
    "jp-MarkdownHeadingCollapsed": true,
    "tags": []
   },
   "source": [
    "#### appropriate evidents"
   ]
  },
  {
   "cell_type": "code",
   "execution_count": 25,
   "id": "a2035dcc-7a4f-4cc0-91f6-e053da279c0c",
   "metadata": {
    "tags": []
   },
   "outputs": [],
   "source": [
    "# import spacy\n",
    "\n",
    "# # Load the installed model\n",
    "# nlp = spacy.load('en_core_web_sm')\n",
    "\n",
    "# # Test the model\n",
    "# doc = nlp(\"This is a test sentence.\")\n",
    "# for token in doc:\n",
    "#     print(token.text, token.pos_, token.dep_)\n"
   ]
  },
  {
   "cell_type": "code",
   "execution_count": 26,
   "id": "6bf96b92-4cac-4389-a413-1356326fee90",
   "metadata": {
    "tags": []
   },
   "outputs": [],
   "source": [
    "# # NER approach: Named Entity Recognition\n",
    "# import pandas as pd\n",
    "# import spacy\n",
    "\n",
    "# # Load the spaCy model (make sure to install it first: `python -m spacy download en_core_web_sm`)\n",
    "# nlp = spacy.load('en_core_web_sm')\n",
    "\n",
    "# # Example DataFrame with cleaned text\n",
    "# data = {\n",
    "#     'cleaned_text': [\n",
    "#         \"According to a recent study, climate change is causing more frequent and severe weather events.\",\n",
    "#         \"For example, the heatwaves in Europe last summer were attributed to climate change.\",\n",
    "#         \"The report from the Intergovernmental Panel on Climate Change (IPCC) provides evidence of rising sea levels.\"\n",
    "#     ]\n",
    "# }\n",
    "\n",
    "# df = pd.DataFrame(data)\n",
    "\n",
    "# # Initialize a list to store counts\n",
    "# counts = []\n",
    "\n",
    "# # Process each document in the DataFrame\n",
    "# for text in df['cleaned_text']:\n",
    "#     doc = nlp(text)\n",
    "#     example_count = 0\n",
    "\n",
    "#     # Iterate over sentences in the document\n",
    "#     for sentence in doc.sents:\n",
    "#         # Perform named entity recognition (NER)\n",
    "#         # for ent in sentence.ents:\n",
    "#             # Example: Counting 'studies', 'reports', or specific entities like 'IPCC'\n",
    "#             # if ent.label_ in ['ORG', 'PERSON', 'NORP']:  # Adjust labels based on your requirements\n",
    "#             #     example_count += 1\n",
    "#         example_count += len(sentence.ents)\n",
    "    \n",
    "#     counts.append(example_count)\n",
    "\n",
    "# # Add a new column to DataFrame with the counts\n",
    "# df['example_evidence_count'] = counts\n",
    "\n",
    "# # Display the updated DataFrame\n",
    "# print(df)\n"
   ]
  },
  {
   "cell_type": "code",
   "execution_count": 27,
   "id": "f012bf9c-75bd-4aea-b792-a5ac925debc1",
   "metadata": {
    "tags": []
   },
   "outputs": [
    {
     "data": {
      "text/plain": [
       "14"
      ]
     },
     "execution_count": 27,
     "metadata": {},
     "output_type": "execute_result"
    }
   ],
   "source": [
    "# NER approach: Named Entity Recognition\n",
    "import pandas as pd\n",
    "import spacy\n",
    "\n",
    "# Load the spaCy model (make sure to install it first: `python -m spacy download en_core_web_sm`)\n",
    "nlp = spacy.load('en_core_web_sm')\n",
    "\n",
    "def examples_count(text):\n",
    "    doc = nlp(text)\n",
    "    example_count = 0\n",
    "    # Iterate over sentences in the document\n",
    "    for sentence in doc.sents:\n",
    "        # Perform named entity recognition (NER)\n",
    "        for ent in sentence.ents:\n",
    "            # Example: Counting 'studies', 'reports', or specific entities like 'IPCC'\n",
    "            if ent.label_ in [\"CARDINAL\", \n",
    "                                \"DATE\",  \"EVENT\",  \"FAC\", \n",
    "                                \"GPE\",  \"LANGUAGE\", \"LAW\", \n",
    "                                \"LOC\", \"MONEY\", \"NORP\", \n",
    "                                \"ORDINAL\", \"ORG\", \"PERCENT\", \n",
    "                                \"PERSON\", \"PRODUCT\", \"QUANTITY\", \n",
    "                                \"TIME\", \"WORK_OF_ART\",\"LOC\", \n",
    "                                \"MISC\", \"ORG\", \"PER\"]:  # Adjust labels based on your requirements\n",
    "                example_count += 1\n",
    "            # example_count += len(sentence.ents)\n",
    "    return example_count\n",
    "    \n",
    "examples_count(\"\"\"Dear State senator , You should keep the electoral college , beacuse For one theres alot of electors \n",
    "like around 538. A majority of 270 electoral votes is required to elect the president. Then after the presidental election ,\n",
    "your governor prepares a 'Certificate of Ascertainment ' listing all of the candidates who ran for president in your state \n",
    "along with the names of their respective electors.To begin with under the 23rd amendment of the constitution ,The District of \n",
    "Columbia is allocated 3 electors and treated like a state for purposes of the electoral college and for that saying , \n",
    "in the  following discussion , the  word state also refers to the district of columbia. Also Each and every candidate that is \n",
    "running for president in your state has his or her own group of electors.The electors are generally chosen by the candidate's political party , \n",
    "but state laws vary on how the electors are selected and what their responsibilities are.Foremost , under the electoral college system , \n",
    "voters vote not for the persident , but for a slate of electors , who in turn elect the president.\n",
    "Who are the electors? They can be anyone not holding public office. Who picks the electors in the  first place? it depends on the state. \n",
    "Now i understand sometimes at state conventions , Partys , central committee , sometimes the presidental candidates themselves , \n",
    "Also sometimes get confused about the electors and vote for the wrong candidate.The single best argument against the electoral college is \n",
    "what we might call the electoral college is what we might call the  disaster factor. Its Basically whenever theres a  really good argument thats what its called.Subconstantquintly , \n",
    "Sometimes most people worry about the prospect of a tie in the elections vote. In That case , the election would be thrown to the house of representatives , \n",
    "where state delegations vote on the president. At the most basic level , the electoral college is unfair to voters. because of the winner-take-all system in each state ,\n",
    "candidates dont spend time in states they know they have no chance of winning , focusing only on the tight races in the swing states. Then now its official  The electoral college is unfair , \n",
    "outdated , and irrational. The best arguments in favor of it in favor of it are mostly assertions without much basis in reality.To end with , Thats why you should keep the electoral college because ,  \n",
    "You should keep the electoral college , beacuse For one theres alot of electors like around 538. A majority of 270 electoral votes is required to elect the president. \n",
    "Then after the presidental election , your governor prepares a 'Certificate of Ascertainment ' listing all of the candidates who ran for president in your state along with the names of their respective electors.  \"\"\")\n",
    "\n"
   ]
  },
  {
   "cell_type": "markdown",
   "id": "27165160-555c-4cf4-8ad4-47fa9bb57222",
   "metadata": {
    "tags": []
   },
   "source": [
    "##### Generate a new column to store it"
   ]
  },
  {
   "cell_type": "code",
   "execution_count": 28,
   "id": "f32d6892-8df0-4ec9-ad2c-8bc0dc144618",
   "metadata": {
    "tags": []
   },
   "outputs": [
    {
     "data": {
      "text/html": [
       "<div>\n",
       "<style scoped>\n",
       "    .dataframe tbody tr th:only-of-type {\n",
       "        vertical-align: middle;\n",
       "    }\n",
       "\n",
       "    .dataframe tbody tr th {\n",
       "        vertical-align: top;\n",
       "    }\n",
       "\n",
       "    .dataframe thead th {\n",
       "        text-align: right;\n",
       "    }\n",
       "</style>\n",
       "<table border=\"1\" class=\"dataframe\">\n",
       "  <thead>\n",
       "    <tr style=\"text-align: right;\">\n",
       "      <th></th>\n",
       "      <th>essay_id</th>\n",
       "      <th>full_text</th>\n",
       "      <th>score</th>\n",
       "      <th>critical</th>\n",
       "      <th>examples</th>\n",
       "    </tr>\n",
       "  </thead>\n",
       "  <tbody>\n",
       "    <tr>\n",
       "      <th>0</th>\n",
       "      <td>000d118</td>\n",
       "      <td>Many people have car where they live. The thin...</td>\n",
       "      <td>3</td>\n",
       "      <td>5</td>\n",
       "      <td>27</td>\n",
       "    </tr>\n",
       "    <tr>\n",
       "      <th>1</th>\n",
       "      <td>000fe60</td>\n",
       "      <td>I am a scientist at NASA that is discussing th...</td>\n",
       "      <td>3</td>\n",
       "      <td>4</td>\n",
       "      <td>12</td>\n",
       "    </tr>\n",
       "    <tr>\n",
       "      <th>2</th>\n",
       "      <td>001ab80</td>\n",
       "      <td>People always wish they had the same technolog...</td>\n",
       "      <td>4</td>\n",
       "      <td>4</td>\n",
       "      <td>2</td>\n",
       "    </tr>\n",
       "    <tr>\n",
       "      <th>3</th>\n",
       "      <td>001bdc0</td>\n",
       "      <td>We all heard about Venus, the planet without a...</td>\n",
       "      <td>4</td>\n",
       "      <td>5</td>\n",
       "      <td>29</td>\n",
       "    </tr>\n",
       "    <tr>\n",
       "      <th>4</th>\n",
       "      <td>002ba53</td>\n",
       "      <td>Dear, State Senator\\n\\nThis is a letter to arg...</td>\n",
       "      <td>3</td>\n",
       "      <td>3</td>\n",
       "      <td>22</td>\n",
       "    </tr>\n",
       "    <tr>\n",
       "      <th>5</th>\n",
       "      <td>0030e86</td>\n",
       "      <td>If I were to choose between keeping the electo...</td>\n",
       "      <td>4</td>\n",
       "      <td>2</td>\n",
       "      <td>17</td>\n",
       "    </tr>\n",
       "    <tr>\n",
       "      <th>6</th>\n",
       "      <td>0033037</td>\n",
       "      <td>The posibilty of a face reconizing computer wo...</td>\n",
       "      <td>2</td>\n",
       "      <td>1</td>\n",
       "      <td>0</td>\n",
       "    </tr>\n",
       "    <tr>\n",
       "      <th>7</th>\n",
       "      <td>0033bf4</td>\n",
       "      <td>What is the Seagoing Cowboys progam?\\n\\nIt was...</td>\n",
       "      <td>3</td>\n",
       "      <td>4</td>\n",
       "      <td>16</td>\n",
       "    </tr>\n",
       "    <tr>\n",
       "      <th>8</th>\n",
       "      <td>0036253</td>\n",
       "      <td>The challenge of exploring Venus\\n\\nThis stori...</td>\n",
       "      <td>2</td>\n",
       "      <td>3</td>\n",
       "      <td>10</td>\n",
       "    </tr>\n",
       "    <tr>\n",
       "      <th>9</th>\n",
       "      <td>0040e27</td>\n",
       "      <td>There are many reasons why you should join sea...</td>\n",
       "      <td>3</td>\n",
       "      <td>3</td>\n",
       "      <td>17</td>\n",
       "    </tr>\n",
       "  </tbody>\n",
       "</table>\n",
       "</div>"
      ],
      "text/plain": [
       "  essay_id                                          full_text  score  \\\n",
       "0  000d118  Many people have car where they live. The thin...      3   \n",
       "1  000fe60  I am a scientist at NASA that is discussing th...      3   \n",
       "2  001ab80  People always wish they had the same technolog...      4   \n",
       "3  001bdc0  We all heard about Venus, the planet without a...      4   \n",
       "4  002ba53  Dear, State Senator\\n\\nThis is a letter to arg...      3   \n",
       "5  0030e86  If I were to choose between keeping the electo...      4   \n",
       "6  0033037  The posibilty of a face reconizing computer wo...      2   \n",
       "7  0033bf4  What is the Seagoing Cowboys progam?\\n\\nIt was...      3   \n",
       "8  0036253  The challenge of exploring Venus\\n\\nThis stori...      2   \n",
       "9  0040e27  There are many reasons why you should join sea...      3   \n",
       "\n",
       "   critical  examples  \n",
       "0         5        27  \n",
       "1         4        12  \n",
       "2         4         2  \n",
       "3         5        29  \n",
       "4         3        22  \n",
       "5         2        17  \n",
       "6         1         0  \n",
       "7         4        16  \n",
       "8         3        10  \n",
       "9         3        17  "
      ]
     },
     "execution_count": 28,
     "metadata": {},
     "output_type": "execute_result"
    }
   ],
   "source": [
    "train_data['examples'] = train_data['full_text'].apply(lambda x:examples_count(x))\n",
    "train_data.head(10)"
   ]
  },
  {
   "cell_type": "markdown",
   "id": "6dc22db5-7719-464a-bba2-fffad364e5fd",
   "metadata": {
    "tags": []
   },
   "source": [
    "##### visualize the relationships "
   ]
  },
  {
   "cell_type": "code",
   "execution_count": 29,
   "id": "85c67570-54c5-4930-915e-4707f7d56cbf",
   "metadata": {
    "tags": []
   },
   "outputs": [
    {
     "data": {
      "image/png": "[encoded data removed]",
      "text/plain": [
       "<Figure size 640x480 with 1 Axes>"
      ]
     },
     "metadata": {},
     "output_type": "display_data"
    }
   ],
   "source": [
    "# density scatter plot \n",
    "import matplotlib.pyplot as plt\n",
    "from scipy.stats import gaussian_kde\n",
    "\n",
    "x = train_data['examples']\n",
    "y = train_data['score']\n",
    "\n",
    "# Calculate the point density\n",
    "xy = np.vstack([x,y])\n",
    "z = gaussian_kde(xy)(xy)\n",
    "\n",
    "fig, ax = plt.subplots()\n",
    "ax.scatter(x, y, c=z, s=100)\n",
    "\n",
    "plt.show()\n"
   ]
  },
  {
   "cell_type": "code",
   "execution_count": 30,
   "id": "e6a441b6-53ae-47fe-bfe0-eafc2eef4375",
   "metadata": {
    "tags": []
   },
   "outputs": [
    {
     "name": "stderr",
     "output_type": "stream",
     "text": [
      "C:\\Users\\LiangX\\AppData\\Local\\Temp\\ipykernel_36660\\2378938387.py:9: FutureWarning: \n",
      "\n",
      "`shade` is now deprecated in favor of `fill`; setting `fill=True`.\n",
      "This will become an error in seaborn v0.14.0; please update your code.\n",
      "\n",
      "  sns.kdeplot(x=x, y=y, cmap=\"Blues\", shade=True, bw_adjust=0.5)\n",
      "C:\\Users\\LiangX\\anaconda3\\Lib\\site-packages\\seaborn\\_oldcore.py:1119: FutureWarning: use_inf_as_na option is deprecated and will be removed in a future version. Convert inf values to NaN before operating instead.\n",
      "  with pd.option_context('mode.use_inf_as_na', True):\n",
      "C:\\Users\\LiangX\\anaconda3\\Lib\\site-packages\\seaborn\\_oldcore.py:1119: FutureWarning: use_inf_as_na option is deprecated and will be removed in a future version. Convert inf values to NaN before operating instead.\n",
      "  with pd.option_context('mode.use_inf_as_na', True):\n"
     ]
    },
    {
     "data": {
      "image/png": "[encoded data removed]",
      "text/plain": [
       "<Figure size 800x500 with 1 Axes>"
      ]
     },
     "metadata": {},
     "output_type": "display_data"
    }
   ],
   "source": [
    "import matplotlib.pyplot as plt\n",
    "import seaborn as sns\n",
    "\n",
    "x = train_data['examples']\n",
    "y = train_data['score']\n",
    "\n",
    "# Plotting\n",
    "plt.figure(figsize=(8, 5))\n",
    "sns.kdeplot(x=x, y=y, cmap=\"Blues\", shade=True, bw_adjust=0.5)\n",
    "plt.scatter(x, y, s=5, color='red', alpha=0.5)\n",
    "plt.title('Density Scatter Plot')\n",
    "plt.xlabel('X = examples')\n",
    "plt.ylabel('Y = score')\n",
    "plt.show()\n"
   ]
  },
  {
   "cell_type": "code",
   "execution_count": 31,
   "id": "61347264-910a-44be-9cc3-5463b525cff4",
   "metadata": {
    "tags": []
   },
   "outputs": [
    {
     "data": {
      "image/png": "[encoded data removed]",
      "text/plain": [
       "<Figure size 1000x600 with 1 Axes>"
      ]
     },
     "metadata": {},
     "output_type": "display_data"
    }
   ],
   "source": [
    "import matplotlib.pyplot as plt\n",
    "import seaborn as sns\n",
    "\n",
    "x = train_data['examples']\n",
    "y = train_data['score']\n",
    "\n",
    "# Plotting\n",
    "plt.figure(figsize=(10, 6))\n",
    "sns.boxplot(x=x, y=y, data=train_data, orient='h').invert_yaxis()\n",
    "plt.title('Box Plot of x by y Categories')\n",
    "plt.xlabel('X = examples')\n",
    "plt.ylabel('Y = score')\n",
    "plt.show()"
   ]
  },
  {
   "cell_type": "code",
   "execution_count": null,
   "id": "fa1f340b-4245-441a-938d-fb1195cc6de5",
   "metadata": {},
   "outputs": [],
   "source": []
  },
  {
   "cell_type": "markdown",
   "id": "cfda7f97-8c25-48b4-b1d5-fb595a2b7d44",
   "metadata": {
    "tags": []
   },
   "source": [
    "#### Cleaning data"
   ]
  },
  {
   "cell_type": "code",
   "execution_count": 32,
   "id": "69d7a24e-7407-4d22-a6ee-f34bf00deab3",
   "metadata": {
    "tags": []
   },
   "outputs": [],
   "source": [
    "def clean_text(text):\n",
    "    '''Make text lowercase, remove text in square brackets,remove links,remove punctuation\n",
    "    and remove words containing numbers.'''\n",
    "    text = str(text).lower()\n",
    "    text = re.sub('\\[.*?\\]', '', text)\n",
    "    text = re.sub('https?://\\S+|www\\.\\S+', '', text)\n",
    "    text = re.sub('<.*?>+', '', text)\n",
    "    text = re.sub('[%s]' % re.escape(string.punctuation), '', text)\n",
    "    text = re.sub('\\n', '', text)\n",
    "    text = re.sub('\\w*\\d\\w*', '', text)\n",
    "    return text"
   ]
  },
  {
   "cell_type": "code",
   "execution_count": 33,
   "id": "709d67d6-9f1d-4c05-bcd4-9e71bb1fa0f0",
   "metadata": {
    "tags": []
   },
   "outputs": [
    {
     "data": {
      "text/html": [
       "<div>\n",
       "<style scoped>\n",
       "    .dataframe tbody tr th:only-of-type {\n",
       "        vertical-align: middle;\n",
       "    }\n",
       "\n",
       "    .dataframe tbody tr th {\n",
       "        vertical-align: top;\n",
       "    }\n",
       "\n",
       "    .dataframe thead th {\n",
       "        text-align: right;\n",
       "    }\n",
       "</style>\n",
       "<table border=\"1\" class=\"dataframe\">\n",
       "  <thead>\n",
       "    <tr style=\"text-align: right;\">\n",
       "      <th></th>\n",
       "      <th>essay_id</th>\n",
       "      <th>full_text</th>\n",
       "      <th>score</th>\n",
       "      <th>critical</th>\n",
       "      <th>examples</th>\n",
       "    </tr>\n",
       "  </thead>\n",
       "  <tbody>\n",
       "    <tr>\n",
       "      <th>0</th>\n",
       "      <td>000d118</td>\n",
       "      <td>many people have car where they live the thing...</td>\n",
       "      <td>3</td>\n",
       "      <td>5</td>\n",
       "      <td>27</td>\n",
       "    </tr>\n",
       "    <tr>\n",
       "      <th>1</th>\n",
       "      <td>000fe60</td>\n",
       "      <td>i am a scientist at nasa that is discussing th...</td>\n",
       "      <td>3</td>\n",
       "      <td>4</td>\n",
       "      <td>12</td>\n",
       "    </tr>\n",
       "    <tr>\n",
       "      <th>2</th>\n",
       "      <td>001ab80</td>\n",
       "      <td>people always wish they had the same technolog...</td>\n",
       "      <td>4</td>\n",
       "      <td>4</td>\n",
       "      <td>2</td>\n",
       "    </tr>\n",
       "    <tr>\n",
       "      <th>3</th>\n",
       "      <td>001bdc0</td>\n",
       "      <td>we all heard about venus the planet without al...</td>\n",
       "      <td>4</td>\n",
       "      <td>5</td>\n",
       "      <td>29</td>\n",
       "    </tr>\n",
       "    <tr>\n",
       "      <th>4</th>\n",
       "      <td>002ba53</td>\n",
       "      <td>dear state senatorthis is a letter to argue in...</td>\n",
       "      <td>3</td>\n",
       "      <td>3</td>\n",
       "      <td>22</td>\n",
       "    </tr>\n",
       "    <tr>\n",
       "      <th>5</th>\n",
       "      <td>0030e86</td>\n",
       "      <td>if i were to choose between keeping the electo...</td>\n",
       "      <td>4</td>\n",
       "      <td>2</td>\n",
       "      <td>17</td>\n",
       "    </tr>\n",
       "    <tr>\n",
       "      <th>6</th>\n",
       "      <td>0033037</td>\n",
       "      <td>the posibilty of a face reconizing computer wo...</td>\n",
       "      <td>2</td>\n",
       "      <td>1</td>\n",
       "      <td>0</td>\n",
       "    </tr>\n",
       "    <tr>\n",
       "      <th>7</th>\n",
       "      <td>0033bf4</td>\n",
       "      <td>what is the seagoing cowboys progamit was to h...</td>\n",
       "      <td>3</td>\n",
       "      <td>4</td>\n",
       "      <td>16</td>\n",
       "    </tr>\n",
       "    <tr>\n",
       "      <th>8</th>\n",
       "      <td>0036253</td>\n",
       "      <td>the challenge of exploring venusthis storie is...</td>\n",
       "      <td>2</td>\n",
       "      <td>3</td>\n",
       "      <td>10</td>\n",
       "    </tr>\n",
       "    <tr>\n",
       "      <th>9</th>\n",
       "      <td>0040e27</td>\n",
       "      <td>there are many reasons why you should join sea...</td>\n",
       "      <td>3</td>\n",
       "      <td>3</td>\n",
       "      <td>17</td>\n",
       "    </tr>\n",
       "  </tbody>\n",
       "</table>\n",
       "</div>"
      ],
      "text/plain": [
       "  essay_id                                          full_text  score  \\\n",
       "0  000d118  many people have car where they live the thing...      3   \n",
       "1  000fe60  i am a scientist at nasa that is discussing th...      3   \n",
       "2  001ab80  people always wish they had the same technolog...      4   \n",
       "3  001bdc0  we all heard about venus the planet without al...      4   \n",
       "4  002ba53  dear state senatorthis is a letter to argue in...      3   \n",
       "5  0030e86  if i were to choose between keeping the electo...      4   \n",
       "6  0033037  the posibilty of a face reconizing computer wo...      2   \n",
       "7  0033bf4  what is the seagoing cowboys progamit was to h...      3   \n",
       "8  0036253  the challenge of exploring venusthis storie is...      2   \n",
       "9  0040e27  there are many reasons why you should join sea...      3   \n",
       "\n",
       "   critical  examples  \n",
       "0         5        27  \n",
       "1         4        12  \n",
       "2         4         2  \n",
       "3         5        29  \n",
       "4         3        22  \n",
       "5         2        17  \n",
       "6         1         0  \n",
       "7         4        16  \n",
       "8         3        10  \n",
       "9         3        17  "
      ]
     },
     "execution_count": 33,
     "metadata": {},
     "output_type": "execute_result"
    }
   ],
   "source": [
    "train_data['full_text'] = train_data['full_text'].apply(lambda x:clean_text(x))\n",
    "train_data.head(10)"
   ]
  },
  {
   "cell_type": "code",
   "execution_count": 34,
   "id": "6799b831-7600-4519-8ce4-aa813ab45c66",
   "metadata": {
    "tags": []
   },
   "outputs": [],
   "source": [
    "def remove_stopword(text):\n",
    "    if pd.notnull(text):\n",
    "        stop_words = set(stopwords.words('english'))\n",
    "        tokens = word_tokenize(text)\n",
    "        filtered_text = [word for word in tokens if word not in stop_words]\n",
    "        return ' '.join(filtered_text)\n",
    "    return text"
   ]
  },
  {
   "cell_type": "code",
   "execution_count": 35,
   "id": "c36b3da4-0303-4b72-9d68-d292dbe8b068",
   "metadata": {
    "tags": []
   },
   "outputs": [
    {
     "data": {
      "text/html": [
       "<div>\n",
       "<style scoped>\n",
       "    .dataframe tbody tr th:only-of-type {\n",
       "        vertical-align: middle;\n",
       "    }\n",
       "\n",
       "    .dataframe tbody tr th {\n",
       "        vertical-align: top;\n",
       "    }\n",
       "\n",
       "    .dataframe thead th {\n",
       "        text-align: right;\n",
       "    }\n",
       "</style>\n",
       "<table border=\"1\" class=\"dataframe\">\n",
       "  <thead>\n",
       "    <tr style=\"text-align: right;\">\n",
       "      <th></th>\n",
       "      <th>essay_id</th>\n",
       "      <th>full_text</th>\n",
       "      <th>score</th>\n",
       "      <th>critical</th>\n",
       "      <th>examples</th>\n",
       "    </tr>\n",
       "  </thead>\n",
       "  <tbody>\n",
       "    <tr>\n",
       "      <th>0</th>\n",
       "      <td>000d118</td>\n",
       "      <td>many people car live thing dont know use car a...</td>\n",
       "      <td>3</td>\n",
       "      <td>5</td>\n",
       "      <td>27</td>\n",
       "    </tr>\n",
       "    <tr>\n",
       "      <th>1</th>\n",
       "      <td>000fe60</td>\n",
       "      <td>scientist nasa discussing face mars explaining...</td>\n",
       "      <td>3</td>\n",
       "      <td>4</td>\n",
       "      <td>12</td>\n",
       "    </tr>\n",
       "    <tr>\n",
       "      <th>2</th>\n",
       "      <td>001ab80</td>\n",
       "      <td>people always wish technology seen movies best...</td>\n",
       "      <td>4</td>\n",
       "      <td>4</td>\n",
       "      <td>2</td>\n",
       "    </tr>\n",
       "    <tr>\n",
       "      <th>3</th>\n",
       "      <td>001bdc0</td>\n",
       "      <td>heard venus planet without almost oxygen earth...</td>\n",
       "      <td>4</td>\n",
       "      <td>5</td>\n",
       "      <td>29</td>\n",
       "    </tr>\n",
       "    <tr>\n",
       "      <th>4</th>\n",
       "      <td>002ba53</td>\n",
       "      <td>dear state senatorthis letter argue favor keep...</td>\n",
       "      <td>3</td>\n",
       "      <td>3</td>\n",
       "      <td>22</td>\n",
       "    </tr>\n",
       "    <tr>\n",
       "      <th>5</th>\n",
       "      <td>0030e86</td>\n",
       "      <td>choose keeping electoral college abolishing wo...</td>\n",
       "      <td>4</td>\n",
       "      <td>2</td>\n",
       "      <td>17</td>\n",
       "    </tr>\n",
       "    <tr>\n",
       "      <th>6</th>\n",
       "      <td>0033037</td>\n",
       "      <td>posibilty face reconizing computer would helpf...</td>\n",
       "      <td>2</td>\n",
       "      <td>1</td>\n",
       "      <td>0</td>\n",
       "    </tr>\n",
       "    <tr>\n",
       "      <th>7</th>\n",
       "      <td>0033bf4</td>\n",
       "      <td>seagoing cowboys progamit help many countries ...</td>\n",
       "      <td>3</td>\n",
       "      <td>4</td>\n",
       "      <td>16</td>\n",
       "    </tr>\n",
       "    <tr>\n",
       "      <th>8</th>\n",
       "      <td>0036253</td>\n",
       "      <td>challenge exploring venusthis storie challeng ...</td>\n",
       "      <td>2</td>\n",
       "      <td>3</td>\n",
       "      <td>10</td>\n",
       "    </tr>\n",
       "    <tr>\n",
       "      <th>9</th>\n",
       "      <td>0040e27</td>\n",
       "      <td>many reasons join seagoing cowboys program wou...</td>\n",
       "      <td>3</td>\n",
       "      <td>3</td>\n",
       "      <td>17</td>\n",
       "    </tr>\n",
       "  </tbody>\n",
       "</table>\n",
       "</div>"
      ],
      "text/plain": [
       "  essay_id                                          full_text  score  \\\n",
       "0  000d118  many people car live thing dont know use car a...      3   \n",
       "1  000fe60  scientist nasa discussing face mars explaining...      3   \n",
       "2  001ab80  people always wish technology seen movies best...      4   \n",
       "3  001bdc0  heard venus planet without almost oxygen earth...      4   \n",
       "4  002ba53  dear state senatorthis letter argue favor keep...      3   \n",
       "5  0030e86  choose keeping electoral college abolishing wo...      4   \n",
       "6  0033037  posibilty face reconizing computer would helpf...      2   \n",
       "7  0033bf4  seagoing cowboys progamit help many countries ...      3   \n",
       "8  0036253  challenge exploring venusthis storie challeng ...      2   \n",
       "9  0040e27  many reasons join seagoing cowboys program wou...      3   \n",
       "\n",
       "   critical  examples  \n",
       "0         5        27  \n",
       "1         4        12  \n",
       "2         4         2  \n",
       "3         5        29  \n",
       "4         3        22  \n",
       "5         2        17  \n",
       "6         1         0  \n",
       "7         4        16  \n",
       "8         3        10  \n",
       "9         3        17  "
      ]
     },
     "execution_count": 35,
     "metadata": {},
     "output_type": "execute_result"
    }
   ],
   "source": [
    "train_data['full_text'] = train_data['full_text'].apply(lambda x:remove_stopword(x))\n",
    "train_data.head(10)"
   ]
  },
  {
   "cell_type": "code",
   "execution_count": 36,
   "id": "d10ab26d-13e5-4893-a365-cf3f5478d94f",
   "metadata": {
    "tags": []
   },
   "outputs": [
    {
     "data": {
      "image/png": "[encoded data removed]",
      "text/plain": [
       "<Figure size 1000x500 with 1 Axes>"
      ]
     },
     "metadata": {},
     "output_type": "display_data"
    }
   ],
   "source": [
    "from wordcloud import WordCloud\n",
    "import matplotlib.pyplot as plt\n",
    "\n",
    "# Assuming you have a DataFrame named df with columns 'url' and 'text'\n",
    "\n",
    "# Tokenize the text\n",
    "tokens = word_tokenize(' '.join(train_data['full_text']))\n",
    "\n",
    "# Count the occurrence of each word\n",
    "word_counts = pd.Series(tokens).value_counts()\n",
    "\n",
    "# Generate word cloud\n",
    "wordcloud = WordCloud(width=800, height=400, background_color='white').generate_from_frequencies(word_counts)\n",
    "\n",
    "# Plot the word cloud\n",
    "plt.figure(figsize=(10, 5))\n",
    "plt.imshow(wordcloud, interpolation='bilinear')\n",
    "plt.axis('off')\n",
    "plt.show()"
   ]
  },
  {
   "cell_type": "markdown",
   "id": "41133eed-e557-4a19-ae85-eb9f32ec6f46",
   "metadata": {
    "jp-MarkdownHeadingCollapsed": true,
    "tags": []
   },
   "source": [
    "#### language mastery (feedback dataset)"
   ]
  },
  {
   "cell_type": "code",
   "execution_count": 37,
   "id": "c97b3259-ae1b-4242-bf7b-eaefed7ed4d5",
   "metadata": {
    "tags": []
   },
   "outputs": [
    {
     "name": "stderr",
     "output_type": "stream",
     "text": [
      "[nltk_data] Downloading package stopwords to\n",
      "[nltk_data]     C:\\Users\\LiangX\\AppData\\Roaming\\nltk_data...\n",
      "[nltk_data]   Package stopwords is already up-to-date!\n",
      "[nltk_data] Downloading package wordnet to\n",
      "[nltk_data]     C:\\Users\\LiangX\\AppData\\Roaming\\nltk_data...\n",
      "[nltk_data]   Package wordnet is already up-to-date!\n",
      "[nltk_data] Downloading package punkt to\n",
      "[nltk_data]     C:\\Users\\LiangX\\AppData\\Roaming\\nltk_data...\n",
      "[nltk_data]   Package punkt is already up-to-date!\n"
     ]
    },
    {
     "data": {
      "text/plain": [
       "True"
      ]
     },
     "execution_count": 37,
     "metadata": {},
     "output_type": "execute_result"
    }
   ],
   "source": [
    "import numpy as np # linear algebra\n",
    "import pandas as pd # data processing, CSV file I/O (e.g. pd.read_csv)\n",
    "import re\n",
    "import string\n",
    "import nltk\n",
    "from nltk.corpus import stopwords\n",
    "from nltk.tokenize import word_tokenize\n",
    "from nltk.stem import WordNetLemmatizer\n",
    "nltk.download('stopwords')\n",
    "import nltk\n",
    "nltk.download('wordnet')\n",
    "import nltk\n",
    "nltk.download('punkt')\n"
   ]
  },
  {
   "cell_type": "code",
   "execution_count": 38,
   "id": "7c4ce4a4-c984-42d2-8fe3-69e7a26ea8b4",
   "metadata": {
    "tags": []
   },
   "outputs": [],
   "source": [
    "from sklearn.model_selection import train_test_split\n",
    "from gensim.models import Word2Vec\n",
    "from tensorflow.keras.models import Sequential\n",
    "from tensorflow.keras.layers import LSTM, Dense, Embedding, Attention\n"
   ]
  },
  {
   "cell_type": "code",
   "execution_count": 39,
   "id": "9f7fd45c-3c3d-40fc-849c-0e815633a0c7",
   "metadata": {
    "tags": []
   },
   "outputs": [],
   "source": [
    "# import tensorflow_addons as tfa"
   ]
  },
  {
   "cell_type": "code",
   "execution_count": 40,
   "id": "81c321a3-7d3f-4a12-b9d5-8656c0b4d6ec",
   "metadata": {
    "tags": []
   },
   "outputs": [
    {
     "data": {
      "text/html": [
       "<div>\n",
       "<style scoped>\n",
       "    .dataframe tbody tr th:only-of-type {\n",
       "        vertical-align: middle;\n",
       "    }\n",
       "\n",
       "    .dataframe tbody tr th {\n",
       "        vertical-align: top;\n",
       "    }\n",
       "\n",
       "    .dataframe thead th {\n",
       "        text-align: right;\n",
       "    }\n",
       "</style>\n",
       "<table border=\"1\" class=\"dataframe\">\n",
       "  <thead>\n",
       "    <tr style=\"text-align: right;\">\n",
       "      <th></th>\n",
       "      <th>text_id</th>\n",
       "      <th>full_text</th>\n",
       "      <th>cohesion</th>\n",
       "      <th>syntax</th>\n",
       "      <th>vocabulary</th>\n",
       "      <th>phraseology</th>\n",
       "      <th>grammar</th>\n",
       "      <th>conventions</th>\n",
       "    </tr>\n",
       "  </thead>\n",
       "  <tbody>\n",
       "    <tr>\n",
       "      <th>0</th>\n",
       "      <td>0016926B079C</td>\n",
       "      <td>I think that students would benefit from learn...</td>\n",
       "      <td>3.5</td>\n",
       "      <td>3.5</td>\n",
       "      <td>3.0</td>\n",
       "      <td>3.0</td>\n",
       "      <td>4.0</td>\n",
       "      <td>3.0</td>\n",
       "    </tr>\n",
       "    <tr>\n",
       "      <th>1</th>\n",
       "      <td>0022683E9EA5</td>\n",
       "      <td>When a problem is a change you have to let it ...</td>\n",
       "      <td>2.5</td>\n",
       "      <td>2.5</td>\n",
       "      <td>3.0</td>\n",
       "      <td>2.0</td>\n",
       "      <td>2.0</td>\n",
       "      <td>2.5</td>\n",
       "    </tr>\n",
       "    <tr>\n",
       "      <th>2</th>\n",
       "      <td>00299B378633</td>\n",
       "      <td>Dear, Principal\\n\\nIf u change the school poli...</td>\n",
       "      <td>3.0</td>\n",
       "      <td>3.5</td>\n",
       "      <td>3.0</td>\n",
       "      <td>3.0</td>\n",
       "      <td>3.0</td>\n",
       "      <td>2.5</td>\n",
       "    </tr>\n",
       "    <tr>\n",
       "      <th>3</th>\n",
       "      <td>003885A45F42</td>\n",
       "      <td>The best time in life is when you become yours...</td>\n",
       "      <td>4.5</td>\n",
       "      <td>4.5</td>\n",
       "      <td>4.5</td>\n",
       "      <td>4.5</td>\n",
       "      <td>4.0</td>\n",
       "      <td>5.0</td>\n",
       "    </tr>\n",
       "    <tr>\n",
       "      <th>4</th>\n",
       "      <td>0049B1DF5CCC</td>\n",
       "      <td>Small act of kindness can impact in other peop...</td>\n",
       "      <td>2.5</td>\n",
       "      <td>3.0</td>\n",
       "      <td>3.0</td>\n",
       "      <td>3.0</td>\n",
       "      <td>2.5</td>\n",
       "      <td>2.5</td>\n",
       "    </tr>\n",
       "    <tr>\n",
       "      <th>...</th>\n",
       "      <td>...</td>\n",
       "      <td>...</td>\n",
       "      <td>...</td>\n",
       "      <td>...</td>\n",
       "      <td>...</td>\n",
       "      <td>...</td>\n",
       "      <td>...</td>\n",
       "      <td>...</td>\n",
       "    </tr>\n",
       "    <tr>\n",
       "      <th>3906</th>\n",
       "      <td>FFD29828A873</td>\n",
       "      <td>I believe using cellphones in class for educat...</td>\n",
       "      <td>2.5</td>\n",
       "      <td>3.0</td>\n",
       "      <td>3.0</td>\n",
       "      <td>3.5</td>\n",
       "      <td>2.5</td>\n",
       "      <td>2.5</td>\n",
       "    </tr>\n",
       "    <tr>\n",
       "      <th>3907</th>\n",
       "      <td>FFD9A83B0849</td>\n",
       "      <td>Working alone, students do not have to argue w...</td>\n",
       "      <td>4.0</td>\n",
       "      <td>4.0</td>\n",
       "      <td>4.0</td>\n",
       "      <td>4.0</td>\n",
       "      <td>3.5</td>\n",
       "      <td>3.0</td>\n",
       "    </tr>\n",
       "    <tr>\n",
       "      <th>3908</th>\n",
       "      <td>FFDC4011AC9C</td>\n",
       "      <td>\"A problem is a chance for you to do your best...</td>\n",
       "      <td>2.5</td>\n",
       "      <td>3.0</td>\n",
       "      <td>3.0</td>\n",
       "      <td>3.0</td>\n",
       "      <td>3.5</td>\n",
       "      <td>3.0</td>\n",
       "    </tr>\n",
       "    <tr>\n",
       "      <th>3909</th>\n",
       "      <td>FFE16D704B16</td>\n",
       "      <td>Many people disagree with Albert Schweitzer's ...</td>\n",
       "      <td>4.0</td>\n",
       "      <td>4.5</td>\n",
       "      <td>4.5</td>\n",
       "      <td>4.0</td>\n",
       "      <td>4.5</td>\n",
       "      <td>4.5</td>\n",
       "    </tr>\n",
       "    <tr>\n",
       "      <th>3910</th>\n",
       "      <td>FFED00D6E0BD</td>\n",
       "      <td>Do you think that failure is the main thing fo...</td>\n",
       "      <td>3.5</td>\n",
       "      <td>2.5</td>\n",
       "      <td>3.5</td>\n",
       "      <td>3.0</td>\n",
       "      <td>3.0</td>\n",
       "      <td>3.5</td>\n",
       "    </tr>\n",
       "  </tbody>\n",
       "</table>\n",
       "<p>3911 rows × 8 columns</p>\n",
       "</div>"
      ],
      "text/plain": [
       "           text_id                                          full_text  \\\n",
       "0     0016926B079C  I think that students would benefit from learn...   \n",
       "1     0022683E9EA5  When a problem is a change you have to let it ...   \n",
       "2     00299B378633  Dear, Principal\\n\\nIf u change the school poli...   \n",
       "3     003885A45F42  The best time in life is when you become yours...   \n",
       "4     0049B1DF5CCC  Small act of kindness can impact in other peop...   \n",
       "...            ...                                                ...   \n",
       "3906  FFD29828A873  I believe using cellphones in class for educat...   \n",
       "3907  FFD9A83B0849  Working alone, students do not have to argue w...   \n",
       "3908  FFDC4011AC9C  \"A problem is a chance for you to do your best...   \n",
       "3909  FFE16D704B16  Many people disagree with Albert Schweitzer's ...   \n",
       "3910  FFED00D6E0BD  Do you think that failure is the main thing fo...   \n",
       "\n",
       "      cohesion  syntax  vocabulary  phraseology  grammar  conventions  \n",
       "0          3.5     3.5         3.0          3.0      4.0          3.0  \n",
       "1          2.5     2.5         3.0          2.0      2.0          2.5  \n",
       "2          3.0     3.5         3.0          3.0      3.0          2.5  \n",
       "3          4.5     4.5         4.5          4.5      4.0          5.0  \n",
       "4          2.5     3.0         3.0          3.0      2.5          2.5  \n",
       "...        ...     ...         ...          ...      ...          ...  \n",
       "3906       2.5     3.0         3.0          3.5      2.5          2.5  \n",
       "3907       4.0     4.0         4.0          4.0      3.5          3.0  \n",
       "3908       2.5     3.0         3.0          3.0      3.5          3.0  \n",
       "3909       4.0     4.5         4.5          4.0      4.5          4.5  \n",
       "3910       3.5     2.5         3.5          3.0      3.0          3.5  \n",
       "\n",
       "[3911 rows x 8 columns]"
      ]
     },
     "execution_count": 40,
     "metadata": {},
     "output_type": "execute_result"
    }
   ],
   "source": [
    "train = pd.read_csv(\".//feedback-prize-english-language-learning//train.csv\")\n",
    "train"
   ]
  },
  {
   "cell_type": "code",
   "execution_count": 41,
   "id": "4a29858f-018b-45cb-a9fe-75e5c1dbf764",
   "metadata": {
    "tags": []
   },
   "outputs": [],
   "source": [
    "def clean_text(text):\n",
    "    '''Make text lowercase, remove text in square brackets,remove links,remove punctuation\n",
    "    and remove words containing numbers.'''\n",
    "    text = str(text).lower()\n",
    "    text = re.sub('\\[.*?\\]', '', text)\n",
    "    text = re.sub('https?://\\S+|www\\.\\S+', '', text)\n",
    "    text = re.sub('<.*?>+', '', text)\n",
    "    text = re.sub('[%s]' % re.escape(string.punctuation), '', text)\n",
    "    text = re.sub('\\n', '', text)\n",
    "    text = re.sub('\\w*\\d\\w*', '', text)\n",
    "    return text"
   ]
  },
  {
   "cell_type": "code",
   "execution_count": 42,
   "id": "0e26b0b9-feb4-44d9-b433-7686a7b88c2f",
   "metadata": {
    "tags": []
   },
   "outputs": [
    {
     "data": {
      "text/html": [
       "<div>\n",
       "<style scoped>\n",
       "    .dataframe tbody tr th:only-of-type {\n",
       "        vertical-align: middle;\n",
       "    }\n",
       "\n",
       "    .dataframe tbody tr th {\n",
       "        vertical-align: top;\n",
       "    }\n",
       "\n",
       "    .dataframe thead th {\n",
       "        text-align: right;\n",
       "    }\n",
       "</style>\n",
       "<table border=\"1\" class=\"dataframe\">\n",
       "  <thead>\n",
       "    <tr style=\"text-align: right;\">\n",
       "      <th></th>\n",
       "      <th>text_id</th>\n",
       "      <th>full_text</th>\n",
       "      <th>cohesion</th>\n",
       "      <th>syntax</th>\n",
       "      <th>vocabulary</th>\n",
       "      <th>phraseology</th>\n",
       "      <th>grammar</th>\n",
       "      <th>conventions</th>\n",
       "    </tr>\n",
       "  </thead>\n",
       "  <tbody>\n",
       "    <tr>\n",
       "      <th>0</th>\n",
       "      <td>0016926B079C</td>\n",
       "      <td>i think that students would benefit from learn...</td>\n",
       "      <td>3.5</td>\n",
       "      <td>3.5</td>\n",
       "      <td>3.0</td>\n",
       "      <td>3.0</td>\n",
       "      <td>4.0</td>\n",
       "      <td>3.0</td>\n",
       "    </tr>\n",
       "    <tr>\n",
       "      <th>1</th>\n",
       "      <td>0022683E9EA5</td>\n",
       "      <td>when a problem is a change you have to let it ...</td>\n",
       "      <td>2.5</td>\n",
       "      <td>2.5</td>\n",
       "      <td>3.0</td>\n",
       "      <td>2.0</td>\n",
       "      <td>2.0</td>\n",
       "      <td>2.5</td>\n",
       "    </tr>\n",
       "    <tr>\n",
       "      <th>2</th>\n",
       "      <td>00299B378633</td>\n",
       "      <td>dear principalif u change the school policy of...</td>\n",
       "      <td>3.0</td>\n",
       "      <td>3.5</td>\n",
       "      <td>3.0</td>\n",
       "      <td>3.0</td>\n",
       "      <td>3.0</td>\n",
       "      <td>2.5</td>\n",
       "    </tr>\n",
       "    <tr>\n",
       "      <th>3</th>\n",
       "      <td>003885A45F42</td>\n",
       "      <td>the best time in life is when you become yours...</td>\n",
       "      <td>4.5</td>\n",
       "      <td>4.5</td>\n",
       "      <td>4.5</td>\n",
       "      <td>4.5</td>\n",
       "      <td>4.0</td>\n",
       "      <td>5.0</td>\n",
       "    </tr>\n",
       "    <tr>\n",
       "      <th>4</th>\n",
       "      <td>0049B1DF5CCC</td>\n",
       "      <td>small act of kindness can impact in other peop...</td>\n",
       "      <td>2.5</td>\n",
       "      <td>3.0</td>\n",
       "      <td>3.0</td>\n",
       "      <td>3.0</td>\n",
       "      <td>2.5</td>\n",
       "      <td>2.5</td>\n",
       "    </tr>\n",
       "  </tbody>\n",
       "</table>\n",
       "</div>"
      ],
      "text/plain": [
       "        text_id                                          full_text  cohesion  \\\n",
       "0  0016926B079C  i think that students would benefit from learn...       3.5   \n",
       "1  0022683E9EA5  when a problem is a change you have to let it ...       2.5   \n",
       "2  00299B378633  dear principalif u change the school policy of...       3.0   \n",
       "3  003885A45F42  the best time in life is when you become yours...       4.5   \n",
       "4  0049B1DF5CCC  small act of kindness can impact in other peop...       2.5   \n",
       "\n",
       "   syntax  vocabulary  phraseology  grammar  conventions  \n",
       "0     3.5         3.0          3.0      4.0          3.0  \n",
       "1     2.5         3.0          2.0      2.0          2.5  \n",
       "2     3.5         3.0          3.0      3.0          2.5  \n",
       "3     4.5         4.5          4.5      4.0          5.0  \n",
       "4     3.0         3.0          3.0      2.5          2.5  "
      ]
     },
     "execution_count": 42,
     "metadata": {},
     "output_type": "execute_result"
    }
   ],
   "source": [
    "train['full_text'] = train['full_text'].apply(lambda x:clean_text(x))\n",
    "train.head()"
   ]
  },
  {
   "cell_type": "code",
   "execution_count": 43,
   "id": "41ebc949-3ed6-457a-a289-af83d25b698b",
   "metadata": {
    "tags": []
   },
   "outputs": [],
   "source": [
    "def remove_stopword(text):\n",
    "    if pd.notnull(text):\n",
    "        stop_words = set(stopwords.words('english'))\n",
    "        tokens = word_tokenize(text)\n",
    "        filtered_text = [word for word in tokens if word not in stop_words]\n",
    "        return ' '.join(filtered_text)\n",
    "    return text"
   ]
  },
  {
   "cell_type": "code",
   "execution_count": 44,
   "id": "c06ab77f-13dc-48ef-b212-bdb002737ad1",
   "metadata": {
    "tags": []
   },
   "outputs": [
    {
     "data": {
      "text/html": [
       "<div>\n",
       "<style scoped>\n",
       "    .dataframe tbody tr th:only-of-type {\n",
       "        vertical-align: middle;\n",
       "    }\n",
       "\n",
       "    .dataframe tbody tr th {\n",
       "        vertical-align: top;\n",
       "    }\n",
       "\n",
       "    .dataframe thead th {\n",
       "        text-align: right;\n",
       "    }\n",
       "</style>\n",
       "<table border=\"1\" class=\"dataframe\">\n",
       "  <thead>\n",
       "    <tr style=\"text-align: right;\">\n",
       "      <th></th>\n",
       "      <th>text_id</th>\n",
       "      <th>full_text</th>\n",
       "      <th>cohesion</th>\n",
       "      <th>syntax</th>\n",
       "      <th>vocabulary</th>\n",
       "      <th>phraseology</th>\n",
       "      <th>grammar</th>\n",
       "      <th>conventions</th>\n",
       "    </tr>\n",
       "  </thead>\n",
       "  <tbody>\n",
       "    <tr>\n",
       "      <th>0</th>\n",
       "      <td>0016926B079C</td>\n",
       "      <td>think students would benefit learning homebeca...</td>\n",
       "      <td>3.5</td>\n",
       "      <td>3.5</td>\n",
       "      <td>3.0</td>\n",
       "      <td>3.0</td>\n",
       "      <td>4.0</td>\n",
       "      <td>3.0</td>\n",
       "    </tr>\n",
       "    <tr>\n",
       "      <th>1</th>\n",
       "      <td>0022683E9EA5</td>\n",
       "      <td>problem change let best matter happening chang...</td>\n",
       "      <td>2.5</td>\n",
       "      <td>2.5</td>\n",
       "      <td>3.0</td>\n",
       "      <td>2.0</td>\n",
       "      <td>2.0</td>\n",
       "      <td>2.5</td>\n",
       "    </tr>\n",
       "    <tr>\n",
       "      <th>2</th>\n",
       "      <td>00299B378633</td>\n",
       "      <td>dear principalif u change school policy grade ...</td>\n",
       "      <td>3.0</td>\n",
       "      <td>3.5</td>\n",
       "      <td>3.0</td>\n",
       "      <td>3.0</td>\n",
       "      <td>3.0</td>\n",
       "      <td>2.5</td>\n",
       "    </tr>\n",
       "    <tr>\n",
       "      <th>3</th>\n",
       "      <td>003885A45F42</td>\n",
       "      <td>best time life become agree greatest accomplis...</td>\n",
       "      <td>4.5</td>\n",
       "      <td>4.5</td>\n",
       "      <td>4.5</td>\n",
       "      <td>4.5</td>\n",
       "      <td>4.0</td>\n",
       "      <td>5.0</td>\n",
       "    </tr>\n",
       "    <tr>\n",
       "      <th>4</th>\n",
       "      <td>0049B1DF5CCC</td>\n",
       "      <td>small act kindness impact people change people...</td>\n",
       "      <td>2.5</td>\n",
       "      <td>3.0</td>\n",
       "      <td>3.0</td>\n",
       "      <td>3.0</td>\n",
       "      <td>2.5</td>\n",
       "      <td>2.5</td>\n",
       "    </tr>\n",
       "  </tbody>\n",
       "</table>\n",
       "</div>"
      ],
      "text/plain": [
       "        text_id                                          full_text  cohesion  \\\n",
       "0  0016926B079C  think students would benefit learning homebeca...       3.5   \n",
       "1  0022683E9EA5  problem change let best matter happening chang...       2.5   \n",
       "2  00299B378633  dear principalif u change school policy grade ...       3.0   \n",
       "3  003885A45F42  best time life become agree greatest accomplis...       4.5   \n",
       "4  0049B1DF5CCC  small act kindness impact people change people...       2.5   \n",
       "\n",
       "   syntax  vocabulary  phraseology  grammar  conventions  \n",
       "0     3.5         3.0          3.0      4.0          3.0  \n",
       "1     2.5         3.0          2.0      2.0          2.5  \n",
       "2     3.5         3.0          3.0      3.0          2.5  \n",
       "3     4.5         4.5          4.5      4.0          5.0  \n",
       "4     3.0         3.0          3.0      2.5          2.5  "
      ]
     },
     "execution_count": 44,
     "metadata": {},
     "output_type": "execute_result"
    }
   ],
   "source": [
    "train['full_text'] = train['full_text'].apply(lambda x:remove_stopword(x))\n",
    "train.head()"
   ]
  },
  {
   "cell_type": "code",
   "execution_count": 45,
   "id": "a9f04626-f1bb-4521-a22d-89438fe5991f",
   "metadata": {
    "tags": []
   },
   "outputs": [
    {
     "data": {
      "text/html": [
       "<div>\n",
       "<style scoped>\n",
       "    .dataframe tbody tr th:only-of-type {\n",
       "        vertical-align: middle;\n",
       "    }\n",
       "\n",
       "    .dataframe tbody tr th {\n",
       "        vertical-align: top;\n",
       "    }\n",
       "\n",
       "    .dataframe thead th {\n",
       "        text-align: right;\n",
       "    }\n",
       "</style>\n",
       "<table border=\"1\" class=\"dataframe\">\n",
       "  <thead>\n",
       "    <tr style=\"text-align: right;\">\n",
       "      <th></th>\n",
       "      <th>cohesion</th>\n",
       "      <th>syntax</th>\n",
       "      <th>vocabulary</th>\n",
       "      <th>phraseology</th>\n",
       "      <th>grammar</th>\n",
       "      <th>conventions</th>\n",
       "    </tr>\n",
       "  </thead>\n",
       "  <tbody>\n",
       "    <tr>\n",
       "      <th>count</th>\n",
       "      <td>3911.000000</td>\n",
       "      <td>3911.000000</td>\n",
       "      <td>3911.000000</td>\n",
       "      <td>3911.000000</td>\n",
       "      <td>3911.000000</td>\n",
       "      <td>3911.000000</td>\n",
       "    </tr>\n",
       "    <tr>\n",
       "      <th>mean</th>\n",
       "      <td>3.127077</td>\n",
       "      <td>3.028254</td>\n",
       "      <td>3.235745</td>\n",
       "      <td>3.116850</td>\n",
       "      <td>3.032856</td>\n",
       "      <td>3.081053</td>\n",
       "    </tr>\n",
       "    <tr>\n",
       "      <th>std</th>\n",
       "      <td>0.662542</td>\n",
       "      <td>0.644399</td>\n",
       "      <td>0.583148</td>\n",
       "      <td>0.655997</td>\n",
       "      <td>0.699841</td>\n",
       "      <td>0.671450</td>\n",
       "    </tr>\n",
       "    <tr>\n",
       "      <th>min</th>\n",
       "      <td>1.000000</td>\n",
       "      <td>1.000000</td>\n",
       "      <td>1.000000</td>\n",
       "      <td>1.000000</td>\n",
       "      <td>1.000000</td>\n",
       "      <td>1.000000</td>\n",
       "    </tr>\n",
       "    <tr>\n",
       "      <th>25%</th>\n",
       "      <td>2.500000</td>\n",
       "      <td>2.500000</td>\n",
       "      <td>3.000000</td>\n",
       "      <td>2.500000</td>\n",
       "      <td>2.500000</td>\n",
       "      <td>2.500000</td>\n",
       "    </tr>\n",
       "    <tr>\n",
       "      <th>50%</th>\n",
       "      <td>3.000000</td>\n",
       "      <td>3.000000</td>\n",
       "      <td>3.000000</td>\n",
       "      <td>3.000000</td>\n",
       "      <td>3.000000</td>\n",
       "      <td>3.000000</td>\n",
       "    </tr>\n",
       "    <tr>\n",
       "      <th>75%</th>\n",
       "      <td>3.500000</td>\n",
       "      <td>3.500000</td>\n",
       "      <td>3.500000</td>\n",
       "      <td>3.500000</td>\n",
       "      <td>3.500000</td>\n",
       "      <td>3.500000</td>\n",
       "    </tr>\n",
       "    <tr>\n",
       "      <th>max</th>\n",
       "      <td>5.000000</td>\n",
       "      <td>5.000000</td>\n",
       "      <td>5.000000</td>\n",
       "      <td>5.000000</td>\n",
       "      <td>5.000000</td>\n",
       "      <td>5.000000</td>\n",
       "    </tr>\n",
       "  </tbody>\n",
       "</table>\n",
       "</div>"
      ],
      "text/plain": [
       "          cohesion       syntax   vocabulary  phraseology      grammar  \\\n",
       "count  3911.000000  3911.000000  3911.000000  3911.000000  3911.000000   \n",
       "mean      3.127077     3.028254     3.235745     3.116850     3.032856   \n",
       "std       0.662542     0.644399     0.583148     0.655997     0.699841   \n",
       "min       1.000000     1.000000     1.000000     1.000000     1.000000   \n",
       "25%       2.500000     2.500000     3.000000     2.500000     2.500000   \n",
       "50%       3.000000     3.000000     3.000000     3.000000     3.000000   \n",
       "75%       3.500000     3.500000     3.500000     3.500000     3.500000   \n",
       "max       5.000000     5.000000     5.000000     5.000000     5.000000   \n",
       "\n",
       "       conventions  \n",
       "count  3911.000000  \n",
       "mean      3.081053  \n",
       "std       0.671450  \n",
       "min       1.000000  \n",
       "25%       2.500000  \n",
       "50%       3.000000  \n",
       "75%       3.500000  \n",
       "max       5.000000  "
      ]
     },
     "execution_count": 45,
     "metadata": {},
     "output_type": "execute_result"
    }
   ],
   "source": [
    "train.describe()"
   ]
  },
  {
   "cell_type": "code",
   "execution_count": 46,
   "id": "e6d3357a-5f2b-44dd-a306-27c15f570b24",
   "metadata": {
    "tags": []
   },
   "outputs": [],
   "source": [
    "text_data = train['full_text']\n",
    "target_data = train[['cohesion', 'syntax', 'vocabulary', 'phraseology', 'grammar', 'conventions']]"
   ]
  },
  {
   "cell_type": "code",
   "execution_count": 47,
   "id": "ab2f8b0f-4af9-4f08-8841-0930255d2920",
   "metadata": {
    "tags": []
   },
   "outputs": [],
   "source": [
    "# Preprocess text data (tokenization)\n",
    "tokenized_texts = [text.split() for text in text_data]\n",
    "\n",
    "# Train Word2Vec model\n",
    "word2vec_model = Word2Vec(sentences=tokenized_texts, vector_size=100, window=5, min_count=1, workers=4)\n",
    "\n",
    "# Convert text data to Word2Vec vectors\n",
    "def text_to_vectors(texts, model):\n",
    "    vectors = []\n",
    "    for text in texts:\n",
    "        words = text.split()\n",
    "        text_vector = np.mean([model.wv[word] for word in words if word in model.wv], axis=0)\n",
    "        vectors.append(text_vector)\n",
    "    return np.array(vectors)\n",
    "\n",
    "X = text_to_vectors(text_data, word2vec_model)\n",
    "\n",
    "# Handling missing vectors (if any)\n",
    "X = np.nan_to_num(X)"
   ]
  },
  {
   "cell_type": "code",
   "execution_count": 48,
   "id": "981d2cdc-f16b-4bc2-8c73-09bc8c8381c0",
   "metadata": {
    "tags": []
   },
   "outputs": [],
   "source": [
    "# Split data into training and testing sets\n",
    "X_train, X_test, y_train, y_test = train_test_split(X, target_data, test_size=0.2, random_state=42)"
   ]
  },
  {
   "cell_type": "code",
   "execution_count": 49,
   "id": "915329da-49c0-462e-8afb-7130c83ce34a",
   "metadata": {
    "tags": []
   },
   "outputs": [],
   "source": [
    "# Reshape the data for LSTM input\n",
    "X_train = X_train.reshape((X_train.shape[0], 1, X_train.shape[1]))\n",
    "X_test = X_test.reshape((X_test.shape[0], 1, X_test.shape[1]))"
   ]
  },
  {
   "cell_type": "code",
   "execution_count": 50,
   "id": "9a6757b9-ea68-4759-8a6c-d32225757008",
   "metadata": {
    "tags": []
   },
   "outputs": [
    {
     "name": "stderr",
     "output_type": "stream",
     "text": [
      "C:\\Users\\LiangX\\anaconda3\\Lib\\site-packages\\keras\\src\\layers\\rnn\\rnn.py:204: UserWarning: Do not pass an `input_shape`/`input_dim` argument to a layer. When using Sequential models, prefer using an `Input(shape)` object as the first layer in the model instead.\n",
      "  super().__init__(**kwargs)\n"
     ]
    }
   ],
   "source": [
    "# Build the LSTM model\n",
    "model = Sequential()\n",
    "model.add(LSTM(50, return_sequences=False, input_shape=(X_train.shape[1], X_train.shape[2])))\n",
    "model.add(Dense(25))\n",
    "model.add(Dense(6))  # Output layer for 6 numerical columns\n",
    "\n",
    "model.compile(optimizer='adam', loss='mean_squared_error')\n"
   ]
  },
  {
   "cell_type": "code",
   "execution_count": 51,
   "id": "ef485523-6819-431e-b422-e9dc20d99755",
   "metadata": {
    "tags": []
   },
   "outputs": [
    {
     "name": "stdout",
     "output_type": "stream",
     "text": [
      "Epoch 1/10\n",
      "\u001b[1m3128/3128\u001b[0m \u001b[32m━━━━━━━━━━━━━━━━━━━━\u001b[0m\u001b[37m\u001b[0m \u001b[1m3s\u001b[0m 719us/step - loss: 0.7789\n",
      "Epoch 2/10\n",
      "\u001b[1m3128/3128\u001b[0m \u001b[32m━━━━━━━━━━━━━━━━━━━━\u001b[0m\u001b[37m\u001b[0m \u001b[1m2s\u001b[0m 739us/step - loss: 0.4053\n",
      "Epoch 3/10\n",
      "\u001b[1m3128/3128\u001b[0m \u001b[32m━━━━━━━━━━━━━━━━━━━━\u001b[0m\u001b[37m\u001b[0m \u001b[1m2s\u001b[0m 732us/step - loss: 0.3933\n",
      "Epoch 4/10\n",
      "\u001b[1m3128/3128\u001b[0m \u001b[32m━━━━━━━━━━━━━━━━━━━━\u001b[0m\u001b[37m\u001b[0m \u001b[1m2s\u001b[0m 732us/step - loss: 0.3798\n",
      "Epoch 5/10\n",
      "\u001b[1m3128/3128\u001b[0m \u001b[32m━━━━━━━━━━━━━━━━━━━━\u001b[0m\u001b[37m\u001b[0m \u001b[1m2s\u001b[0m 730us/step - loss: 0.3619\n",
      "Epoch 6/10\n",
      "\u001b[1m3128/3128\u001b[0m \u001b[32m━━━━━━━━━━━━━━━━━━━━\u001b[0m\u001b[37m\u001b[0m \u001b[1m2s\u001b[0m 723us/step - loss: 0.3636\n",
      "Epoch 7/10\n",
      "\u001b[1m3128/3128\u001b[0m \u001b[32m━━━━━━━━━━━━━━━━━━━━\u001b[0m\u001b[37m\u001b[0m \u001b[1m2s\u001b[0m 713us/step - loss: 0.3556\n",
      "Epoch 8/10\n",
      "\u001b[1m3128/3128\u001b[0m \u001b[32m━━━━━━━━━━━━━━━━━━━━\u001b[0m\u001b[37m\u001b[0m \u001b[1m2s\u001b[0m 723us/step - loss: 0.3476\n",
      "Epoch 9/10\n",
      "\u001b[1m3128/3128\u001b[0m \u001b[32m━━━━━━━━━━━━━━━━━━━━\u001b[0m\u001b[37m\u001b[0m \u001b[1m2s\u001b[0m 737us/step - loss: 0.3664\n",
      "Epoch 10/10\n",
      "\u001b[1m3128/3128\u001b[0m \u001b[32m━━━━━━━━━━━━━━━━━━━━\u001b[0m\u001b[37m\u001b[0m \u001b[1m2s\u001b[0m 761us/step - loss: 0.3486\n"
     ]
    },
    {
     "data": {
      "text/plain": [
       "<keras.src.callbacks.history.History at 0x1d8a8de1210>"
      ]
     },
     "execution_count": 51,
     "metadata": {},
     "output_type": "execute_result"
    }
   ],
   "source": [
    "# Train the model\n",
    "model.fit(X_train, y_train, epochs=10, batch_size=1, verbose=1)"
   ]
  },
  {
   "cell_type": "code",
   "execution_count": 52,
   "id": "051fd0f0-fa06-46db-b8da-35b98609a8a3",
   "metadata": {
    "tags": []
   },
   "outputs": [
    {
     "name": "stdout",
     "output_type": "stream",
     "text": [
      "\u001b[1m25/25\u001b[0m \u001b[32m━━━━━━━━━━━━━━━━━━━━\u001b[0m\u001b[37m\u001b[0m \u001b[1m0s\u001b[0m 5ms/step\n",
      "Predictions:\n",
      " [[3.0784256 2.9819522 3.1405482 3.0214212 2.8032682 3.098955 ]\n",
      " [2.7944827 2.7330675 2.9241984 2.768968  2.6647856 2.825174 ]\n",
      " [3.3405812 3.3148942 3.501302  3.4056919 3.2561717 3.4324827]\n",
      " ...\n",
      " [2.7118356 2.764161  2.951037  2.7535417 2.7663496 2.822374 ]\n",
      " [3.2231145 3.234755  3.439265  3.3430095 3.1695094 3.3024259]\n",
      " [3.2142782 2.9672918 3.2090838 3.004929  2.8504448 3.2189863]]\n",
      "Actual:\n",
      "       cohesion  syntax  vocabulary  phraseology  grammar  conventions\n",
      "1552       3.0     2.5         2.5          2.0      2.0          2.0\n",
      "2114       3.0     2.0         3.0          3.5      3.0          3.0\n",
      "1965       4.0     4.0         3.0          4.0      4.0          4.0\n",
      "3856       3.0     3.0         3.5          3.0      3.5          3.5\n",
      "1610       3.5     3.5         3.5          3.5      3.0          3.5\n",
      "...        ...     ...         ...          ...      ...          ...\n",
      "1740       2.0     2.5         3.0          3.0      3.5          2.0\n",
      "3760       2.5     2.5         3.0          3.0      2.5          2.5\n",
      "1885       2.0     3.0         3.0          3.0      3.0          2.5\n",
      "2390       4.0     3.5         4.0          3.5      3.5          4.0\n",
      "1056       2.5     2.0         3.0          2.0      2.5          2.5\n",
      "\n",
      "[783 rows x 6 columns]\n"
     ]
    }
   ],
   "source": [
    "predictions = model.predict(X_test)\n",
    "\n",
    "# Evaluate the model\n",
    "print(\"Predictions:\\n\", predictions)\n",
    "print(\"Actual:\\n\", y_test)"
   ]
  },
  {
   "cell_type": "markdown",
   "id": "d63e1537-f2eb-4b7d-86b0-52879854e199",
   "metadata": {
    "tags": []
   },
   "source": [
    "##### tuning the LSTM model"
   ]
  },
  {
   "cell_type": "code",
   "execution_count": 53,
   "id": "c3440a49-3b0c-432f-8204-b7923cef8195",
   "metadata": {
    "tags": []
   },
   "outputs": [],
   "source": [
    "import gensim\n",
    "from gensim.models import Word2Vec\n",
    "from sklearn.model_selection import train_test_split\n",
    "from tensorflow.keras.models import Sequential\n",
    "from tensorflow.keras.layers import LSTM, Dense, Dropout\n",
    "from tensorflow.keras.optimizers import Adam\n",
    "from sklearn.metrics import mean_squared_error, mean_absolute_error\n",
    "from tensorflow.keras.layers import Input\n",
    "\n",
    "# Function to create the model\n",
    "def create_model(units, dropout_rate, learning_rate):\n",
    "    model = Sequential()\n",
    "    model.add(Input(shape=(1, 100)))  # Specify the input shape using Input layer\n",
    "    model.add(LSTM(units=units, return_sequences=False))\n",
    "    model.add(Dropout(rate=dropout_rate))\n",
    "    model.add(Dense(25))\n",
    "    model.add(Dense(6))  # Output layer for 6 numerical columns\n",
    "    optimizer = Adam(learning_rate=learning_rate)\n",
    "    model.compile(optimizer=optimizer, loss='mean_squared_error')\n",
    "    return model\n",
    "\n",
    "# # Define the hyperparameter grid\n",
    "# units = [50, 100, 150]\n",
    "# dropout_rates = [0.2, 0.3, 0.4]\n",
    "# learning_rates = [0.001, 0.01, 0.1]\n",
    "# batch_sizes = [1, 5, 10]\n",
    "# epochs = [10, 20]\n",
    "\n",
    "# # Initialize variables to track the best model\n",
    "# best_model = None\n",
    "# best_score = float('inf')\n",
    "# best_params = {}\n",
    "\n",
    "# # Manual grid search\n",
    "# for unit in units:\n",
    "#     for dropout_rate in dropout_rates:\n",
    "#         for learning_rate in learning_rates:\n",
    "#             for batch_size in batch_sizes:\n",
    "#                 for epoch in epochs:\n",
    "#                     print(f\"Training model with units={unit}, dropout_rate={dropout_rate}, learning_rate={learning_rate}, batch_size={batch_size}, epochs={epoch}\")\n",
    "#                     model = create_model(unit, dropout_rate, learning_rate)\n",
    "#                     model.fit(X_train, y_train, epochs=epoch, batch_size=batch_size, verbose=0)\n",
    "#                     predictions = model.predict(X_test)\n",
    "#                     mse = mean_squared_error(y_test, predictions)\n",
    "#                     print(f\"Mean Squared Error: {mse}\")\n",
    "#                     if mse < best_score:\n",
    "#                         best_score = mse\n",
    "#                         best_model = model\n",
    "#                         best_params = {\n",
    "#                             'units': unit,\n",
    "#                             'dropout_rate': dropout_rate,\n",
    "#                             'learning_rate': learning_rate,\n",
    "#                             'batch_size': batch_size,\n",
    "#                             'epochs': epoch\n",
    "#                         }                       \n",
    "                        \n",
    "# # Print the best parameters and best score\n",
    "# print(f\"Best score: {best_score} with params: {best_params}\")\n",
    "\n",
    "# # Evaluate the best model\n",
    "# predictions = best_model.predict(X_test)\n",
    "# mse = mean_squared_error(y_test, predictions)\n",
    "# mae = mean_absolute_error(y_test, predictions)\n",
    "\n",
    "# print(f\"Mean Squared Error: {mse}\")\n",
    "# print(f\"Mean Absolute Error: {mae}\")\n"
   ]
  },
  {
   "cell_type": "code",
   "execution_count": 54,
   "id": "c7585319-dccc-4234-9d20-7c00f47b583d",
   "metadata": {
    "tags": []
   },
   "outputs": [
    {
     "data": {
      "text/plain": [
       "<keras.src.callbacks.history.History at 0x1d8c7be5d10>"
      ]
     },
     "execution_count": 54,
     "metadata": {},
     "output_type": "execute_result"
    }
   ],
   "source": [
    "# Get the best model\n",
    "# Best score: 0.3466286903441412 with params: {'units': 150, 'dropout_rate': 0.2, 'learning_rate': 0.001, 'batch_size': 5, 'epochs': 10}\n",
    "best_model = create_model(150, 0.2, 0.001)\n",
    "best_model.fit(X_train, y_train, epochs=10, batch_size=5, verbose=0)"
   ]
  },
  {
   "cell_type": "code",
   "execution_count": 55,
   "id": "498875f4-1b05-4e16-ad93-8dc197083ebf",
   "metadata": {
    "tags": []
   },
   "outputs": [
    {
     "name": "stdout",
     "output_type": "stream",
     "text": [
      "\u001b[1m25/25\u001b[0m \u001b[32m━━━━━━━━━━━━━━━━━━━━\u001b[0m\u001b[37m\u001b[0m \u001b[1m0s\u001b[0m 4ms/step\n"
     ]
    }
   ],
   "source": [
    "predictions = best_model.predict(X_test)"
   ]
  },
  {
   "cell_type": "code",
   "execution_count": 56,
   "id": "fb5e937b-21bb-42cb-b317-0840afba5ab3",
   "metadata": {
    "tags": []
   },
   "outputs": [
    {
     "data": {
      "text/html": [
       "<div>\n",
       "<style scoped>\n",
       "    .dataframe tbody tr th:only-of-type {\n",
       "        vertical-align: middle;\n",
       "    }\n",
       "\n",
       "    .dataframe tbody tr th {\n",
       "        vertical-align: top;\n",
       "    }\n",
       "\n",
       "    .dataframe thead th {\n",
       "        text-align: right;\n",
       "    }\n",
       "</style>\n",
       "<table border=\"1\" class=\"dataframe\">\n",
       "  <thead>\n",
       "    <tr style=\"text-align: right;\">\n",
       "      <th></th>\n",
       "      <th>cohesion</th>\n",
       "      <th>syntax</th>\n",
       "      <th>vocabulary</th>\n",
       "      <th>phraseology</th>\n",
       "      <th>grammar</th>\n",
       "      <th>conventions</th>\n",
       "    </tr>\n",
       "  </thead>\n",
       "  <tbody>\n",
       "    <tr>\n",
       "      <th>1552</th>\n",
       "      <td>3.0</td>\n",
       "      <td>2.5</td>\n",
       "      <td>2.5</td>\n",
       "      <td>2.0</td>\n",
       "      <td>2.0</td>\n",
       "      <td>2.0</td>\n",
       "    </tr>\n",
       "    <tr>\n",
       "      <th>2114</th>\n",
       "      <td>3.0</td>\n",
       "      <td>2.0</td>\n",
       "      <td>3.0</td>\n",
       "      <td>3.5</td>\n",
       "      <td>3.0</td>\n",
       "      <td>3.0</td>\n",
       "    </tr>\n",
       "    <tr>\n",
       "      <th>1965</th>\n",
       "      <td>4.0</td>\n",
       "      <td>4.0</td>\n",
       "      <td>3.0</td>\n",
       "      <td>4.0</td>\n",
       "      <td>4.0</td>\n",
       "      <td>4.0</td>\n",
       "    </tr>\n",
       "    <tr>\n",
       "      <th>3856</th>\n",
       "      <td>3.0</td>\n",
       "      <td>3.0</td>\n",
       "      <td>3.5</td>\n",
       "      <td>3.0</td>\n",
       "      <td>3.5</td>\n",
       "      <td>3.5</td>\n",
       "    </tr>\n",
       "    <tr>\n",
       "      <th>1610</th>\n",
       "      <td>3.5</td>\n",
       "      <td>3.5</td>\n",
       "      <td>3.5</td>\n",
       "      <td>3.5</td>\n",
       "      <td>3.0</td>\n",
       "      <td>3.5</td>\n",
       "    </tr>\n",
       "    <tr>\n",
       "      <th>...</th>\n",
       "      <td>...</td>\n",
       "      <td>...</td>\n",
       "      <td>...</td>\n",
       "      <td>...</td>\n",
       "      <td>...</td>\n",
       "      <td>...</td>\n",
       "    </tr>\n",
       "    <tr>\n",
       "      <th>1740</th>\n",
       "      <td>2.0</td>\n",
       "      <td>2.5</td>\n",
       "      <td>3.0</td>\n",
       "      <td>3.0</td>\n",
       "      <td>3.5</td>\n",
       "      <td>2.0</td>\n",
       "    </tr>\n",
       "    <tr>\n",
       "      <th>3760</th>\n",
       "      <td>2.5</td>\n",
       "      <td>2.5</td>\n",
       "      <td>3.0</td>\n",
       "      <td>3.0</td>\n",
       "      <td>2.5</td>\n",
       "      <td>2.5</td>\n",
       "    </tr>\n",
       "    <tr>\n",
       "      <th>1885</th>\n",
       "      <td>2.0</td>\n",
       "      <td>3.0</td>\n",
       "      <td>3.0</td>\n",
       "      <td>3.0</td>\n",
       "      <td>3.0</td>\n",
       "      <td>2.5</td>\n",
       "    </tr>\n",
       "    <tr>\n",
       "      <th>2390</th>\n",
       "      <td>4.0</td>\n",
       "      <td>3.5</td>\n",
       "      <td>4.0</td>\n",
       "      <td>3.5</td>\n",
       "      <td>3.5</td>\n",
       "      <td>4.0</td>\n",
       "    </tr>\n",
       "    <tr>\n",
       "      <th>1056</th>\n",
       "      <td>2.5</td>\n",
       "      <td>2.0</td>\n",
       "      <td>3.0</td>\n",
       "      <td>2.0</td>\n",
       "      <td>2.5</td>\n",
       "      <td>2.5</td>\n",
       "    </tr>\n",
       "  </tbody>\n",
       "</table>\n",
       "<p>783 rows × 6 columns</p>\n",
       "</div>"
      ],
      "text/plain": [
       "      cohesion  syntax  vocabulary  phraseology  grammar  conventions\n",
       "1552       3.0     2.5         2.5          2.0      2.0          2.0\n",
       "2114       3.0     2.0         3.0          3.5      3.0          3.0\n",
       "1965       4.0     4.0         3.0          4.0      4.0          4.0\n",
       "3856       3.0     3.0         3.5          3.0      3.5          3.5\n",
       "1610       3.5     3.5         3.5          3.5      3.0          3.5\n",
       "...        ...     ...         ...          ...      ...          ...\n",
       "1740       2.0     2.5         3.0          3.0      3.5          2.0\n",
       "3760       2.5     2.5         3.0          3.0      2.5          2.5\n",
       "1885       2.0     3.0         3.0          3.0      3.0          2.5\n",
       "2390       4.0     3.5         4.0          3.5      3.5          4.0\n",
       "1056       2.5     2.0         3.0          2.0      2.5          2.5\n",
       "\n",
       "[783 rows x 6 columns]"
      ]
     },
     "execution_count": 56,
     "metadata": {},
     "output_type": "execute_result"
    }
   ],
   "source": [
    "y_test"
   ]
  },
  {
   "cell_type": "code",
   "execution_count": 57,
   "id": "264fc4ed-9d41-4b86-a6fa-dc7ab1cc9f4d",
   "metadata": {
    "tags": []
   },
   "outputs": [
    {
     "data": {
      "text/plain": [
       "array([[3.1036804, 3.0155082, 3.107091 , 3.1407795, 2.9169545, 3.024707 ],\n",
       "       [2.7686036, 2.6723747, 2.8872406, 2.782773 , 2.6157908, 2.716154 ],\n",
       "       [3.0548427, 2.9953036, 3.2067695, 3.1778135, 2.9831338, 3.0378566],\n",
       "       ...,\n",
       "       [2.760188 , 2.854229 , 2.9481053, 2.9361947, 2.850996 , 2.8411396],\n",
       "       [3.1734881, 3.1291785, 3.3507137, 3.3393295, 3.0807462, 3.1061256],\n",
       "       [3.0454772, 2.8813424, 3.148733 , 3.0024304, 2.7382846, 2.9534686]],\n",
       "      dtype=float32)"
      ]
     },
     "execution_count": 57,
     "metadata": {},
     "output_type": "execute_result"
    }
   ],
   "source": [
    "predictions"
   ]
  },
  {
   "cell_type": "code",
   "execution_count": 66,
   "id": "516b46dc-36e1-4516-88f2-e30225db34c4",
   "metadata": {},
   "outputs": [
    {
     "name": "stdout",
     "output_type": "stream",
     "text": [
      "\u001b[1m25/25\u001b[0m \u001b[32m━━━━━━━━━━━━━━━━━━━━\u001b[0m\u001b[37m\u001b[0m \u001b[1m0s\u001b[0m 7ms/step\n"
     ]
    }
   ],
   "source": [
    "from tensorflow.keras.models import Sequential\n",
    "from tensorflow.keras.layers import Input, LSTM, Dropout, Dense, BatchNormalization\n",
    "from tensorflow.keras.optimizers import Adam\n",
    "from tensorflow.keras.callbacks import EarlyStopping, LearningRateScheduler\n",
    "from sklearn.preprocessing import MinMaxScaler\n",
    "import tensorflow as tf\n",
    "import numpy as np\n",
    "\n",
    "# Normalize the data\n",
    "scaler_X = MinMaxScaler(feature_range=(0, 1))\n",
    "scaler_y = MinMaxScaler(feature_range=(0, 1))\n",
    "\n",
    "X_train_scaled = scaler_X.fit_transform(X_train.reshape(-1, X_train.shape[-1])).reshape(X_train.shape)\n",
    "y_train_scaled = scaler_y.fit_transform(y_train)\n",
    "\n",
    "# Define the model\n",
    "model = Sequential()\n",
    "model.add(Input(shape=(1, 100)))\n",
    "model.add(LSTM(units=150, return_sequences=True))\n",
    "model.add(Dropout(rate=0.3))\n",
    "model.add(LSTM(units=100, return_sequences=False))\n",
    "model.add(BatchNormalization())\n",
    "model.add(Dense(50, activation='relu'))\n",
    "model.add(Dropout(rate=0.3))\n",
    "model.add(Dense(25, activation='relu'))\n",
    "model.add(Dense(6))  # Output layer for 6 numerical columns\n",
    "\n",
    "# Compile the model\n",
    "optimizer = Adam(learning_rate=0.001)\n",
    "model.compile(optimizer=optimizer, loss='mean_squared_error')\n",
    "\n",
    "# Define callbacks\n",
    "early_stopping = EarlyStopping(monitor='val_loss', patience=5)\n",
    "def scheduler(epoch, lr):\n",
    "    if epoch < 10:\n",
    "        return lr\n",
    "    else:\n",
    "        return float(lr * np.exp(-0.1))\n",
    "\n",
    "lr_scheduler = LearningRateScheduler(scheduler)\n",
    "\n",
    "# Fit the model\n",
    "model.fit(X_train_scaled, y_train_scaled, epochs=50, batch_size=10, \n",
    "          validation_split=0.2, \n",
    "          callbacks=[early_stopping, lr_scheduler], verbose=0)\n",
    "\n",
    "# Inverse transform the predictions\n",
    "predictions = model.predict(X_test)\n",
    "predictions_rescaled = scaler_y.inverse_transform(predictions)\n",
    "\n",
    "# Evaluate the model\n",
    "# mse = model.evaluate(y_test, predictions_rescaled, verbose=0)\n",
    "# print(f'Mean Squared Error: {mse}')\n"
   ]
  },
  {
   "cell_type": "code",
   "execution_count": 68,
   "id": "ce6f86aa-d248-48e5-87c9-a41cb04cd256",
   "metadata": {},
   "outputs": [
    {
     "name": "stdout",
     "output_type": "stream",
     "text": [
      "Predictions:\n",
      " [[4.7437267 4.6181135 5.520811  5.1479816 4.925632  5.7190776]\n",
      " [5.0410633 4.6286554 5.7425885 4.124842  4.1464634 5.755605 ]\n",
      " [4.043614  4.3855753 4.491583  5.0488296 4.9423103 5.4421463]\n",
      " ...\n",
      " [3.9056754 4.0232024 4.6075225 4.7771916 4.5659184 4.8156223]\n",
      " [3.9000936 4.14554   4.5894194 4.974433  5.058744  5.198079 ]\n",
      " [4.2459745 4.411939  4.8370876 5.261617  4.8073883 5.6472325]]\n",
      "Actual:\n",
      "       cohesion  syntax  vocabulary  phraseology  grammar  conventions\n",
      "1552       3.0     2.5         2.5          2.0      2.0          2.0\n",
      "2114       3.0     2.0         3.0          3.5      3.0          3.0\n",
      "1965       4.0     4.0         3.0          4.0      4.0          4.0\n",
      "3856       3.0     3.0         3.5          3.0      3.5          3.5\n",
      "1610       3.5     3.5         3.5          3.5      3.0          3.5\n",
      "...        ...     ...         ...          ...      ...          ...\n",
      "1740       2.0     2.5         3.0          3.0      3.5          2.0\n",
      "3760       2.5     2.5         3.0          3.0      2.5          2.5\n",
      "1885       2.0     3.0         3.0          3.0      3.0          2.5\n",
      "2390       4.0     3.5         4.0          3.5      3.5          4.0\n",
      "1056       2.5     2.0         3.0          2.0      2.5          2.5\n",
      "\n",
      "[783 rows x 6 columns]\n"
     ]
    }
   ],
   "source": [
    "# predictions = model.predict(X_test)\n",
    "\n",
    "# Evaluate the model\n",
    "print(\"Predictions:\\n\", predictions_rescaled)\n",
    "print(\"Actual:\\n\", y_test)"
   ]
  },
  {
   "cell_type": "code",
   "execution_count": null,
   "id": "8d364a95-85c7-4d02-857c-766ad25e88c3",
   "metadata": {},
   "outputs": [],
   "source": []
  },
  {
   "cell_type": "code",
   "execution_count": null,
   "id": "511d98d5-e250-41ad-b1e7-bdb22acb9643",
   "metadata": {},
   "outputs": [],
   "source": []
  },
  {
   "cell_type": "markdown",
   "id": "bc07d072-f47d-49ad-b801-78b376d3b371",
   "metadata": {
    "jp-MarkdownHeadingCollapsed": true,
    "tags": []
   },
   "source": [
    "##### old code of LSTM"
   ]
  },
  {
   "cell_type": "code",
   "execution_count": null,
   "id": "c2ea5f53-8117-4c7f-8dac-e68265c42e97",
   "metadata": {
    "tags": []
   },
   "outputs": [],
   "source": [
    "# train_essays, val_essays, train_scores, val_scores = train_test_split(train['full_text'],\n",
    "#                                                                       train[['cohesion', 'syntax', 'vocabulary',\n",
    "#                                                                                   'phraseology', 'grammar', 'conventions']],\n",
    "#                                                                       test_size=0.2,\n",
    "#                                                                       random_state=37)"
   ]
  },
  {
   "cell_type": "code",
   "execution_count": null,
   "id": "ab00a416-2197-4147-823a-e79695a74aa9",
   "metadata": {
    "tags": []
   },
   "outputs": [],
   "source": [
    "# # Preprocess text data (tokenization)\n",
    "# train_essays = [text.split() for text in train_essays]\n",
    "# val_essays = [text.split() for text in val_essays]"
   ]
  },
  {
   "cell_type": "code",
   "execution_count": null,
   "id": "28177619-9d30-4c50-95b5-fa7e0ca64aad",
   "metadata": {
    "tags": []
   },
   "outputs": [],
   "source": [
    "# # Train Word2Vec model\n",
    "# embedding_dim = 100\n",
    "# word2vec_model = Word2Vec(sentences=train_essays, vector_size=embedding_dim, min_count=1)\n",
    "\n",
    "# # Convert essays to word embeddings\n",
    "# train_embeddings = [np.mean([word2vec_model.wv[word] for word in essay], axis=0) for essay in train_essays]\n",
    "# val_embeddings = [np.mean([word2vec_model.wv[word] for word in essay], axis=0) for essay in val_essays]\n"
   ]
  },
  {
   "cell_type": "code",
   "execution_count": null,
   "id": "12a8f18a-44d9-4cf6-8d4d-239edd3dd99f",
   "metadata": {
    "tags": []
   },
   "outputs": [],
   "source": [
    "# len(train_embeddings)"
   ]
  },
  {
   "cell_type": "code",
   "execution_count": null,
   "id": "28227b44-6cdc-4340-8b72-944633fbd095",
   "metadata": {
    "tags": []
   },
   "outputs": [],
   "source": [
    "# train_embeddings[0]"
   ]
  },
  {
   "cell_type": "code",
   "execution_count": null,
   "id": "4475089c-3727-475d-8bc7-15c8a756bad1",
   "metadata": {
    "tags": []
   },
   "outputs": [],
   "source": [
    "# len(word2vec_model.wv.key_to_index)"
   ]
  },
  {
   "cell_type": "code",
   "execution_count": null,
   "id": "26021d43-b01c-4236-8b4e-e3d5ef1dc8ac",
   "metadata": {
    "tags": []
   },
   "outputs": [],
   "source": [
    "# vocabulary_size = len(word2vec_model.wv.key_to_index)\n",
    "# print(\"Vocabulary Size:\", vocabulary_size)\n",
    "\n",
    "# # Check word embeddings shape\n",
    "# embedding_shape = word2vec_model.wv.vectors.shape\n",
    "# print(\"Embedding Shape:\", embedding_shape)"
   ]
  },
  {
   "cell_type": "code",
   "execution_count": null,
   "id": "feef2f7d-2e28-4346-9943-eb8dc13135a2",
   "metadata": {
    "tags": []
   },
   "outputs": [],
   "source": [
    "# from tensorflow.keras.models import Model\n",
    "# from tensorflow.keras.layers import LSTM, Dense, Embedding, Input, dot\n",
    "# # Prepare the deep learning model\n",
    "# input_dim = len(train_embeddings[0])\n",
    "# inputs = Input(shape=(input_dim,))\n",
    "# embedding_layer = Embedding(input_dim=vocabulary_size ,\n",
    "#                             output_dim=embedding_dim,\n",
    "#                             weights=[word2vec_model.wv.vectors],\n",
    "#                             input_length=input_dim,\n",
    "#                             trainable=False)(inputs)\n",
    "# lstm_layer = LSTM(units=128, return_sequences=True)(embedding_layer)\n",
    "\n",
    "# # Custom Attention Layer\n",
    "# attention_weights = dot([lstm_layer, lstm_layer], axes=[2, 2])\n",
    "# attention_weights = Dense(units=input_dim, activation='softmax')(attention_weights)\n",
    "# context_vector = dot([attention_weights, lstm_layer], axes=[2, 1])\n",
    "# attention_output = LSTM(units=128)(context_vector)\n",
    "\n",
    "# output_layer = Dense(units=6, activation='linear')(attention_output)\n",
    "\n",
    "# model = Model(inputs=inputs, outputs=output_layer)\n",
    "# model.compile(optimizer='adam', loss='mean_squared_error')"
   ]
  },
  {
   "cell_type": "code",
   "execution_count": null,
   "id": "717da81d-6bb7-4603-89d7-8e47bf3f486d",
   "metadata": {
    "tags": []
   },
   "outputs": [],
   "source": [
    "# from tensorflow.keras.models import Model\n",
    "# from tensorflow.keras.layers import LSTM, Dense, Embedding, Input, dot, Flatten, Activation, RepeatVector, Permute, Multiply, Lambda\n",
    "# import tensorflow.keras.backend as K\n",
    "\n",
    "# # Prepare the deep learning model\n",
    "# input_dim = len(train_embeddings[0])  # Assume this is the maximum sequence length\n",
    "# vocabulary_size = len(word2vec_model.wv.vectors)  # Size of the vocabulary\n",
    "# embedding_dim = word2vec_model.vector_size  # Dimension of word embeddings\n",
    "\n",
    "# inputs = Input(shape=(input_dim,))\n",
    "# embedding_layer = Embedding(input_dim=vocabulary_size,\n",
    "#                             output_dim=embedding_dim,\n",
    "#                             weights=[word2vec_model.wv.vectors],\n",
    "#                             input_length=input_dim,\n",
    "#                             trainable=False)(inputs)\n",
    "\n",
    "# lstm_layer = LSTM(units=128, return_sequences=True)(embedding_layer)\n",
    "\n",
    "# # Custom Attention Layer\n",
    "# attention_weights = Dense(units=1, activation='tanh')(lstm_layer)\n",
    "# attention_weights = Flatten()(attention_weights)\n",
    "# attention_weights = Activation('softmax')(attention_weights)\n",
    "# attention_weights = RepeatVector(128)(attention_weights)\n",
    "# attention_weights = Permute([2, 1])(attention_weights)\n",
    "\n",
    "# context_vector = Multiply()([lstm_layer, attention_weights])\n",
    "# context_vector = Lambda(lambda x: K.sum(x, axis=1))(context_vector)\n",
    "\n",
    "# # Directly use the context vector for Dense layer\n",
    "# output_layer = Dense(units=6, activation='linear')(context_vector)\n",
    "\n",
    "# model = Model(inputs=inputs, outputs=output_layer)\n",
    "# model.compile(optimizer='adam', loss='mean_squared_error')\n"
   ]
  },
  {
   "cell_type": "code",
   "execution_count": null,
   "id": "577a87da-dec1-4864-844f-091aa10c2b75",
   "metadata": {
    "tags": []
   },
   "outputs": [],
   "source": [
    "# from tensorflow.keras.models import Model\n",
    "# from tensorflow.keras.layers import LSTM, Dense, Embedding, Input, Dot, Activation, Permute, Lambda\n",
    "# import tensorflow.keras.backend as K\n",
    "\n",
    "# # Define maximum sequence length and vocabulary size\n",
    "# max_seq_length = 100  # Adjust according to your data\n",
    "# vocabulary_size = len(word2vec_model.wv.vectors)\n",
    "# embedding_dim = word2vec_model.vector_size\n",
    "\n",
    "# # Input for text data\n",
    "# inputs = Input(shape=(max_seq_length,))\n",
    "\n",
    "# # Embedding layer\n",
    "# embedding_layer = Embedding(input_dim=vocabulary_size,\n",
    "#                             output_dim=embedding_dim,\n",
    "#                             weights=[word2vec_model.wv.vectors],\n",
    "#                             # input_length=max_seq_length,\n",
    "#                             trainable=False)(inputs)\n",
    "\n",
    "# # LSTM layer\n",
    "# lstm_layer = LSTM(units=128, return_sequences=True)(embedding_layer)\n",
    "\n",
    "# # Attention mechanism\n",
    "# attention = Dense(1, activation='tanh')(lstm_layer)\n",
    "# attention = Permute([2, 1])(attention)\n",
    "# attention = Activation('softmax')(attention)\n",
    "# attention = Dot(axes=[2, 1])([attention, lstm_layer])\n",
    "\n",
    "# # LSTM layer after attention\n",
    "# lstm_output = LSTM(units=128)(attention)\n",
    "\n",
    "# # Output layer\n",
    "# output = Dense(6, activation='linear')(lstm_output)\n",
    "\n",
    "# # Model definition\n",
    "# model = Model(inputs=inputs, outputs=output)\n",
    "\n",
    "# # Compile the model\n",
    "# model.compile(optimizer='adam', loss='mean_squared_error')\n"
   ]
  },
  {
   "cell_type": "code",
   "execution_count": null,
   "id": "b9a1a709-1f79-424a-a00c-5c610307523d",
   "metadata": {},
   "outputs": [],
   "source": [
    "# !pip install tensorflow-addons"
   ]
  },
  {
   "cell_type": "code",
   "execution_count": null,
   "id": "05918f1f-2252-47b4-9d40-8b554be5b72e",
   "metadata": {},
   "outputs": [],
   "source": [
    "# import tensorflow_addons as tfa"
   ]
  },
  {
   "cell_type": "code",
   "execution_count": null,
   "id": "018562eb-2657-4ffa-82d3-dca6c9d285f6",
   "metadata": {
    "tags": []
   },
   "outputs": [],
   "source": [
    "# # Train the model\n",
    "# model.fit(np.array(train_embeddings), np.array(train_scores), epochs=15, validation_data=(np.array(val_embeddings), np.array(val_scores)))"
   ]
  },
  {
   "cell_type": "markdown",
   "id": "127278de-a8ee-40da-bee1-29f0e23e0fad",
   "metadata": {
    "tags": []
   },
   "source": [
    "##### Generate a new column to store predictions"
   ]
  },
  {
   "cell_type": "code",
   "execution_count": 69,
   "id": "d815cbfd-e89c-4dec-bf47-9477e5ed1c15",
   "metadata": {
    "tags": []
   },
   "outputs": [],
   "source": [
    "# Assuming your new data is in train_data['full_text']\n",
    "new_text_data = train_data['full_text'].tolist()\n",
    "\n",
    "# Tokenize the new text data\n",
    "new_tokenized_texts = [text.split() for text in new_text_data]\n",
    "\n",
    "# Convert new text data to Word2Vec vectors\n",
    "new_X = text_to_vectors(new_text_data, word2vec_model)\n",
    "\n",
    "# Handling missing vectors (if any)\n",
    "new_X = np.nan_to_num(new_X)\n",
    "\n",
    "# Reshape the data for LSTM input\n",
    "new_X = new_X.reshape((new_X.shape[0], 1, new_X.shape[1]))\n"
   ]
  },
  {
   "cell_type": "code",
   "execution_count": 70,
   "id": "5bbe4f43-9c4c-4dc6-b750-41a42ff034d2",
   "metadata": {
    "tags": []
   },
   "outputs": [
    {
     "name": "stdout",
     "output_type": "stream",
     "text": [
      "\u001b[1m541/541\u001b[0m \u001b[32m━━━━━━━━━━━━━━━━━━━━\u001b[0m\u001b[37m\u001b[0m \u001b[1m0s\u001b[0m 587us/step\n"
     ]
    }
   ],
   "source": [
    "# Ensure you have the best_model from the previous steps\n",
    "new_predictions = best_model.predict(new_X)\n",
    "\n",
    "# Convert predictions to a DataFrame\n",
    "predictions_df = pd.DataFrame(new_predictions, columns=['cohesion', 'syntax', 'vocabulary', 'phraseology', 'grammar', 'conventions'])\n",
    "\n",
    "# Combine the predictions with the original train_data\n",
    "train_data[['cohesion', 'syntax', 'vocabulary', 'phraseology', 'grammar', 'conventions']] = predictions_df\n"
   ]
  },
  {
   "cell_type": "code",
   "execution_count": 71,
   "id": "d3341bc8-9655-4e9e-870d-b61f09527e2d",
   "metadata": {
    "tags": []
   },
   "outputs": [
    {
     "data": {
      "text/html": [
       "<div>\n",
       "<style scoped>\n",
       "    .dataframe tbody tr th:only-of-type {\n",
       "        vertical-align: middle;\n",
       "    }\n",
       "\n",
       "    .dataframe tbody tr th {\n",
       "        vertical-align: top;\n",
       "    }\n",
       "\n",
       "    .dataframe thead th {\n",
       "        text-align: right;\n",
       "    }\n",
       "</style>\n",
       "<table border=\"1\" class=\"dataframe\">\n",
       "  <thead>\n",
       "    <tr style=\"text-align: right;\">\n",
       "      <th></th>\n",
       "      <th>essay_id</th>\n",
       "      <th>full_text</th>\n",
       "      <th>score</th>\n",
       "      <th>critical</th>\n",
       "      <th>examples</th>\n",
       "      <th>cohesion</th>\n",
       "      <th>syntax</th>\n",
       "      <th>vocabulary</th>\n",
       "      <th>phraseology</th>\n",
       "      <th>grammar</th>\n",
       "      <th>conventions</th>\n",
       "    </tr>\n",
       "  </thead>\n",
       "  <tbody>\n",
       "    <tr>\n",
       "      <th>0</th>\n",
       "      <td>000d118</td>\n",
       "      <td>many people car live thing dont know use car a...</td>\n",
       "      <td>3</td>\n",
       "      <td>5</td>\n",
       "      <td>27</td>\n",
       "      <td>2.639018</td>\n",
       "      <td>2.567314</td>\n",
       "      <td>2.850983</td>\n",
       "      <td>2.707506</td>\n",
       "      <td>2.549393</td>\n",
       "      <td>2.499018</td>\n",
       "    </tr>\n",
       "    <tr>\n",
       "      <th>1</th>\n",
       "      <td>000fe60</td>\n",
       "      <td>scientist nasa discussing face mars explaining...</td>\n",
       "      <td>3</td>\n",
       "      <td>4</td>\n",
       "      <td>12</td>\n",
       "      <td>3.048544</td>\n",
       "      <td>3.007819</td>\n",
       "      <td>3.280329</td>\n",
       "      <td>3.196304</td>\n",
       "      <td>3.011036</td>\n",
       "      <td>2.916120</td>\n",
       "    </tr>\n",
       "    <tr>\n",
       "      <th>2</th>\n",
       "      <td>001ab80</td>\n",
       "      <td>people always wish technology seen movies best...</td>\n",
       "      <td>4</td>\n",
       "      <td>4</td>\n",
       "      <td>2</td>\n",
       "      <td>3.510007</td>\n",
       "      <td>3.449628</td>\n",
       "      <td>3.720742</td>\n",
       "      <td>3.639783</td>\n",
       "      <td>3.435374</td>\n",
       "      <td>3.372588</td>\n",
       "    </tr>\n",
       "    <tr>\n",
       "      <th>3</th>\n",
       "      <td>001bdc0</td>\n",
       "      <td>heard venus planet without almost oxygen earth...</td>\n",
       "      <td>4</td>\n",
       "      <td>5</td>\n",
       "      <td>29</td>\n",
       "      <td>3.226227</td>\n",
       "      <td>3.191353</td>\n",
       "      <td>3.487139</td>\n",
       "      <td>3.308548</td>\n",
       "      <td>3.138849</td>\n",
       "      <td>2.999923</td>\n",
       "    </tr>\n",
       "    <tr>\n",
       "      <th>4</th>\n",
       "      <td>002ba53</td>\n",
       "      <td>dear state senatorthis letter argue favor keep...</td>\n",
       "      <td>3</td>\n",
       "      <td>3</td>\n",
       "      <td>22</td>\n",
       "      <td>3.123905</td>\n",
       "      <td>3.061278</td>\n",
       "      <td>3.329211</td>\n",
       "      <td>3.131118</td>\n",
       "      <td>3.007472</td>\n",
       "      <td>2.851665</td>\n",
       "    </tr>\n",
       "  </tbody>\n",
       "</table>\n",
       "</div>"
      ],
      "text/plain": [
       "  essay_id                                          full_text  score  \\\n",
       "0  000d118  many people car live thing dont know use car a...      3   \n",
       "1  000fe60  scientist nasa discussing face mars explaining...      3   \n",
       "2  001ab80  people always wish technology seen movies best...      4   \n",
       "3  001bdc0  heard venus planet without almost oxygen earth...      4   \n",
       "4  002ba53  dear state senatorthis letter argue favor keep...      3   \n",
       "\n",
       "   critical  examples  cohesion    syntax  vocabulary  phraseology   grammar  \\\n",
       "0         5        27  2.639018  2.567314    2.850983     2.707506  2.549393   \n",
       "1         4        12  3.048544  3.007819    3.280329     3.196304  3.011036   \n",
       "2         4         2  3.510007  3.449628    3.720742     3.639783  3.435374   \n",
       "3         5        29  3.226227  3.191353    3.487139     3.308548  3.138849   \n",
       "4         3        22  3.123905  3.061278    3.329211     3.131118  3.007472   \n",
       "\n",
       "   conventions  \n",
       "0     2.499018  \n",
       "1     2.916120  \n",
       "2     3.372588  \n",
       "3     2.999923  \n",
       "4     2.851665  "
      ]
     },
     "execution_count": 71,
     "metadata": {},
     "output_type": "execute_result"
    }
   ],
   "source": [
    "# Display the updated train_data with new prediction columns\n",
    "train_data.head()"
   ]
  },
  {
   "cell_type": "code",
   "execution_count": 72,
   "id": "2c37c508-fbfc-4442-a872-3cd548b046ba",
   "metadata": {
    "tags": []
   },
   "outputs": [
    {
     "data": {
      "text/html": [
       "<div>\n",
       "<style scoped>\n",
       "    .dataframe tbody tr th:only-of-type {\n",
       "        vertical-align: middle;\n",
       "    }\n",
       "\n",
       "    .dataframe tbody tr th {\n",
       "        vertical-align: top;\n",
       "    }\n",
       "\n",
       "    .dataframe thead th {\n",
       "        text-align: right;\n",
       "    }\n",
       "</style>\n",
       "<table border=\"1\" class=\"dataframe\">\n",
       "  <thead>\n",
       "    <tr style=\"text-align: right;\">\n",
       "      <th></th>\n",
       "      <th>essay_id</th>\n",
       "      <th>full_text</th>\n",
       "      <th>score</th>\n",
       "      <th>critical</th>\n",
       "      <th>examples</th>\n",
       "      <th>cohesion</th>\n",
       "      <th>syntax</th>\n",
       "      <th>vocabulary</th>\n",
       "      <th>phraseology</th>\n",
       "      <th>grammar</th>\n",
       "      <th>conventions</th>\n",
       "    </tr>\n",
       "  </thead>\n",
       "  <tbody>\n",
       "    <tr>\n",
       "      <th>17302</th>\n",
       "      <td>ffd378d</td>\n",
       "      <td>story challenge exploing venus informative pie...</td>\n",
       "      <td>2</td>\n",
       "      <td>2</td>\n",
       "      <td>2</td>\n",
       "      <td>3.060530</td>\n",
       "      <td>3.089147</td>\n",
       "      <td>3.334877</td>\n",
       "      <td>3.202520</td>\n",
       "      <td>3.031463</td>\n",
       "      <td>2.904585</td>\n",
       "    </tr>\n",
       "    <tr>\n",
       "      <th>17303</th>\n",
       "      <td>ffddf1f</td>\n",
       "      <td>technology changed lot ways live today nowaday...</td>\n",
       "      <td>4</td>\n",
       "      <td>5</td>\n",
       "      <td>14</td>\n",
       "      <td>3.590254</td>\n",
       "      <td>3.524757</td>\n",
       "      <td>3.812088</td>\n",
       "      <td>3.683631</td>\n",
       "      <td>3.486751</td>\n",
       "      <td>3.421062</td>\n",
       "    </tr>\n",
       "    <tr>\n",
       "      <th>17304</th>\n",
       "      <td>fff016d</td>\n",
       "      <td>dont like sitting around day great opportunity...</td>\n",
       "      <td>2</td>\n",
       "      <td>3</td>\n",
       "      <td>3</td>\n",
       "      <td>3.215199</td>\n",
       "      <td>3.137007</td>\n",
       "      <td>3.295709</td>\n",
       "      <td>3.251531</td>\n",
       "      <td>3.161978</td>\n",
       "      <td>3.176305</td>\n",
       "    </tr>\n",
       "    <tr>\n",
       "      <th>17305</th>\n",
       "      <td>fffb49b</td>\n",
       "      <td>challenge exporing venus author suggests study...</td>\n",
       "      <td>1</td>\n",
       "      <td>3</td>\n",
       "      <td>26</td>\n",
       "      <td>2.821499</td>\n",
       "      <td>2.814259</td>\n",
       "      <td>3.089751</td>\n",
       "      <td>2.911472</td>\n",
       "      <td>2.784314</td>\n",
       "      <td>2.594009</td>\n",
       "    </tr>\n",
       "    <tr>\n",
       "      <th>17306</th>\n",
       "      <td>fffed3e</td>\n",
       "      <td>venus worthy place study dangerous reaosn thei...</td>\n",
       "      <td>2</td>\n",
       "      <td>3</td>\n",
       "      <td>8</td>\n",
       "      <td>2.649696</td>\n",
       "      <td>2.560125</td>\n",
       "      <td>2.793794</td>\n",
       "      <td>2.693565</td>\n",
       "      <td>2.503131</td>\n",
       "      <td>2.549985</td>\n",
       "    </tr>\n",
       "  </tbody>\n",
       "</table>\n",
       "</div>"
      ],
      "text/plain": [
       "      essay_id                                          full_text  score  \\\n",
       "17302  ffd378d  story challenge exploing venus informative pie...      2   \n",
       "17303  ffddf1f  technology changed lot ways live today nowaday...      4   \n",
       "17304  fff016d  dont like sitting around day great opportunity...      2   \n",
       "17305  fffb49b  challenge exporing venus author suggests study...      1   \n",
       "17306  fffed3e  venus worthy place study dangerous reaosn thei...      2   \n",
       "\n",
       "       critical  examples  cohesion    syntax  vocabulary  phraseology  \\\n",
       "17302         2         2  3.060530  3.089147    3.334877     3.202520   \n",
       "17303         5        14  3.590254  3.524757    3.812088     3.683631   \n",
       "17304         3         3  3.215199  3.137007    3.295709     3.251531   \n",
       "17305         3        26  2.821499  2.814259    3.089751     2.911472   \n",
       "17306         3         8  2.649696  2.560125    2.793794     2.693565   \n",
       "\n",
       "        grammar  conventions  \n",
       "17302  3.031463     2.904585  \n",
       "17303  3.486751     3.421062  \n",
       "17304  3.161978     3.176305  \n",
       "17305  2.784314     2.594009  \n",
       "17306  2.503131     2.549985  "
      ]
     },
     "execution_count": 72,
     "metadata": {},
     "output_type": "execute_result"
    }
   ],
   "source": [
    "train_data.tail()"
   ]
  },
  {
   "cell_type": "code",
   "execution_count": null,
   "id": "b5943669-d672-4f22-b09f-c24a0e6d39a3",
   "metadata": {},
   "outputs": [],
   "source": []
  },
  {
   "cell_type": "markdown",
   "id": "907b53fe-374d-4164-8516-ef2420fbd51c",
   "metadata": {
    "jp-MarkdownHeadingCollapsed": true,
    "tags": []
   },
   "source": [
    "##### old code of prediction"
   ]
  },
  {
   "cell_type": "code",
   "execution_count": null,
   "id": "96d1890a-a945-4174-8d56-e96200e5dce5",
   "metadata": {
    "tags": []
   },
   "outputs": [],
   "source": [
    "# data processing before prediction\n",
    "train_data['full_text'] = train_data['full_text'].apply(lambda x:clean_text(x))\n",
    "train_data['full_text'] = train_data['full_text'].apply(lambda x:remove_stopword(x))\n",
    "train_data.head()"
   ]
  },
  {
   "cell_type": "code",
   "execution_count": null,
   "id": "fca4c383-21f3-4176-bdcb-a84fb05f4c7f",
   "metadata": {
    "tags": []
   },
   "outputs": [],
   "source": [
    "data_embeddings = [np.mean([word2vec_model.wv[word] for word in essay if word in word2vec_model.wv],\n",
    "                           axis=0) for essay in train_data['full_text']]\n",
    "\n",
    "# Predict scores for test data\n",
    "predicted_scores = model.predict(np.array(data_embeddings))"
   ]
  },
  {
   "cell_type": "code",
   "execution_count": null,
   "id": "2ac1dc5b-2f2c-4618-b1ee-9e9a4d05e022",
   "metadata": {
    "tags": []
   },
   "outputs": [],
   "source": [
    "# Train Word2Vec model\n",
    "embedding_dim = 100\n",
    "word2vec_model = Word2Vec(sentences=train_data['full_text'], vector_size=embedding_dim, min_count=1)\n",
    "\n",
    "# Convert essays to word embeddings\n",
    "data_embeddings = [np.mean([word2vec_model.wv[word] for word in essay], axis=0) for essay in train_data['full_text']]"
   ]
  },
  {
   "cell_type": "code",
   "execution_count": null,
   "id": "9889bde7-983b-4cfb-a2bc-3dfa6d0ac8e4",
   "metadata": {
    "tags": []
   },
   "outputs": [],
   "source": [
    "len(data_embeddings)"
   ]
  },
  {
   "cell_type": "code",
   "execution_count": null,
   "id": "9f049c47-82eb-413e-926c-df36f0c6a8c3",
   "metadata": {
    "tags": []
   },
   "outputs": [],
   "source": [
    "# Predict scores for test data\n",
    "predicted_scores = model.predict(np.array(data_embeddings))"
   ]
  },
  {
   "cell_type": "code",
   "execution_count": null,
   "id": "ea0de939-adee-4429-ac80-9a053ef6d95d",
   "metadata": {
    "tags": []
   },
   "outputs": [],
   "source": [
    "# Create new dataset\n",
    "new_df = pd.DataFrame(predicted_scores, columns=['cohesion', 'syntax', 'vocabulary', 'phraseology', 'grammar', 'conventions'])\n",
    "new_df.insert(0, 'full_text', train_data['full_text'])\n",
    "\n",
    "new_df.head()"
   ]
  },
  {
   "cell_type": "code",
   "execution_count": null,
   "id": "c8809c05-7517-4578-8280-f5dd6155848c",
   "metadata": {
    "tags": []
   },
   "outputs": [],
   "source": [
    "new_df.tail()"
   ]
  },
  {
   "cell_type": "code",
   "execution_count": null,
   "id": "ecf388a3-6684-417b-bd4d-df843d44bc0b",
   "metadata": {},
   "outputs": [],
   "source": []
  },
  {
   "cell_type": "code",
   "execution_count": null,
   "id": "b5c8c10a-347c-4b41-aa4b-3260669feaa6",
   "metadata": {},
   "outputs": [],
   "source": [
    "# use this model to do prediction on each essay of current dataset\n"
   ]
  },
  {
   "cell_type": "markdown",
   "id": "609e7ee7-eb7e-455a-8d7d-c6f6382ba818",
   "metadata": {
    "tags": []
   },
   "source": [
    "##### visualize the relationships "
   ]
  },
  {
   "cell_type": "code",
   "execution_count": 73,
   "id": "96729cfb-3660-4546-a13f-d6566d92b475",
   "metadata": {
    "tags": []
   },
   "outputs": [
    {
     "data": {
      "image/png": "[encoded data removed]",
      "text/plain": [
       "<Figure size 1000x600 with 1 Axes>"
      ]
     },
     "metadata": {},
     "output_type": "display_data"
    }
   ],
   "source": [
    "import matplotlib.pyplot as plt\n",
    "import seaborn as sns\n",
    "\n",
    "x = train_data['cohesion']\n",
    "y = train_data['score']\n",
    "\n",
    "# Plotting\n",
    "plt.figure(figsize=(10, 6))\n",
    "sns.boxplot(x=x, y=y, data=train_data, orient='h').invert_yaxis()\n",
    "plt.title('Box Plot of x by y Categories')\n",
    "plt.xlabel('X = cohesion')\n",
    "plt.ylabel('Y = score')\n",
    "plt.show()"
   ]
  },
  {
   "cell_type": "code",
   "execution_count": 74,
   "id": "eee049a1-bf12-4c75-8a7a-9fa1dd836bc0",
   "metadata": {
    "tags": []
   },
   "outputs": [
    {
     "data": {
      "image/png": "[encoded data removed]",
      "text/plain": [
       "<Figure size 1000x600 with 1 Axes>"
      ]
     },
     "metadata": {},
     "output_type": "display_data"
    }
   ],
   "source": [
    "import matplotlib.pyplot as plt\n",
    "import seaborn as sns\n",
    "\n",
    "x = train_data['syntax']\n",
    "y = train_data['score']\n",
    "\n",
    "# Plotting\n",
    "plt.figure(figsize=(10, 6))\n",
    "sns.boxplot(x=x, y=y, data=train_data, orient='h').invert_yaxis()\n",
    "plt.title('Box Plot of x by y Categories')\n",
    "plt.xlabel('X = syntax')\n",
    "plt.ylabel('Y = score')\n",
    "plt.show()"
   ]
  },
  {
   "cell_type": "code",
   "execution_count": 75,
   "id": "94fbabc9-bb76-4e98-bab5-a6b8247479cb",
   "metadata": {
    "tags": []
   },
   "outputs": [
    {
     "data": {
      "image/png": "[encoded data removed]",
      "text/plain": [
       "<Figure size 1000x600 with 1 Axes>"
      ]
     },
     "metadata": {},
     "output_type": "display_data"
    }
   ],
   "source": [
    "import matplotlib.pyplot as plt\n",
    "import seaborn as sns\n",
    "\n",
    "x = train_data['vocabulary']\n",
    "y = train_data['score']\n",
    "\n",
    "# Plotting\n",
    "plt.figure(figsize=(10, 6))\n",
    "sns.boxplot(x=x, y=y, data=train_data, orient='h').invert_yaxis()\n",
    "plt.title('Box Plot of x by y Categories')\n",
    "plt.xlabel('X = vocabulary')\n",
    "plt.ylabel('Y = score')\n",
    "plt.show()"
   ]
  },
  {
   "cell_type": "code",
   "execution_count": 76,
   "id": "a69ed6cf-9e8c-4da5-9c42-bf8ab61180c0",
   "metadata": {
    "tags": []
   },
   "outputs": [
    {
     "data": {
      "image/png": "[encoded data removed]",
      "text/plain": [
       "<Figure size 1000x600 with 1 Axes>"
      ]
     },
     "metadata": {},
     "output_type": "display_data"
    }
   ],
   "source": [
    "import matplotlib.pyplot as plt\n",
    "import seaborn as sns\n",
    "\n",
    "x = train_data['phraseology']\n",
    "y = train_data['score']\n",
    "\n",
    "# Plotting\n",
    "plt.figure(figsize=(10, 6))\n",
    "sns.boxplot(x=x, y=y, data=train_data, orient='h').invert_yaxis()\n",
    "plt.title('Box Plot of x by y Categories')\n",
    "plt.xlabel('X = phraseology')\n",
    "plt.ylabel('Y = score')\n",
    "plt.show()"
   ]
  },
  {
   "cell_type": "code",
   "execution_count": 77,
   "id": "3822bc9f-4823-410e-9d69-96c7fadcb6c8",
   "metadata": {
    "tags": []
   },
   "outputs": [
    {
     "data": {
      "image/png": "[encoded data removed]",
      "text/plain": [
       "<Figure size 1000x600 with 1 Axes>"
      ]
     },
     "metadata": {},
     "output_type": "display_data"
    }
   ],
   "source": [
    "import matplotlib.pyplot as plt\n",
    "import seaborn as sns\n",
    "\n",
    "x = train_data['grammar']\n",
    "y = train_data['score']\n",
    "\n",
    "# Plotting\n",
    "plt.figure(figsize=(10, 6))\n",
    "sns.boxplot(x=x, y=y, data=train_data, orient='h').invert_yaxis()\n",
    "plt.title('Box Plot of x by y Categories')\n",
    "plt.xlabel('X = grammar')\n",
    "plt.ylabel('Y = score')\n",
    "plt.show()"
   ]
  },
  {
   "cell_type": "code",
   "execution_count": 78,
   "id": "784389d5-3a94-4f7a-a774-eb4f929f525c",
   "metadata": {
    "tags": []
   },
   "outputs": [
    {
     "data": {
      "image/png": "[encoded data removed]",
      "text/plain": [
       "<Figure size 1000x600 with 1 Axes>"
      ]
     },
     "metadata": {},
     "output_type": "display_data"
    }
   ],
   "source": [
    "import matplotlib.pyplot as plt\n",
    "import seaborn as sns\n",
    "\n",
    "x = train_data['conventions']\n",
    "y = train_data['score']\n",
    "\n",
    "# Plotting\n",
    "plt.figure(figsize=(10, 6))\n",
    "sns.boxplot(x=x, y=y, data=train_data, orient='h').invert_yaxis()\n",
    "plt.title('Box Plot of x by y Categories')\n",
    "plt.xlabel('X = conventions')\n",
    "plt.ylabel('Y = score')\n",
    "plt.show()"
   ]
  },
  {
   "cell_type": "code",
   "execution_count": null,
   "id": "220bb880-4cba-4380-a381-29c17a1a2539",
   "metadata": {},
   "outputs": [],
   "source": []
  },
  {
   "cell_type": "markdown",
   "id": "64e139a4-0f88-492c-b709-cdc7520ee34c",
   "metadata": {
    "jp-MarkdownHeadingCollapsed": true,
    "tags": []
   },
   "source": [
    "### Numerical ML"
   ]
  },
  {
   "cell_type": "code",
   "execution_count": 79,
   "id": "7f9eb189-253e-45a0-934e-4aed819d5e78",
   "metadata": {
    "tags": []
   },
   "outputs": [],
   "source": [
    "import pandas as pd \n",
    "import numpy as np \n",
    "from sklearn.model_selection import cross_val_score, train_test_split\n",
    "from sklearn.impute import SimpleImputer\n",
    "from sklearn.compose import ColumnTransformer\n",
    "from sklearn.model_selection import GridSearchCV"
   ]
  },
  {
   "cell_type": "code",
   "execution_count": 80,
   "id": "c997c9ff-0c4c-415e-8a14-2db0031b5f6f",
   "metadata": {
    "tags": []
   },
   "outputs": [],
   "source": [
    "import scipy.stats\n",
    "#adjust for X & Y \n",
    "\n",
    "def z_score_removal(X,y, columns, z_score):\n",
    "    df = pd.concat([X, y], axis=1)\n",
    "    col_df = df[columns]    \n",
    "    z_scores = scipy.stats.zscore(col_df).abs()\n",
    "    outliers = (z_scores.max(axis=1) > z_score)\n",
    "    df_out = df[~outliers]\n",
    "    X_cleaned = df_out[X.columns]\n",
    "    y_cleaned = df_out.drop(X.columns, axis =1)\n",
    "    return X_cleaned, y_cleaned"
   ]
  },
  {
   "cell_type": "code",
   "execution_count": 81,
   "id": "9f1683c6-3a05-4cf3-b393-7df590af51e2",
   "metadata": {
    "tags": []
   },
   "outputs": [
    {
     "data": {
      "text/html": [
       "<div>\n",
       "<style scoped>\n",
       "    .dataframe tbody tr th:only-of-type {\n",
       "        vertical-align: middle;\n",
       "    }\n",
       "\n",
       "    .dataframe tbody tr th {\n",
       "        vertical-align: top;\n",
       "    }\n",
       "\n",
       "    .dataframe thead th {\n",
       "        text-align: right;\n",
       "    }\n",
       "</style>\n",
       "<table border=\"1\" class=\"dataframe\">\n",
       "  <thead>\n",
       "    <tr style=\"text-align: right;\">\n",
       "      <th></th>\n",
       "      <th>essay_id</th>\n",
       "      <th>full_text</th>\n",
       "      <th>score</th>\n",
       "      <th>critical</th>\n",
       "      <th>examples</th>\n",
       "      <th>cohesion</th>\n",
       "      <th>syntax</th>\n",
       "      <th>vocabulary</th>\n",
       "      <th>phraseology</th>\n",
       "      <th>grammar</th>\n",
       "      <th>conventions</th>\n",
       "    </tr>\n",
       "  </thead>\n",
       "  <tbody>\n",
       "    <tr>\n",
       "      <th>0</th>\n",
       "      <td>000d118</td>\n",
       "      <td>many people car live thing dont know use car a...</td>\n",
       "      <td>3</td>\n",
       "      <td>5</td>\n",
       "      <td>27</td>\n",
       "      <td>2.639018</td>\n",
       "      <td>2.567314</td>\n",
       "      <td>2.850983</td>\n",
       "      <td>2.707506</td>\n",
       "      <td>2.549393</td>\n",
       "      <td>2.499018</td>\n",
       "    </tr>\n",
       "    <tr>\n",
       "      <th>1</th>\n",
       "      <td>000fe60</td>\n",
       "      <td>scientist nasa discussing face mars explaining...</td>\n",
       "      <td>3</td>\n",
       "      <td>4</td>\n",
       "      <td>12</td>\n",
       "      <td>3.048544</td>\n",
       "      <td>3.007819</td>\n",
       "      <td>3.280329</td>\n",
       "      <td>3.196304</td>\n",
       "      <td>3.011036</td>\n",
       "      <td>2.916120</td>\n",
       "    </tr>\n",
       "    <tr>\n",
       "      <th>2</th>\n",
       "      <td>001ab80</td>\n",
       "      <td>people always wish technology seen movies best...</td>\n",
       "      <td>4</td>\n",
       "      <td>4</td>\n",
       "      <td>2</td>\n",
       "      <td>3.510007</td>\n",
       "      <td>3.449628</td>\n",
       "      <td>3.720742</td>\n",
       "      <td>3.639783</td>\n",
       "      <td>3.435374</td>\n",
       "      <td>3.372588</td>\n",
       "    </tr>\n",
       "    <tr>\n",
       "      <th>3</th>\n",
       "      <td>001bdc0</td>\n",
       "      <td>heard venus planet without almost oxygen earth...</td>\n",
       "      <td>4</td>\n",
       "      <td>5</td>\n",
       "      <td>29</td>\n",
       "      <td>3.226227</td>\n",
       "      <td>3.191353</td>\n",
       "      <td>3.487139</td>\n",
       "      <td>3.308548</td>\n",
       "      <td>3.138849</td>\n",
       "      <td>2.999923</td>\n",
       "    </tr>\n",
       "    <tr>\n",
       "      <th>4</th>\n",
       "      <td>002ba53</td>\n",
       "      <td>dear state senatorthis letter argue favor keep...</td>\n",
       "      <td>3</td>\n",
       "      <td>3</td>\n",
       "      <td>22</td>\n",
       "      <td>3.123905</td>\n",
       "      <td>3.061278</td>\n",
       "      <td>3.329211</td>\n",
       "      <td>3.131118</td>\n",
       "      <td>3.007472</td>\n",
       "      <td>2.851665</td>\n",
       "    </tr>\n",
       "  </tbody>\n",
       "</table>\n",
       "</div>"
      ],
      "text/plain": [
       "  essay_id                                          full_text  score  \\\n",
       "0  000d118  many people car live thing dont know use car a...      3   \n",
       "1  000fe60  scientist nasa discussing face mars explaining...      3   \n",
       "2  001ab80  people always wish technology seen movies best...      4   \n",
       "3  001bdc0  heard venus planet without almost oxygen earth...      4   \n",
       "4  002ba53  dear state senatorthis letter argue favor keep...      3   \n",
       "\n",
       "   critical  examples  cohesion    syntax  vocabulary  phraseology   grammar  \\\n",
       "0         5        27  2.639018  2.567314    2.850983     2.707506  2.549393   \n",
       "1         4        12  3.048544  3.007819    3.280329     3.196304  3.011036   \n",
       "2         4         2  3.510007  3.449628    3.720742     3.639783  3.435374   \n",
       "3         5        29  3.226227  3.191353    3.487139     3.308548  3.138849   \n",
       "4         3        22  3.123905  3.061278    3.329211     3.131118  3.007472   \n",
       "\n",
       "   conventions  \n",
       "0     2.499018  \n",
       "1     2.916120  \n",
       "2     3.372588  \n",
       "3     2.999923  \n",
       "4     2.851665  "
      ]
     },
     "execution_count": 81,
     "metadata": {},
     "output_type": "execute_result"
    }
   ],
   "source": [
    "train_data.head()"
   ]
  },
  {
   "cell_type": "code",
   "execution_count": 82,
   "id": "34478284-bcf0-44a3-a441-73cef3d0da16",
   "metadata": {
    "tags": []
   },
   "outputs": [],
   "source": [
    "# Only remove outliers from the training set\n",
    "# X_Reg_fin, y_reg_fin = z_score_removal(X_Reg,y_train,['New_Age','Purchase'],2)"
   ]
  },
  {
   "cell_type": "code",
   "execution_count": 83,
   "id": "244ea575-8757-4c02-9ab6-1c778ed87b72",
   "metadata": {
    "tags": []
   },
   "outputs": [],
   "source": [
    "#create train/ test split \n",
    "X = train_data.drop(['essay_id','full_text','score'], axis=1)\n",
    "y = train_data['score']\n",
    "\n",
    "X_train, X_test, y_train, y_test = train_test_split(X, y, test_size=0.2, random_state=37)\n"
   ]
  },
  {
   "cell_type": "code",
   "execution_count": 84,
   "id": "59d52a91-e297-4e93-aedf-e38ab6148a6a",
   "metadata": {
    "tags": []
   },
   "outputs": [],
   "source": [
    "#########Data Impuation & Outlier Removal (Linear Regression) ###############\n",
    "#outlier removal function\n",
    "\n",
    "from sklearn.pipeline import Pipeline"
   ]
  },
  {
   "cell_type": "markdown",
   "id": "789ec5bb-9b9d-4e47-a54a-8af4cfba6881",
   "metadata": {
    "tags": []
   },
   "source": [
    "#### Linear Regression"
   ]
  },
  {
   "cell_type": "code",
   "execution_count": 85,
   "id": "7e2da834-01f3-4e14-b56a-2deeee0202a4",
   "metadata": {
    "tags": []
   },
   "outputs": [
    {
     "name": "stdout",
     "output_type": "stream",
     "text": [
      "                            OLS Regression Results                            \n",
      "==============================================================================\n",
      "Dep. Variable:                  score   R-squared:                       0.338\n",
      "Model:                            OLS   Adj. R-squared:                  0.337\n",
      "Method:                 Least Squares   F-statistic:                     881.1\n",
      "Date:                Fri, 28 Jun 2024   Prob (F-statistic):               0.00\n",
      "Time:                        10:29:39   Log-Likelihood:                -17470.\n",
      "No. Observations:               13845   AIC:                         3.496e+04\n",
      "Df Residuals:                   13836   BIC:                         3.503e+04\n",
      "Df Model:                           8                                         \n",
      "Covariance Type:            nonrobust                                         \n",
      "===============================================================================\n",
      "                  coef    std err          t      P>|t|      [0.025      0.975]\n",
      "-------------------------------------------------------------------------------\n",
      "const          -2.3149      0.142    -16.309      0.000      -2.593      -2.037\n",
      "critical        0.4351      0.008     53.367      0.000       0.419       0.451\n",
      "examples        0.0108      0.001     12.591      0.000       0.009       0.012\n",
      "cohesion       -4.7549      0.556     -8.548      0.000      -5.845      -3.665\n",
      "syntax          7.8472      0.813      9.655      0.000       6.254       9.440\n",
      "vocabulary      0.1742      0.378      0.461      0.645      -0.566       0.914\n",
      "phraseology    -1.6212      0.355     -4.569      0.000      -2.317      -0.926\n",
      "grammar        -3.2647      0.356     -9.163      0.000      -3.963      -2.566\n",
      "conventions     3.0131      0.244     12.363      0.000       2.535       3.491\n",
      "==============================================================================\n",
      "Omnibus:                       45.328   Durbin-Watson:                   1.996\n",
      "Prob(Omnibus):                  0.000   Jarque-Bera (JB):               50.030\n",
      "Skew:                          -0.100   Prob(JB):                     1.37e-11\n",
      "Kurtosis:                       3.216   Cond. No.                     2.59e+03\n",
      "==============================================================================\n",
      "\n",
      "Notes:\n",
      "[1] Standard Errors assume that the covariance matrix of the errors is correctly specified.\n",
      "[2] The condition number is large, 2.59e+03. This might indicate that there are\n",
      "strong multicollinearity or other numerical problems.\n"
     ]
    }
   ],
   "source": [
    "#running linear regression\n",
    "import statsmodels.api as sm\n",
    "\n",
    "sm_X = sm.add_constant(X_train)\n",
    "sm_model_lr = sm.OLS(y_train, sm_X).fit()\n",
    "\n",
    "print(sm_model_lr.summary())"
   ]
  },
  {
   "cell_type": "code",
   "execution_count": 86,
   "id": "b298ba2f-4121-4bbe-a590-4d5eefc46333",
   "metadata": {
    "tags": []
   },
   "outputs": [],
   "source": [
    "#########Data Impuation, Outlier Removal, & Scaling (Ridge, Lasso, Elastic NEt, SVM) ###############\n",
    "# rr_pipe = Pipeline([\n",
    "#     ('impute_trans', impute_preprocessor),\n",
    "#     ('categorical_trans', category_preprocessor),\n",
    "#     ('feat_scaling', scaling_preprocessor),\n",
    "#     ('onehot', onehot_preprocessor)\n",
    "# ])\n",
    "\n",
    "# X_rr = rr_pipe.fit_transform(X_train)\n",
    "X_rr_fin, y_rr_fin = z_score_removal(X_train, y_train,['examples'],2)\n"
   ]
  },
  {
   "cell_type": "code",
   "execution_count": 87,
   "id": "31305e43-5b41-4a3b-944f-69933bcc9db5",
   "metadata": {
    "tags": []
   },
   "outputs": [
    {
     "name": "stdout",
     "output_type": "stream",
     "text": [
      "                            OLS Regression Results                            \n",
      "==============================================================================\n",
      "Dep. Variable:                  score   R-squared:                       0.332\n",
      "Model:                            OLS   Adj. R-squared:                  0.332\n",
      "Method:                 Least Squares   F-statistic:                     820.6\n",
      "Date:                Fri, 28 Jun 2024   Prob (F-statistic):               0.00\n",
      "Time:                        10:29:45   Log-Likelihood:                -16389.\n",
      "No. Observations:               13210   AIC:                         3.280e+04\n",
      "Df Residuals:                   13201   BIC:                         3.286e+04\n",
      "Df Model:                           8                                         \n",
      "Covariance Type:            nonrobust                                         \n",
      "===============================================================================\n",
      "                  coef    std err          t      P>|t|      [0.025      0.975]\n",
      "-------------------------------------------------------------------------------\n",
      "const          -2.1650      0.141    -15.311      0.000      -2.442      -1.888\n",
      "critical        0.4450      0.008     54.676      0.000       0.429       0.461\n",
      "examples        0.0107      0.001     10.165      0.000       0.009       0.013\n",
      "cohesion       -4.5768      0.557     -8.220      0.000      -5.668      -3.485\n",
      "syntax          7.4482      0.809      9.204      0.000       5.862       9.034\n",
      "vocabulary      0.1769      0.375      0.472      0.637      -0.558       0.912\n",
      "phraseology    -1.7219      0.353     -4.875      0.000      -2.414      -1.030\n",
      "grammar        -3.0111      0.355     -8.493      0.000      -3.706      -2.316\n",
      "conventions     3.0245      0.244     12.372      0.000       2.545       3.504\n",
      "==============================================================================\n",
      "Omnibus:                       22.172   Durbin-Watson:                   1.987\n",
      "Prob(Omnibus):                  0.000   Jarque-Bera (JB):               24.157\n",
      "Skew:                          -0.064   Prob(JB):                     5.68e-06\n",
      "Kurtosis:                       3.167   Cond. No.                     2.28e+03\n",
      "==============================================================================\n",
      "\n",
      "Notes:\n",
      "[1] Standard Errors assume that the covariance matrix of the errors is correctly specified.\n",
      "[2] The condition number is large, 2.28e+03. This might indicate that there are\n",
      "strong multicollinearity or other numerical problems.\n"
     ]
    }
   ],
   "source": [
    "sm_X = sm.add_constant(X_rr_fin)\n",
    "sm_model_lr = sm.OLS(y_rr_fin, sm_X).fit()\n",
    "\n",
    "print(sm_model_lr.summary())"
   ]
  },
  {
   "cell_type": "markdown",
   "id": "50711c59-ba93-4a51-a199-b6e06483fc55",
   "metadata": {
    "tags": []
   },
   "source": [
    "#### LR + regularization"
   ]
  },
  {
   "cell_type": "code",
   "execution_count": 88,
   "id": "a38631ee-586c-4493-8b10-e8bdcc47f3b3",
   "metadata": {
    "tags": []
   },
   "outputs": [
    {
     "name": "stdout",
     "output_type": "stream",
     "text": [
      "[-1.01468126 -1.03364693 -1.00440585]\n",
      "[-0.70583732 -0.7073569  -0.69759454]\n",
      "[-1.00369581 -1.02550344 -0.9968981 ]\n"
     ]
    }
   ],
   "source": [
    "#Code for running ridge regression \n",
    "from sklearn.linear_model import Lasso, Ridge, ElasticNet \n",
    "\n",
    "lasso_model = Lasso()\n",
    "ridge_model = Ridge()\n",
    "en_model = ElasticNet() \n",
    "\n",
    "la_scores = cross_val_score(lasso_model, X_rr_fin, y_rr_fin, cv=3, scoring='neg_mean_squared_error')\n",
    "print(la_scores)\n",
    "r_scores = cross_val_score(ridge_model, X_rr_fin, y_rr_fin, cv=3, scoring='neg_mean_squared_error')\n",
    "print(r_scores)\n",
    "en_scores = cross_val_score(en_model, X_rr_fin, y_rr_fin, cv=3, scoring='neg_mean_squared_error')\n",
    "print(en_scores)"
   ]
  },
  {
   "cell_type": "markdown",
   "id": "483311ad-a6f0-4367-9830-18c4cc6ced96",
   "metadata": {
    "tags": []
   },
   "source": [
    "#### SVM"
   ]
  },
  {
   "cell_type": "code",
   "execution_count": 89,
   "id": "66a4b771-03ee-4e24-9997-8fe1dff4a397",
   "metadata": {
    "tags": []
   },
   "outputs": [
    {
     "name": "stderr",
     "output_type": "stream",
     "text": [
      "C:\\Users\\LiangX\\anaconda3\\Lib\\site-packages\\sklearn\\utils\\validation.py:1143: DataConversionWarning: A column-vector y was passed when a 1d array was expected. Please change the shape of y to (n_samples, ), for example using ravel().\n",
      "  y = column_or_1d(y, warn=True)\n",
      "C:\\Users\\LiangX\\anaconda3\\Lib\\site-packages\\sklearn\\utils\\validation.py:1143: DataConversionWarning: A column-vector y was passed when a 1d array was expected. Please change the shape of y to (n_samples, ), for example using ravel().\n",
      "  y = column_or_1d(y, warn=True)\n",
      "C:\\Users\\LiangX\\anaconda3\\Lib\\site-packages\\sklearn\\utils\\validation.py:1143: DataConversionWarning: A column-vector y was passed when a 1d array was expected. Please change the shape of y to (n_samples, ), for example using ravel().\n",
      "  y = column_or_1d(y, warn=True)\n",
      "C:\\Users\\LiangX\\anaconda3\\Lib\\site-packages\\sklearn\\utils\\validation.py:1143: DataConversionWarning: A column-vector y was passed when a 1d array was expected. Please change the shape of y to (n_samples, ), for example using ravel().\n",
      "  y = column_or_1d(y, warn=True)\n",
      "C:\\Users\\LiangX\\anaconda3\\Lib\\site-packages\\sklearn\\utils\\validation.py:1143: DataConversionWarning: A column-vector y was passed when a 1d array was expected. Please change the shape of y to (n_samples, ), for example using ravel().\n",
      "  y = column_or_1d(y, warn=True)\n"
     ]
    },
    {
     "name": "stdout",
     "output_type": "stream",
     "text": [
      "[-0.70520406 -0.69992589 -0.70627669 -0.71091672 -0.71015221]\n"
     ]
    },
    {
     "data": {
      "text/plain": [
       "'\\nparam_grid = {\\n    \\'kernel\\': [\\'linear\\', \\'rbf\\'],\\n    \\'C\\': [0.1, 1, 10],\\n    \\'gamma\\': [\\'scale\\', \\'auto\\', 0.1, 1, 10]\\n}\\ngrid_search_svm = GridSearchCV(svr, param_grid, scoring=\\'neg_mean_squared_error\\', cv=5, n_jobs=-1, verbose=1)\\ngrid_search_svm.fit(X_rr_fin, y_rr_fin)\\ntest_score_svm = grid_search_svm.best_estimator_.score(X_rr_fin, y_rr_fin)\\n\\n\\nprint(f\"Best kernel value: {grid_search_svm.best_params_[\\'kernel\\']}\")\\nprint(f\"Best C value: {grid_search_svm.best_params_[\\'C\\']}\")\\nprint(f\"Best gamma value: {grid_search_svm.best_params_[\\'gamma\\']}\")\\nprint(f\"Best negative mean squared error: {grid_search_svm.best_score_}\")\\n'"
      ]
     },
     "execution_count": 89,
     "metadata": {},
     "output_type": "execute_result"
    }
   ],
   "source": [
    "#SVM Code \n",
    "from sklearn.svm import SVR\n",
    "\n",
    "svm_model = SVR(kernel='linear', C=1.0)\n",
    "svm_scores = cross_val_score(svm_model, X_rr_fin, y_rr_fin, cv=5,scoring='neg_mean_squared_error')\n",
    "print(svm_scores)\n",
    "\n",
    "\"\"\"\n",
    "param_grid = {\n",
    "    'kernel': ['linear', 'rbf'],\n",
    "    'C': [0.1, 1, 10],\n",
    "    'gamma': ['scale', 'auto', 0.1, 1, 10]\n",
    "}\n",
    "grid_search_svm = GridSearchCV(svr, param_grid, scoring='neg_mean_squared_error', cv=5, n_jobs=-1, verbose=1)\n",
    "grid_search_svm.fit(X_rr_fin, y_rr_fin)\n",
    "test_score_svm = grid_search_svm.best_estimator_.score(X_rr_fin, y_rr_fin)\n",
    "\n",
    "\n",
    "print(f\"Best kernel value: {grid_search_svm.best_params_['kernel']}\")\n",
    "print(f\"Best C value: {grid_search_svm.best_params_['C']}\")\n",
    "print(f\"Best gamma value: {grid_search_svm.best_params_['gamma']}\")\n",
    "print(f\"Best negative mean squared error: {grid_search_svm.best_score_}\")\n",
    "\"\"\""
   ]
  },
  {
   "cell_type": "code",
   "execution_count": null,
   "id": "87b651b2-a378-46d6-b27b-8f315326766b",
   "metadata": {},
   "outputs": [],
   "source": []
  },
  {
   "cell_type": "code",
   "execution_count": null,
   "id": "87a29f61-e1f4-4f2a-a56a-6d9ad345f3b1",
   "metadata": {},
   "outputs": [],
   "source": []
  },
  {
   "cell_type": "code",
   "execution_count": null,
   "id": "abd5a170-71b9-4845-bc9e-51b65f70ba99",
   "metadata": {},
   "outputs": [],
   "source": []
  },
  {
   "cell_type": "code",
   "execution_count": null,
   "id": "46a37583-5c10-4d71-9b09-dd65813de254",
   "metadata": {},
   "outputs": [],
   "source": []
  },
  {
   "cell_type": "code",
   "execution_count": null,
   "id": "60d08d00-19d5-4d7d-adbc-bbe179dc04e1",
   "metadata": {},
   "outputs": [],
   "source": []
  },
  {
   "cell_type": "markdown",
   "id": "6911acf7-504c-4f5f-9961-9227cbe8f64c",
   "metadata": {
    "tags": []
   },
   "source": [
    "### LSTM"
   ]
  },
  {
   "cell_type": "code",
   "execution_count": 90,
   "id": "645610a7-ac83-49fc-9629-3638b805062f",
   "metadata": {
    "tags": []
   },
   "outputs": [
    {
     "data": {
      "text/html": [
       "<div>\n",
       "<style scoped>\n",
       "    .dataframe tbody tr th:only-of-type {\n",
       "        vertical-align: middle;\n",
       "    }\n",
       "\n",
       "    .dataframe tbody tr th {\n",
       "        vertical-align: top;\n",
       "    }\n",
       "\n",
       "    .dataframe thead th {\n",
       "        text-align: right;\n",
       "    }\n",
       "</style>\n",
       "<table border=\"1\" class=\"dataframe\">\n",
       "  <thead>\n",
       "    <tr style=\"text-align: right;\">\n",
       "      <th></th>\n",
       "      <th>essay_id</th>\n",
       "      <th>full_text</th>\n",
       "      <th>score</th>\n",
       "      <th>critical</th>\n",
       "      <th>examples</th>\n",
       "      <th>cohesion</th>\n",
       "      <th>syntax</th>\n",
       "      <th>vocabulary</th>\n",
       "      <th>phraseology</th>\n",
       "      <th>grammar</th>\n",
       "      <th>conventions</th>\n",
       "    </tr>\n",
       "  </thead>\n",
       "  <tbody>\n",
       "    <tr>\n",
       "      <th>0</th>\n",
       "      <td>000d118</td>\n",
       "      <td>many people car live thing dont know use car a...</td>\n",
       "      <td>3</td>\n",
       "      <td>5</td>\n",
       "      <td>27</td>\n",
       "      <td>2.639018</td>\n",
       "      <td>2.567314</td>\n",
       "      <td>2.850983</td>\n",
       "      <td>2.707506</td>\n",
       "      <td>2.549393</td>\n",
       "      <td>2.499018</td>\n",
       "    </tr>\n",
       "    <tr>\n",
       "      <th>1</th>\n",
       "      <td>000fe60</td>\n",
       "      <td>scientist nasa discussing face mars explaining...</td>\n",
       "      <td>3</td>\n",
       "      <td>4</td>\n",
       "      <td>12</td>\n",
       "      <td>3.048544</td>\n",
       "      <td>3.007819</td>\n",
       "      <td>3.280329</td>\n",
       "      <td>3.196304</td>\n",
       "      <td>3.011036</td>\n",
       "      <td>2.916120</td>\n",
       "    </tr>\n",
       "    <tr>\n",
       "      <th>2</th>\n",
       "      <td>001ab80</td>\n",
       "      <td>people always wish technology seen movies best...</td>\n",
       "      <td>4</td>\n",
       "      <td>4</td>\n",
       "      <td>2</td>\n",
       "      <td>3.510007</td>\n",
       "      <td>3.449628</td>\n",
       "      <td>3.720742</td>\n",
       "      <td>3.639783</td>\n",
       "      <td>3.435374</td>\n",
       "      <td>3.372588</td>\n",
       "    </tr>\n",
       "    <tr>\n",
       "      <th>3</th>\n",
       "      <td>001bdc0</td>\n",
       "      <td>heard venus planet without almost oxygen earth...</td>\n",
       "      <td>4</td>\n",
       "      <td>5</td>\n",
       "      <td>29</td>\n",
       "      <td>3.226227</td>\n",
       "      <td>3.191353</td>\n",
       "      <td>3.487139</td>\n",
       "      <td>3.308548</td>\n",
       "      <td>3.138849</td>\n",
       "      <td>2.999923</td>\n",
       "    </tr>\n",
       "    <tr>\n",
       "      <th>4</th>\n",
       "      <td>002ba53</td>\n",
       "      <td>dear state senatorthis letter argue favor keep...</td>\n",
       "      <td>3</td>\n",
       "      <td>3</td>\n",
       "      <td>22</td>\n",
       "      <td>3.123905</td>\n",
       "      <td>3.061278</td>\n",
       "      <td>3.329211</td>\n",
       "      <td>3.131118</td>\n",
       "      <td>3.007472</td>\n",
       "      <td>2.851665</td>\n",
       "    </tr>\n",
       "    <tr>\n",
       "      <th>5</th>\n",
       "      <td>0030e86</td>\n",
       "      <td>choose keeping electoral college abolishing wo...</td>\n",
       "      <td>4</td>\n",
       "      <td>2</td>\n",
       "      <td>17</td>\n",
       "      <td>3.375164</td>\n",
       "      <td>3.350473</td>\n",
       "      <td>3.622525</td>\n",
       "      <td>3.472995</td>\n",
       "      <td>3.352175</td>\n",
       "      <td>3.103592</td>\n",
       "    </tr>\n",
       "    <tr>\n",
       "      <th>6</th>\n",
       "      <td>0033037</td>\n",
       "      <td>posibilty face reconizing computer would helpf...</td>\n",
       "      <td>2</td>\n",
       "      <td>1</td>\n",
       "      <td>0</td>\n",
       "      <td>3.371801</td>\n",
       "      <td>3.342366</td>\n",
       "      <td>3.536418</td>\n",
       "      <td>3.466276</td>\n",
       "      <td>3.352899</td>\n",
       "      <td>3.319043</td>\n",
       "    </tr>\n",
       "    <tr>\n",
       "      <th>7</th>\n",
       "      <td>0033bf4</td>\n",
       "      <td>seagoing cowboys progamit help many countries ...</td>\n",
       "      <td>3</td>\n",
       "      <td>4</td>\n",
       "      <td>16</td>\n",
       "      <td>3.461246</td>\n",
       "      <td>3.419210</td>\n",
       "      <td>3.636511</td>\n",
       "      <td>3.595253</td>\n",
       "      <td>3.481359</td>\n",
       "      <td>3.373739</td>\n",
       "    </tr>\n",
       "    <tr>\n",
       "      <th>8</th>\n",
       "      <td>0036253</td>\n",
       "      <td>challenge exploring venusthis storie challeng ...</td>\n",
       "      <td>2</td>\n",
       "      <td>3</td>\n",
       "      <td>10</td>\n",
       "      <td>2.883260</td>\n",
       "      <td>2.909357</td>\n",
       "      <td>3.182194</td>\n",
       "      <td>2.995526</td>\n",
       "      <td>2.874977</td>\n",
       "      <td>2.727750</td>\n",
       "    </tr>\n",
       "    <tr>\n",
       "      <th>9</th>\n",
       "      <td>0040e27</td>\n",
       "      <td>many reasons join seagoing cowboys program wou...</td>\n",
       "      <td>3</td>\n",
       "      <td>3</td>\n",
       "      <td>17</td>\n",
       "      <td>3.136167</td>\n",
       "      <td>3.077763</td>\n",
       "      <td>3.324787</td>\n",
       "      <td>3.216967</td>\n",
       "      <td>3.132904</td>\n",
       "      <td>3.008853</td>\n",
       "    </tr>\n",
       "  </tbody>\n",
       "</table>\n",
       "</div>"
      ],
      "text/plain": [
       "  essay_id                                          full_text  score  \\\n",
       "0  000d118  many people car live thing dont know use car a...      3   \n",
       "1  000fe60  scientist nasa discussing face mars explaining...      3   \n",
       "2  001ab80  people always wish technology seen movies best...      4   \n",
       "3  001bdc0  heard venus planet without almost oxygen earth...      4   \n",
       "4  002ba53  dear state senatorthis letter argue favor keep...      3   \n",
       "5  0030e86  choose keeping electoral college abolishing wo...      4   \n",
       "6  0033037  posibilty face reconizing computer would helpf...      2   \n",
       "7  0033bf4  seagoing cowboys progamit help many countries ...      3   \n",
       "8  0036253  challenge exploring venusthis storie challeng ...      2   \n",
       "9  0040e27  many reasons join seagoing cowboys program wou...      3   \n",
       "\n",
       "   critical  examples  cohesion    syntax  vocabulary  phraseology   grammar  \\\n",
       "0         5        27  2.639018  2.567314    2.850983     2.707506  2.549393   \n",
       "1         4        12  3.048544  3.007819    3.280329     3.196304  3.011036   \n",
       "2         4         2  3.510007  3.449628    3.720742     3.639783  3.435374   \n",
       "3         5        29  3.226227  3.191353    3.487139     3.308548  3.138849   \n",
       "4         3        22  3.123905  3.061278    3.329211     3.131118  3.007472   \n",
       "5         2        17  3.375164  3.350473    3.622525     3.472995  3.352175   \n",
       "6         1         0  3.371801  3.342366    3.536418     3.466276  3.352899   \n",
       "7         4        16  3.461246  3.419210    3.636511     3.595253  3.481359   \n",
       "8         3        10  2.883260  2.909357    3.182194     2.995526  2.874977   \n",
       "9         3        17  3.136167  3.077763    3.324787     3.216967  3.132904   \n",
       "\n",
       "   conventions  \n",
       "0     2.499018  \n",
       "1     2.916120  \n",
       "2     3.372588  \n",
       "3     2.999923  \n",
       "4     2.851665  \n",
       "5     3.103592  \n",
       "6     3.319043  \n",
       "7     3.373739  \n",
       "8     2.727750  \n",
       "9     3.008853  "
      ]
     },
     "execution_count": 90,
     "metadata": {},
     "output_type": "execute_result"
    }
   ],
   "source": [
    "train_data.head(10)"
   ]
  },
  {
   "cell_type": "code",
   "execution_count": 91,
   "id": "bc65496e-d870-4068-95a7-9f572b450149",
   "metadata": {
    "tags": []
   },
   "outputs": [
    {
     "name": "stdout",
     "output_type": "stream",
     "text": [
      "<class 'pandas.core.frame.DataFrame'>\n",
      "RangeIndex: 17307 entries, 0 to 17306\n",
      "Data columns (total 11 columns):\n",
      " #   Column       Non-Null Count  Dtype  \n",
      "---  ------       --------------  -----  \n",
      " 0   essay_id     17307 non-null  object \n",
      " 1   full_text    17307 non-null  object \n",
      " 2   score        17307 non-null  int64  \n",
      " 3   critical     17307 non-null  int64  \n",
      " 4   examples     17307 non-null  int64  \n",
      " 5   cohesion     17307 non-null  float32\n",
      " 6   syntax       17307 non-null  float32\n",
      " 7   vocabulary   17307 non-null  float32\n",
      " 8   phraseology  17307 non-null  float32\n",
      " 9   grammar      17307 non-null  float32\n",
      " 10  conventions  17307 non-null  float32\n",
      "dtypes: float32(6), int64(3), object(2)\n",
      "memory usage: 1.1+ MB\n"
     ]
    }
   ],
   "source": [
    "train_data.info()"
   ]
  },
  {
   "cell_type": "code",
   "execution_count": 92,
   "id": "dd1b4902-1ced-4c68-885a-629a5320e5b3",
   "metadata": {
    "tags": []
   },
   "outputs": [],
   "source": [
    "from tensorflow.keras.preprocessing.text import Tokenizer\n",
    "from tensorflow.keras.preprocessing.sequence import pad_sequences"
   ]
  },
  {
   "cell_type": "code",
   "execution_count": 93,
   "id": "726f60a4-d5e3-44b0-ac68-837e59f034c7",
   "metadata": {
    "tags": []
   },
   "outputs": [],
   "source": [
    "train_essays, val_essays, train_scores, val_scores = train_test_split(train_data['full_text'],\n",
    "                                                                      train_data['score'],\n",
    "                                                                      test_size=0.2,\n",
    "                                                                      random_state=42)"
   ]
  },
  {
   "cell_type": "code",
   "execution_count": 94,
   "id": "2d50f7ac-29b3-4583-8b9b-01fd512a705d",
   "metadata": {
    "tags": []
   },
   "outputs": [],
   "source": [
    "features = 5000 #number of words in dictionary\n",
    "tokenizer = tokenizer = Tokenizer(num_words = features, oov_token='<OOV>') #OOV is for words not in the dictionary\n",
    "tokenizer.fit_on_texts(train_essays)\n",
    "word_index = tokenizer.word_index\n",
    "\n",
    "train_essays = tokenizer.texts_to_sequences(list(train_essays))\n",
    "val_essays   = tokenizer.texts_to_sequences(list(val_essays))"
   ]
  },
  {
   "cell_type": "code",
   "execution_count": 95,
   "id": "b52f5562-e199-486c-8bd8-c2a89b444fff",
   "metadata": {
    "tags": []
   },
   "outputs": [],
   "source": [
    "max_length = 2000 #Max words in the news sequence\n",
    "\n",
    "x_train_padded = pad_sequences(train_essays, maxlen=max_length, padding='post', truncating='post')\n",
    "x_val_padded   = pad_sequences(val_essays,   maxlen=max_length, padding='post', truncating='post')"
   ]
  },
  {
   "cell_type": "code",
   "execution_count": 96,
   "id": "7261023b-3625-4fb6-bdb3-dfea40eff926",
   "metadata": {
    "tags": []
   },
   "outputs": [],
   "source": [
    "label_tokenizer = Tokenizer()\n",
    "# label_tokenizer.fit_on_texts(train_data['score'])\n",
    "\n",
    "train_scores = np.array(train_scores)\n",
    "val_scores   = np.array(val_scores)"
   ]
  },
  {
   "cell_type": "code",
   "execution_count": null,
   "id": "37635e8a-4cfc-47ec-9f52-0ae9026521fa",
   "metadata": {},
   "outputs": [],
   "source": []
  },
  {
   "cell_type": "code",
   "execution_count": null,
   "id": "e86f7a70-667c-43e3-a7dd-92c08a670ac2",
   "metadata": {},
   "outputs": [],
   "source": []
  },
  {
   "cell_type": "code",
   "execution_count": 97,
   "id": "58a54d63-dab3-484f-b1b5-96d57272dc2e",
   "metadata": {
    "tags": []
   },
   "outputs": [
    {
     "name": "stdout",
     "output_type": "stream",
     "text": [
      "Tensorflow: 2.16.1\n"
     ]
    }
   ],
   "source": [
    "from tensorflow.keras.models import Sequential\n",
    "from tensorflow.keras.layers import Dense, Flatten, LSTM, Dropout, Activation, Embedding, Bidirectional\n",
    "import tensorflow as tf\n",
    "print('Tensorflow:',tf.__version__)"
   ]
  },
  {
   "cell_type": "code",
   "execution_count": 98,
   "id": "bab2ac4e-e744-4e05-b574-83f38638c20f",
   "metadata": {
    "tags": []
   },
   "outputs": [
    {
     "data": {
      "text/html": [
       "<pre style=\"white-space:pre;overflow-x:auto;line-height:normal;font-family:Menlo,'DejaVu Sans Mono',consolas,'Courier New',monospace\"><span style=\"font-weight: bold\">Model: \"sequential_10\"</span>\n",
       "</pre>\n"
      ],
      "text/plain": [
       "\u001b[1mModel: \"sequential_10\"\u001b[0m\n"
      ]
     },
     "metadata": {},
     "output_type": "display_data"
    },
    {
     "data": {
      "text/html": [
       "<pre style=\"white-space:pre;overflow-x:auto;line-height:normal;font-family:Menlo,'DejaVu Sans Mono',consolas,'Courier New',monospace\">┏━━━━━━━━━━━━━━━━━━━━━━━━━━━━━━━━━┳━━━━━━━━━━━━━━━━━━━━━━━━┳━━━━━━━━━━━━━━━┓\n",
       "┃<span style=\"font-weight: bold\"> Layer (type)                    </span>┃<span style=\"font-weight: bold\"> Output Shape           </span>┃<span style=\"font-weight: bold\">       Param # </span>┃\n",
       "┡━━━━━━━━━━━━━━━━━━━━━━━━━━━━━━━━━╇━━━━━━━━━━━━━━━━━━━━━━━━╇━━━━━━━━━━━━━━━┩\n",
       "│ embedding (<span style=\"color: #0087ff; text-decoration-color: #0087ff\">Embedding</span>)           │ ?                      │   <span style=\"color: #00af00; text-decoration-color: #00af00\">0</span> (unbuilt) │\n",
       "├─────────────────────────────────┼────────────────────────┼───────────────┤\n",
       "│ dropout_17 (<span style=\"color: #0087ff; text-decoration-color: #0087ff\">Dropout</span>)            │ ?                      │   <span style=\"color: #00af00; text-decoration-color: #00af00\">0</span> (unbuilt) │\n",
       "├─────────────────────────────────┼────────────────────────┼───────────────┤\n",
       "│ bidirectional (<span style=\"color: #0087ff; text-decoration-color: #0087ff\">Bidirectional</span>)   │ ?                      │   <span style=\"color: #00af00; text-decoration-color: #00af00\">0</span> (unbuilt) │\n",
       "├─────────────────────────────────┼────────────────────────┼───────────────┤\n",
       "│ dense_28 (<span style=\"color: #0087ff; text-decoration-color: #0087ff\">Dense</span>)                │ ?                      │   <span style=\"color: #00af00; text-decoration-color: #00af00\">0</span> (unbuilt) │\n",
       "└─────────────────────────────────┴────────────────────────┴───────────────┘\n",
       "</pre>\n"
      ],
      "text/plain": [
       "┏━━━━━━━━━━━━━━━━━━━━━━━━━━━━━━━━━┳━━━━━━━━━━━━━━━━━━━━━━━━┳━━━━━━━━━━━━━━━┓\n",
       "┃\u001b[1m \u001b[0m\u001b[1mLayer (type)                   \u001b[0m\u001b[1m \u001b[0m┃\u001b[1m \u001b[0m\u001b[1mOutput Shape          \u001b[0m\u001b[1m \u001b[0m┃\u001b[1m \u001b[0m\u001b[1m      Param #\u001b[0m\u001b[1m \u001b[0m┃\n",
       "┡━━━━━━━━━━━━━━━━━━━━━━━━━━━━━━━━━╇━━━━━━━━━━━━━━━━━━━━━━━━╇━━━━━━━━━━━━━━━┩\n",
       "│ embedding (\u001b[38;5;33mEmbedding\u001b[0m)           │ ?                      │   \u001b[38;5;34m0\u001b[0m (unbuilt) │\n",
       "├─────────────────────────────────┼────────────────────────┼───────────────┤\n",
       "│ dropout_17 (\u001b[38;5;33mDropout\u001b[0m)            │ ?                      │   \u001b[38;5;34m0\u001b[0m (unbuilt) │\n",
       "├─────────────────────────────────┼────────────────────────┼───────────────┤\n",
       "│ bidirectional (\u001b[38;5;33mBidirectional\u001b[0m)   │ ?                      │   \u001b[38;5;34m0\u001b[0m (unbuilt) │\n",
       "├─────────────────────────────────┼────────────────────────┼───────────────┤\n",
       "│ dense_28 (\u001b[38;5;33mDense\u001b[0m)                │ ?                      │   \u001b[38;5;34m0\u001b[0m (unbuilt) │\n",
       "└─────────────────────────────────┴────────────────────────┴───────────────┘\n"
      ]
     },
     "metadata": {},
     "output_type": "display_data"
    },
    {
     "data": {
      "text/html": [
       "<pre style=\"white-space:pre;overflow-x:auto;line-height:normal;font-family:Menlo,'DejaVu Sans Mono',consolas,'Courier New',monospace\"><span style=\"font-weight: bold\"> Total params: </span><span style=\"color: #00af00; text-decoration-color: #00af00\">0</span> (0.00 B)\n",
       "</pre>\n"
      ],
      "text/plain": [
       "\u001b[1m Total params: \u001b[0m\u001b[38;5;34m0\u001b[0m (0.00 B)\n"
      ]
     },
     "metadata": {},
     "output_type": "display_data"
    },
    {
     "data": {
      "text/html": [
       "<pre style=\"white-space:pre;overflow-x:auto;line-height:normal;font-family:Menlo,'DejaVu Sans Mono',consolas,'Courier New',monospace\"><span style=\"font-weight: bold\"> Trainable params: </span><span style=\"color: #00af00; text-decoration-color: #00af00\">0</span> (0.00 B)\n",
       "</pre>\n"
      ],
      "text/plain": [
       "\u001b[1m Trainable params: \u001b[0m\u001b[38;5;34m0\u001b[0m (0.00 B)\n"
      ]
     },
     "metadata": {},
     "output_type": "display_data"
    },
    {
     "data": {
      "text/html": [
       "<pre style=\"white-space:pre;overflow-x:auto;line-height:normal;font-family:Menlo,'DejaVu Sans Mono',consolas,'Courier New',monospace\"><span style=\"font-weight: bold\"> Non-trainable params: </span><span style=\"color: #00af00; text-decoration-color: #00af00\">0</span> (0.00 B)\n",
       "</pre>\n"
      ],
      "text/plain": [
       "\u001b[1m Non-trainable params: \u001b[0m\u001b[38;5;34m0\u001b[0m (0.00 B)\n"
      ]
     },
     "metadata": {},
     "output_type": "display_data"
    }
   ],
   "source": [
    "embedding_dim = 64\n",
    "num_classes = 6\n",
    "\n",
    "LSTM_model = Sequential()\n",
    "LSTM_model.add(Embedding(features,embedding_dim)) #Vocabulary size, Embedding\n",
    "LSTM_model.add(Dropout(0.5))\n",
    "LSTM_model.add(Bidirectional(LSTM(embedding_dim)))\n",
    "LSTM_model.add(Dense(num_classes, activation = 'softmax'))\n",
    "\n",
    "# Compile the model\n",
    "LSTM_model.compile(optimizer='adam', loss='mean_squared_error', metrics=['mean_absolute_error'])\n",
    "\n",
    "LSTM_model.summary()"
   ]
  },
  {
   "cell_type": "code",
   "execution_count": null,
   "id": "23ce612e-94b2-446a-9a6d-7de89c8868ad",
   "metadata": {},
   "outputs": [],
   "source": []
  },
  {
   "cell_type": "code",
   "execution_count": 99,
   "id": "11e4e22b-b432-47ed-95df-448b48f2822f",
   "metadata": {
    "collapsed": true,
    "jupyter": {
     "outputs_hidden": true
    },
    "tags": []
   },
   "outputs": [
    {
     "name": "stdout",
     "output_type": "stream",
     "text": [
      "Epoch 1/10\n"
     ]
    },
    {
     "ename": "InvalidArgumentError",
     "evalue": "Graph execution error:\n\nDetected at node compile_loss/mean_squared_error/sub defined at (most recent call last):\n  File \"<frozen runpy>\", line 198, in _run_module_as_main\n\n  File \"<frozen runpy>\", line 88, in _run_code\n\n  File \"C:\\Users\\LiangX\\anaconda3\\Lib\\site-packages\\ipykernel_launcher.py\", line 17, in <module>\n\n  File \"C:\\Users\\LiangX\\anaconda3\\Lib\\site-packages\\traitlets\\config\\application.py\", line 992, in launch_instance\n\n  File \"C:\\Users\\LiangX\\anaconda3\\Lib\\site-packages\\ipykernel\\kernelapp.py\", line 711, in start\n\n  File \"C:\\Users\\LiangX\\anaconda3\\Lib\\site-packages\\tornado\\platform\\asyncio.py\", line 215, in start\n\n  File \"C:\\Users\\LiangX\\anaconda3\\Lib\\asyncio\\base_events.py\", line 607, in run_forever\n\n  File \"C:\\Users\\LiangX\\anaconda3\\Lib\\asyncio\\base_events.py\", line 1922, in _run_once\n\n  File \"C:\\Users\\LiangX\\anaconda3\\Lib\\asyncio\\events.py\", line 80, in _run\n\n  File \"C:\\Users\\LiangX\\anaconda3\\Lib\\site-packages\\ipykernel\\kernelbase.py\", line 510, in dispatch_queue\n\n  File \"C:\\Users\\LiangX\\anaconda3\\Lib\\site-packages\\ipykernel\\kernelbase.py\", line 499, in process_one\n\n  File \"C:\\Users\\LiangX\\anaconda3\\Lib\\site-packages\\ipykernel\\kernelbase.py\", line 406, in dispatch_shell\n\n  File \"C:\\Users\\LiangX\\anaconda3\\Lib\\site-packages\\ipykernel\\kernelbase.py\", line 729, in execute_request\n\n  File \"C:\\Users\\LiangX\\anaconda3\\Lib\\site-packages\\ipykernel\\ipkernel.py\", line 411, in do_execute\n\n  File \"C:\\Users\\LiangX\\anaconda3\\Lib\\site-packages\\ipykernel\\zmqshell.py\", line 531, in run_cell\n\n  File \"C:\\Users\\LiangX\\anaconda3\\Lib\\site-packages\\IPython\\core\\interactiveshell.py\", line 3006, in run_cell\n\n  File \"C:\\Users\\LiangX\\anaconda3\\Lib\\site-packages\\IPython\\core\\interactiveshell.py\", line 3061, in _run_cell\n\n  File \"C:\\Users\\LiangX\\anaconda3\\Lib\\site-packages\\IPython\\core\\async_helpers.py\", line 129, in _pseudo_sync_runner\n\n  File \"C:\\Users\\LiangX\\anaconda3\\Lib\\site-packages\\IPython\\core\\interactiveshell.py\", line 3266, in run_cell_async\n\n  File \"C:\\Users\\LiangX\\anaconda3\\Lib\\site-packages\\IPython\\core\\interactiveshell.py\", line 3445, in run_ast_nodes\n\n  File \"C:\\Users\\LiangX\\anaconda3\\Lib\\site-packages\\IPython\\core\\interactiveshell.py\", line 3505, in run_code\n\n  File \"C:\\Users\\LiangX\\AppData\\Local\\Temp\\ipykernel_36660\\2798212364.py\", line 2, in <module>\n\n  File \"C:\\Users\\LiangX\\anaconda3\\Lib\\site-packages\\keras\\src\\utils\\traceback_utils.py\", line 117, in error_handler\n\n  File \"C:\\Users\\LiangX\\anaconda3\\Lib\\site-packages\\keras\\src\\backend\\tensorflow\\trainer.py\", line 314, in fit\n\n  File \"C:\\Users\\LiangX\\anaconda3\\Lib\\site-packages\\keras\\src\\backend\\tensorflow\\trainer.py\", line 117, in one_step_on_iterator\n\n  File \"C:\\Users\\LiangX\\anaconda3\\Lib\\site-packages\\keras\\src\\backend\\tensorflow\\trainer.py\", line 104, in one_step_on_data\n\n  File \"C:\\Users\\LiangX\\anaconda3\\Lib\\site-packages\\keras\\src\\backend\\tensorflow\\trainer.py\", line 54, in train_step\n\n  File \"C:\\Users\\LiangX\\anaconda3\\Lib\\site-packages\\keras\\src\\trainers\\trainer.py\", line 316, in compute_loss\n\n  File \"C:\\Users\\LiangX\\anaconda3\\Lib\\site-packages\\keras\\src\\trainers\\compile_utils.py\", line 609, in __call__\n\n  File \"C:\\Users\\LiangX\\anaconda3\\Lib\\site-packages\\keras\\src\\trainers\\compile_utils.py\", line 645, in call\n\n  File \"C:\\Users\\LiangX\\anaconda3\\Lib\\site-packages\\keras\\src\\losses\\loss.py\", line 43, in __call__\n\n  File \"C:\\Users\\LiangX\\anaconda3\\Lib\\site-packages\\keras\\src\\losses\\losses.py\", line 22, in call\n\n  File \"C:\\Users\\LiangX\\anaconda3\\Lib\\site-packages\\keras\\src\\losses\\losses.py\", line 1158, in mean_squared_error\n\nIncompatible shapes: [32] vs. [32,6]\n\t [[{{node compile_loss/mean_squared_error/sub}}]] [Op:__inference_one_step_on_iterator_146046]",
     "output_type": "error",
     "traceback": [
      "\u001b[1;31m---------------------------------------------------------------------------\u001b[0m",
      "\u001b[1;31mInvalidArgumentError\u001b[0m                      Traceback (most recent call last)",
      "Cell \u001b[1;32mIn[99], line 2\u001b[0m\n\u001b[0;32m      1\u001b[0m \u001b[38;5;66;03m# Train the model\u001b[39;00m\n\u001b[1;32m----> 2\u001b[0m history \u001b[38;5;241m=\u001b[39m LSTM_model\u001b[38;5;241m.\u001b[39mfit(x_train_padded, train_scores, epochs\u001b[38;5;241m=\u001b[39m\u001b[38;5;241m10\u001b[39m, batch_size\u001b[38;5;241m=\u001b[39m\u001b[38;5;241m32\u001b[39m, validation_split\u001b[38;5;241m=\u001b[39m\u001b[38;5;241m0.2\u001b[39m)\n",
      "File \u001b[1;32m~\\anaconda3\\Lib\\site-packages\\keras\\src\\utils\\traceback_utils.py:122\u001b[0m, in \u001b[0;36mfilter_traceback.<locals>.error_handler\u001b[1;34m(*args, **kwargs)\u001b[0m\n\u001b[0;32m    119\u001b[0m     filtered_tb \u001b[38;5;241m=\u001b[39m _process_traceback_frames(e\u001b[38;5;241m.\u001b[39m__traceback__)\n\u001b[0;32m    120\u001b[0m     \u001b[38;5;66;03m# To get the full stack trace, call:\u001b[39;00m\n\u001b[0;32m    121\u001b[0m     \u001b[38;5;66;03m# `keras.config.disable_traceback_filtering()`\u001b[39;00m\n\u001b[1;32m--> 122\u001b[0m     \u001b[38;5;28;01mraise\u001b[39;00m e\u001b[38;5;241m.\u001b[39mwith_traceback(filtered_tb) \u001b[38;5;28;01mfrom\u001b[39;00m \u001b[38;5;28;01mNone\u001b[39;00m\n\u001b[0;32m    123\u001b[0m \u001b[38;5;28;01mfinally\u001b[39;00m:\n\u001b[0;32m    124\u001b[0m     \u001b[38;5;28;01mdel\u001b[39;00m filtered_tb\n",
      "File \u001b[1;32m~\\anaconda3\\Lib\\site-packages\\tensorflow\\python\\eager\\execute.py:53\u001b[0m, in \u001b[0;36mquick_execute\u001b[1;34m(op_name, num_outputs, inputs, attrs, ctx, name)\u001b[0m\n\u001b[0;32m     51\u001b[0m \u001b[38;5;28;01mtry\u001b[39;00m:\n\u001b[0;32m     52\u001b[0m   ctx\u001b[38;5;241m.\u001b[39mensure_initialized()\n\u001b[1;32m---> 53\u001b[0m   tensors \u001b[38;5;241m=\u001b[39m pywrap_tfe\u001b[38;5;241m.\u001b[39mTFE_Py_Execute(ctx\u001b[38;5;241m.\u001b[39m_handle, device_name, op_name,\n\u001b[0;32m     54\u001b[0m                                       inputs, attrs, num_outputs)\n\u001b[0;32m     55\u001b[0m \u001b[38;5;28;01mexcept\u001b[39;00m core\u001b[38;5;241m.\u001b[39m_NotOkStatusException \u001b[38;5;28;01mas\u001b[39;00m e:\n\u001b[0;32m     56\u001b[0m   \u001b[38;5;28;01mif\u001b[39;00m name \u001b[38;5;129;01mis\u001b[39;00m \u001b[38;5;129;01mnot\u001b[39;00m \u001b[38;5;28;01mNone\u001b[39;00m:\n",
      "\u001b[1;31mInvalidArgumentError\u001b[0m: Graph execution error:\n\nDetected at node compile_loss/mean_squared_error/sub defined at (most recent call last):\n  File \"<frozen runpy>\", line 198, in _run_module_as_main\n\n  File \"<frozen runpy>\", line 88, in _run_code\n\n  File \"C:\\Users\\LiangX\\anaconda3\\Lib\\site-packages\\ipykernel_launcher.py\", line 17, in <module>\n\n  File \"C:\\Users\\LiangX\\anaconda3\\Lib\\site-packages\\traitlets\\config\\application.py\", line 992, in launch_instance\n\n  File \"C:\\Users\\LiangX\\anaconda3\\Lib\\site-packages\\ipykernel\\kernelapp.py\", line 711, in start\n\n  File \"C:\\Users\\LiangX\\anaconda3\\Lib\\site-packages\\tornado\\platform\\asyncio.py\", line 215, in start\n\n  File \"C:\\Users\\LiangX\\anaconda3\\Lib\\asyncio\\base_events.py\", line 607, in run_forever\n\n  File \"C:\\Users\\LiangX\\anaconda3\\Lib\\asyncio\\base_events.py\", line 1922, in _run_once\n\n  File \"C:\\Users\\LiangX\\anaconda3\\Lib\\asyncio\\events.py\", line 80, in _run\n\n  File \"C:\\Users\\LiangX\\anaconda3\\Lib\\site-packages\\ipykernel\\kernelbase.py\", line 510, in dispatch_queue\n\n  File \"C:\\Users\\LiangX\\anaconda3\\Lib\\site-packages\\ipykernel\\kernelbase.py\", line 499, in process_one\n\n  File \"C:\\Users\\LiangX\\anaconda3\\Lib\\site-packages\\ipykernel\\kernelbase.py\", line 406, in dispatch_shell\n\n  File \"C:\\Users\\LiangX\\anaconda3\\Lib\\site-packages\\ipykernel\\kernelbase.py\", line 729, in execute_request\n\n  File \"C:\\Users\\LiangX\\anaconda3\\Lib\\site-packages\\ipykernel\\ipkernel.py\", line 411, in do_execute\n\n  File \"C:\\Users\\LiangX\\anaconda3\\Lib\\site-packages\\ipykernel\\zmqshell.py\", line 531, in run_cell\n\n  File \"C:\\Users\\LiangX\\anaconda3\\Lib\\site-packages\\IPython\\core\\interactiveshell.py\", line 3006, in run_cell\n\n  File \"C:\\Users\\LiangX\\anaconda3\\Lib\\site-packages\\IPython\\core\\interactiveshell.py\", line 3061, in _run_cell\n\n  File \"C:\\Users\\LiangX\\anaconda3\\Lib\\site-packages\\IPython\\core\\async_helpers.py\", line 129, in _pseudo_sync_runner\n\n  File \"C:\\Users\\LiangX\\anaconda3\\Lib\\site-packages\\IPython\\core\\interactiveshell.py\", line 3266, in run_cell_async\n\n  File \"C:\\Users\\LiangX\\anaconda3\\Lib\\site-packages\\IPython\\core\\interactiveshell.py\", line 3445, in run_ast_nodes\n\n  File \"C:\\Users\\LiangX\\anaconda3\\Lib\\site-packages\\IPython\\core\\interactiveshell.py\", line 3505, in run_code\n\n  File \"C:\\Users\\LiangX\\AppData\\Local\\Temp\\ipykernel_36660\\2798212364.py\", line 2, in <module>\n\n  File \"C:\\Users\\LiangX\\anaconda3\\Lib\\site-packages\\keras\\src\\utils\\traceback_utils.py\", line 117, in error_handler\n\n  File \"C:\\Users\\LiangX\\anaconda3\\Lib\\site-packages\\keras\\src\\backend\\tensorflow\\trainer.py\", line 314, in fit\n\n  File \"C:\\Users\\LiangX\\anaconda3\\Lib\\site-packages\\keras\\src\\backend\\tensorflow\\trainer.py\", line 117, in one_step_on_iterator\n\n  File \"C:\\Users\\LiangX\\anaconda3\\Lib\\site-packages\\keras\\src\\backend\\tensorflow\\trainer.py\", line 104, in one_step_on_data\n\n  File \"C:\\Users\\LiangX\\anaconda3\\Lib\\site-packages\\keras\\src\\backend\\tensorflow\\trainer.py\", line 54, in train_step\n\n  File \"C:\\Users\\LiangX\\anaconda3\\Lib\\site-packages\\keras\\src\\trainers\\trainer.py\", line 316, in compute_loss\n\n  File \"C:\\Users\\LiangX\\anaconda3\\Lib\\site-packages\\keras\\src\\trainers\\compile_utils.py\", line 609, in __call__\n\n  File \"C:\\Users\\LiangX\\anaconda3\\Lib\\site-packages\\keras\\src\\trainers\\compile_utils.py\", line 645, in call\n\n  File \"C:\\Users\\LiangX\\anaconda3\\Lib\\site-packages\\keras\\src\\losses\\loss.py\", line 43, in __call__\n\n  File \"C:\\Users\\LiangX\\anaconda3\\Lib\\site-packages\\keras\\src\\losses\\losses.py\", line 22, in call\n\n  File \"C:\\Users\\LiangX\\anaconda3\\Lib\\site-packages\\keras\\src\\losses\\losses.py\", line 1158, in mean_squared_error\n\nIncompatible shapes: [32] vs. [32,6]\n\t [[{{node compile_loss/mean_squared_error/sub}}]] [Op:__inference_one_step_on_iterator_146046]"
     ]
    }
   ],
   "source": [
    "# Train the model\n",
    "history = LSTM_model.fit(x_train_padded, train_scores, epochs=10, batch_size=32, validation_split=0.2)"
   ]
  },
  {
   "cell_type": "code",
   "execution_count": null,
   "id": "672838de-072d-4535-ac19-b499b51a029e",
   "metadata": {},
   "outputs": [],
   "source": []
  },
  {
   "cell_type": "code",
   "execution_count": 100,
   "id": "46df9d40-878c-4909-aa81-5c1b90a21282",
   "metadata": {
    "tags": []
   },
   "outputs": [
    {
     "name": "stdout",
     "output_type": "stream",
     "text": [
      "Epoch 1/5\n"
     ]
    },
    {
     "name": "stderr",
     "output_type": "stream",
     "text": [
      "C:\\Users\\LiangX\\anaconda3\\Lib\\site-packages\\keras\\src\\layers\\core\\embedding.py:90: UserWarning: Argument `input_length` is deprecated. Just remove it.\n",
      "  warnings.warn(\n"
     ]
    },
    {
     "name": "stdout",
     "output_type": "stream",
     "text": [
      "\u001b[1m433/433\u001b[0m \u001b[32m━━━━━━━━━━━━━━━━━━━━\u001b[0m\u001b[37m\u001b[0m \u001b[1m140s\u001b[0m 321ms/step - loss: 1.8155 - mean_absolute_error: 1.0163 - val_loss: 0.8234 - val_mean_absolute_error: 0.7346\n",
      "Epoch 2/5\n",
      "\u001b[1m433/433\u001b[0m \u001b[32m━━━━━━━━━━━━━━━━━━━━\u001b[0m\u001b[37m\u001b[0m \u001b[1m148s\u001b[0m 341ms/step - loss: 0.6666 - mean_absolute_error: 0.6496 - val_loss: 0.5447 - val_mean_absolute_error: 0.5771\n",
      "Epoch 3/5\n",
      "\u001b[1m433/433\u001b[0m \u001b[32m━━━━━━━━━━━━━━━━━━━━\u001b[0m\u001b[37m\u001b[0m \u001b[1m151s\u001b[0m 349ms/step - loss: 0.3515 - mean_absolute_error: 0.4616 - val_loss: 0.5253 - val_mean_absolute_error: 0.5695\n",
      "Epoch 4/5\n",
      "\u001b[1m433/433\u001b[0m \u001b[32m━━━━━━━━━━━━━━━━━━━━\u001b[0m\u001b[37m\u001b[0m \u001b[1m153s\u001b[0m 354ms/step - loss: 0.2333 - mean_absolute_error: 0.3713 - val_loss: 0.5089 - val_mean_absolute_error: 0.5617\n",
      "Epoch 5/5\n",
      "\u001b[1m433/433\u001b[0m \u001b[32m━━━━━━━━━━━━━━━━━━━━\u001b[0m\u001b[37m\u001b[0m \u001b[1m150s\u001b[0m 347ms/step - loss: 0.1528 - mean_absolute_error: 0.2968 - val_loss: 0.4833 - val_mean_absolute_error: 0.5448\n",
      "Mean Absolute Error on Validation Set: 0.5448277592658997\n",
      "\u001b[1m1/1\u001b[0m \u001b[32m━━━━━━━━━━━━━━━━━━━━\u001b[0m\u001b[37m\u001b[0m \u001b[1m0s\u001b[0m 146ms/step\n",
      "[[3.0194318]\n",
      " [1.1078253]]\n"
     ]
    }
   ],
   "source": [
    "# code from ChatGPT\n",
    "\n",
    "import pandas as pd\n",
    "import numpy as np\n",
    "from tensorflow.keras.preprocessing.text import Tokenizer\n",
    "from tensorflow.keras.preprocessing.sequence import pad_sequences\n",
    "from tensorflow.keras.models import Sequential\n",
    "from tensorflow.keras.layers import Embedding, LSTM, Dense, Dropout\n",
    "from sklearn.model_selection import train_test_split\n",
    "\n",
    "\n",
    "# Split data into training and validation sets\n",
    "train_essays, val_essays, train_scores, val_scores = train_test_split(\n",
    "    train_data['full_text'],\n",
    "    train_data['score'],\n",
    "    test_size=0.2,\n",
    "    random_state=42\n",
    ")\n",
    "\n",
    "# Tokenizing the texts\n",
    "tokenizer = Tokenizer()\n",
    "tokenizer.fit_on_texts(train_essays)\n",
    "train_sequences = tokenizer.texts_to_sequences(train_essays)\n",
    "val_sequences = tokenizer.texts_to_sequences(val_essays)\n",
    "\n",
    "# Padding sequences to ensure they have the same length\n",
    "max_len = max(len(seq) for seq in train_sequences)\n",
    "X_train = pad_sequences(train_sequences, maxlen=max_len)\n",
    "X_val = pad_sequences(val_sequences, maxlen=max_len)\n",
    "\n",
    "# Converting scores to numpy arrays\n",
    "y_train = np.array(train_scores)\n",
    "y_val = np.array(val_scores)\n",
    "\n",
    "#############################################################################################\n",
    "# Define the model\n",
    "model = Sequential()\n",
    "model.add(Embedding(input_dim=len(tokenizer.word_index) + 1, output_dim=128, input_length=max_len))\n",
    "model.add(LSTM(128, dropout=0.2, recurrent_dropout=0.2))\n",
    "model.add(Dense(1, activation='linear'))  # Use 'linear' activation for regression\n",
    "#############################################################################################\n",
    "# Compile the model\n",
    "model.compile(optimizer='adam', loss='mean_squared_error', metrics=['mean_absolute_error'])\n",
    "\n",
    "# Train the model\n",
    "history = model.fit(X_train, y_train, epochs=5, batch_size=32, validation_data=(X_val, y_val))\n",
    "\n",
    "# Evaluate the model on the validation set\n",
    "loss, mae = model.evaluate(X_val, y_val, verbose=0)\n",
    "print(f'Mean Absolute Error on Validation Set: {mae}')\n",
    "\n",
    "\n",
    "\n",
    "\n",
    "# Example new texts for prediction\n",
    "new_texts = [\"There are many reasons why you should join seagoing cowboys program. You would be helping your country. You'd be traveling around the world. Last you'd have lots of fun over seas. You'd be helping our country because when Luke was in seagoing cowboy program it was 1945 and world war 2 was happening in Europe and he had to those countries recover. Luke had to help the horses when the war was over to get people places and to work. If you were 18 or up you might be lucky and be drafted into the military service. The UNRRA would hire seagoing Cowboys to feed the horses cows and mules that were shipped overseas. You'd be traveling around they world like Luke did. It took Luke 2 weeks to cross the Atlantic Ocean from the eastern coast. You'd be traveling to China, Europe, Greece, and many more places. The only way you'd be good at this job is if you wouldn't get sea sick because if you are a seagoing cowboy told travel overseas a lot. You'd have fun overseas if you don't get seasick. You'd have many adventures. You'd have many stories to tell your friends and family. You'd been in countries you'd didn't think you'd be in. You'd be able to play games in the countries you visit in the seagoing Cowboys program. If you join the seagoing Cowboys program you'd love it. You'd be traveling. You'd be having fun. You'd be helping our country. So why don't you join our seagoing cowboy program. I bet you'd love to be in this program with all our helpful friends and family that want to try to help our country. \", \n",
    "             \"the colleg now has votes for vice presidant and there are 538 electors but 270 electors are what we are suppos to have 3 were picked by the state they have a presadent election for evry for years if you run for president you get your own group and you get alot of responsibilities and it is held evry tuseday and first monday and the winner takes it all and they have other cannidates to worrie about and the govener prepares for the presidans election and there are about 60% of voters if your the presidant you need to defened your titel back in 1960's in lousiana we almost succeeded but then they hired other electors to go agianst John F Kennedy and then evrybody was faithlessand now their are 500,000 voters and it has increased drasticly and we half to make a congress if your presidant 35,000,000 go to just pick a presidant 41,971 are in deadlock  in 1976 there were about 5,559 elections back then there are 25,000 media markets texas hade the most voters in 1987 and all of are presadents have at least 2,000 or more canadates bush hade the least votes sence 1888 61.5% of votes was compared to a voteing persentage of 51.3% and that was in the north and south 2012 they have boosted their companie and their attinstion by ads and some build boards 29 elctoral votes 3 were passed through their were 301 votes now there are 370 votes and this all happened in 1992 and there are more dimacrats in texas than there are in florida there are 20 in florida and 33 in texas and all of the elections are nation wide and voters do half of the work for just voteing and the pepole are going through the votes to see hew there new presidant is for the new year and all the votes came from Electrol colleg and all of the campains are in the small states and in texas they have turned off votes in texas and now there is less attenstion in the compainey and they do politicl votes and the pepole think that the voters should be the ones to decid the election and up state voters pay close attention to see hew wins.\"]\n",
    "new_sequences = tokenizer.texts_to_sequences(new_texts)\n",
    "new_X = pad_sequences(new_sequences, maxlen=max_len)\n",
    "\n",
    "# Predict scores\n",
    "predictions = model.predict(new_X)\n",
    "print(predictions)\n"
   ]
  },
  {
   "cell_type": "code",
   "execution_count": 102,
   "id": "f67688e3-e957-46a5-99d6-7605533957a0",
   "metadata": {
    "tags": []
   },
   "outputs": [
    {
     "name": "stdout",
     "output_type": "stream",
     "text": [
      "\u001b[1m541/541\u001b[0m \u001b[32m━━━━━━━━━━━━━━━━━━━━\u001b[0m\u001b[37m\u001b[0m \u001b[1m39s\u001b[0m 72ms/step\n"
     ]
    },
    {
     "data": {
      "text/html": [
       "<div>\n",
       "<style scoped>\n",
       "    .dataframe tbody tr th:only-of-type {\n",
       "        vertical-align: middle;\n",
       "    }\n",
       "\n",
       "    .dataframe tbody tr th {\n",
       "        vertical-align: top;\n",
       "    }\n",
       "\n",
       "    .dataframe thead th {\n",
       "        text-align: right;\n",
       "    }\n",
       "</style>\n",
       "<table border=\"1\" class=\"dataframe\">\n",
       "  <thead>\n",
       "    <tr style=\"text-align: right;\">\n",
       "      <th></th>\n",
       "      <th>essay_id</th>\n",
       "      <th>full_text</th>\n",
       "      <th>score</th>\n",
       "      <th>critical</th>\n",
       "      <th>examples</th>\n",
       "      <th>cohesion</th>\n",
       "      <th>syntax</th>\n",
       "      <th>vocabulary</th>\n",
       "      <th>phraseology</th>\n",
       "      <th>grammar</th>\n",
       "      <th>conventions</th>\n",
       "      <th>prediction</th>\n",
       "    </tr>\n",
       "  </thead>\n",
       "  <tbody>\n",
       "    <tr>\n",
       "      <th>0</th>\n",
       "      <td>000d118</td>\n",
       "      <td>many people car live thing dont know use car a...</td>\n",
       "      <td>3</td>\n",
       "      <td>5</td>\n",
       "      <td>27</td>\n",
       "      <td>2.639018</td>\n",
       "      <td>2.567314</td>\n",
       "      <td>2.850983</td>\n",
       "      <td>2.707506</td>\n",
       "      <td>2.549393</td>\n",
       "      <td>2.499018</td>\n",
       "      <td>2.285805</td>\n",
       "    </tr>\n",
       "    <tr>\n",
       "      <th>1</th>\n",
       "      <td>000fe60</td>\n",
       "      <td>scientist nasa discussing face mars explaining...</td>\n",
       "      <td>3</td>\n",
       "      <td>4</td>\n",
       "      <td>12</td>\n",
       "      <td>3.048544</td>\n",
       "      <td>3.007819</td>\n",
       "      <td>3.280329</td>\n",
       "      <td>3.196304</td>\n",
       "      <td>3.011036</td>\n",
       "      <td>2.916120</td>\n",
       "      <td>2.838681</td>\n",
       "    </tr>\n",
       "    <tr>\n",
       "      <th>2</th>\n",
       "      <td>001ab80</td>\n",
       "      <td>people always wish technology seen movies best...</td>\n",
       "      <td>4</td>\n",
       "      <td>4</td>\n",
       "      <td>2</td>\n",
       "      <td>3.510007</td>\n",
       "      <td>3.449628</td>\n",
       "      <td>3.720742</td>\n",
       "      <td>3.639783</td>\n",
       "      <td>3.435374</td>\n",
       "      <td>3.372588</td>\n",
       "      <td>4.141986</td>\n",
       "    </tr>\n",
       "    <tr>\n",
       "      <th>3</th>\n",
       "      <td>001bdc0</td>\n",
       "      <td>heard venus planet without almost oxygen earth...</td>\n",
       "      <td>4</td>\n",
       "      <td>5</td>\n",
       "      <td>29</td>\n",
       "      <td>3.226227</td>\n",
       "      <td>3.191353</td>\n",
       "      <td>3.487139</td>\n",
       "      <td>3.308548</td>\n",
       "      <td>3.138849</td>\n",
       "      <td>2.999923</td>\n",
       "      <td>3.859457</td>\n",
       "    </tr>\n",
       "    <tr>\n",
       "      <th>4</th>\n",
       "      <td>002ba53</td>\n",
       "      <td>dear state senatorthis letter argue favor keep...</td>\n",
       "      <td>3</td>\n",
       "      <td>3</td>\n",
       "      <td>22</td>\n",
       "      <td>3.123905</td>\n",
       "      <td>3.061278</td>\n",
       "      <td>3.329211</td>\n",
       "      <td>3.131118</td>\n",
       "      <td>3.007472</td>\n",
       "      <td>2.851665</td>\n",
       "      <td>3.407681</td>\n",
       "    </tr>\n",
       "  </tbody>\n",
       "</table>\n",
       "</div>"
      ],
      "text/plain": [
       "  essay_id                                          full_text  score  \\\n",
       "0  000d118  many people car live thing dont know use car a...      3   \n",
       "1  000fe60  scientist nasa discussing face mars explaining...      3   \n",
       "2  001ab80  people always wish technology seen movies best...      4   \n",
       "3  001bdc0  heard venus planet without almost oxygen earth...      4   \n",
       "4  002ba53  dear state senatorthis letter argue favor keep...      3   \n",
       "\n",
       "   critical  examples  cohesion    syntax  vocabulary  phraseology   grammar  \\\n",
       "0         5        27  2.639018  2.567314    2.850983     2.707506  2.549393   \n",
       "1         4        12  3.048544  3.007819    3.280329     3.196304  3.011036   \n",
       "2         4         2  3.510007  3.449628    3.720742     3.639783  3.435374   \n",
       "3         5        29  3.226227  3.191353    3.487139     3.308548  3.138849   \n",
       "4         3        22  3.123905  3.061278    3.329211     3.131118  3.007472   \n",
       "\n",
       "   conventions  prediction  \n",
       "0     2.499018    2.285805  \n",
       "1     2.916120    2.838681  \n",
       "2     3.372588    4.141986  \n",
       "3     2.999923    3.859457  \n",
       "4     2.851665    3.407681  "
      ]
     },
     "execution_count": 102,
     "metadata": {},
     "output_type": "execute_result"
    }
   ],
   "source": [
    "new_sequences = tokenizer.texts_to_sequences(train_data['full_text'])\n",
    "new_X = pad_sequences(new_sequences, maxlen=max_len)\n",
    "\n",
    "train_data['prediction'] = model.predict(new_X)\n",
    "train_data.head()"
   ]
  },
  {
   "cell_type": "code",
   "execution_count": 104,
   "id": "7c15c2c4-4d82-406a-8381-49c47935b741",
   "metadata": {
    "tags": []
   },
   "outputs": [
    {
     "name": "stdout",
     "output_type": "stream",
     "text": [
      "Mean Absolute Error: 0.2938582884133665\n"
     ]
    }
   ],
   "source": [
    "from sklearn.metrics import mean_absolute_error\n",
    "\n",
    "# Assuming y_true and y_pred are your true values and predictions, respectively\n",
    "y_true = train_data['score']\n",
    "y_pred = train_data['prediction']\n",
    "\n",
    "# Calculate MAE\n",
    "mae = mean_absolute_error(y_true, y_pred)\n",
    "\n",
    "print(f'Mean Absolute Error: {mae}')\n"
   ]
  },
  {
   "cell_type": "code",
   "execution_count": 106,
   "id": "3a852498-9761-4642-8a40-eab8ab5aa677",
   "metadata": {
    "tags": []
   },
   "outputs": [
    {
     "name": "stdout",
     "output_type": "stream",
     "text": [
      "Quadratic Weighted Kappa: 0.9083804867510556\n"
     ]
    }
   ],
   "source": [
    "from sklearn.metrics import cohen_kappa_score\n",
    "kappa_score = cohen_kappa_score(y_true, y_pred.round(), weights='quadratic') \n",
    "\n",
    "print(f'Quadratic Weighted Kappa: {kappa_score}')\n",
    "# print(kappa_score)"
   ]
  },
  {
   "cell_type": "code",
   "execution_count": null,
   "id": "5ce6e8b1-ce86-48b5-afe1-f6a4c6dbef40",
   "metadata": {},
   "outputs": [],
   "source": []
  },
  {
   "cell_type": "markdown",
   "id": "fd78f969-a9e0-44b5-a910-eb21bb98a534",
   "metadata": {
    "tags": []
   },
   "source": [
    "### Deployment to submission data"
   ]
  },
  {
   "cell_type": "code",
   "execution_count": 114,
   "id": "dee6cc0b-6841-4cc0-bba1-4360c7fc6790",
   "metadata": {
    "tags": []
   },
   "outputs": [
    {
     "data": {
      "text/html": [
       "<div>\n",
       "<style scoped>\n",
       "    .dataframe tbody tr th:only-of-type {\n",
       "        vertical-align: middle;\n",
       "    }\n",
       "\n",
       "    .dataframe tbody tr th {\n",
       "        vertical-align: top;\n",
       "    }\n",
       "\n",
       "    .dataframe thead th {\n",
       "        text-align: right;\n",
       "    }\n",
       "</style>\n",
       "<table border=\"1\" class=\"dataframe\">\n",
       "  <thead>\n",
       "    <tr style=\"text-align: right;\">\n",
       "      <th></th>\n",
       "      <th>essay_id</th>\n",
       "      <th>full_text</th>\n",
       "    </tr>\n",
       "  </thead>\n",
       "  <tbody>\n",
       "    <tr>\n",
       "      <th>0</th>\n",
       "      <td>000d118</td>\n",
       "      <td>Many people have car where they live. The thin...</td>\n",
       "    </tr>\n",
       "    <tr>\n",
       "      <th>1</th>\n",
       "      <td>000fe60</td>\n",
       "      <td>I am a scientist at NASA that is discussing th...</td>\n",
       "    </tr>\n",
       "    <tr>\n",
       "      <th>2</th>\n",
       "      <td>001ab80</td>\n",
       "      <td>People always wish they had the same technolog...</td>\n",
       "    </tr>\n",
       "  </tbody>\n",
       "</table>\n",
       "</div>"
      ],
      "text/plain": [
       "  essay_id                                          full_text\n",
       "0  000d118  Many people have car where they live. The thin...\n",
       "1  000fe60  I am a scientist at NASA that is discussing th...\n",
       "2  001ab80  People always wish they had the same technolog..."
      ]
     },
     "execution_count": 114,
     "metadata": {},
     "output_type": "execute_result"
    }
   ],
   "source": [
    "# load the first 10M rows of data\n",
    "test_data = pd.read_csv('.\\\\learning-agency-lab-automated-essay-scoring-2\\\\test.csv')\n",
    "test_data.head()"
   ]
  },
  {
   "cell_type": "code",
   "execution_count": 115,
   "id": "e3b21aa1-f722-4eef-8f20-72edd4214b43",
   "metadata": {
    "tags": []
   },
   "outputs": [
    {
     "data": {
      "text/html": [
       "<div>\n",
       "<style scoped>\n",
       "    .dataframe tbody tr th:only-of-type {\n",
       "        vertical-align: middle;\n",
       "    }\n",
       "\n",
       "    .dataframe tbody tr th {\n",
       "        vertical-align: top;\n",
       "    }\n",
       "\n",
       "    .dataframe thead th {\n",
       "        text-align: right;\n",
       "    }\n",
       "</style>\n",
       "<table border=\"1\" class=\"dataframe\">\n",
       "  <thead>\n",
       "    <tr style=\"text-align: right;\">\n",
       "      <th></th>\n",
       "      <th>essay_id</th>\n",
       "      <th>full_text</th>\n",
       "    </tr>\n",
       "  </thead>\n",
       "  <tbody>\n",
       "    <tr>\n",
       "      <th>0</th>\n",
       "      <td>000d118</td>\n",
       "      <td>many people have car where they live the thing...</td>\n",
       "    </tr>\n",
       "    <tr>\n",
       "      <th>1</th>\n",
       "      <td>000fe60</td>\n",
       "      <td>i am a scientist at nasa that is discussing th...</td>\n",
       "    </tr>\n",
       "    <tr>\n",
       "      <th>2</th>\n",
       "      <td>001ab80</td>\n",
       "      <td>people always wish they had the same technolog...</td>\n",
       "    </tr>\n",
       "  </tbody>\n",
       "</table>\n",
       "</div>"
      ],
      "text/plain": [
       "  essay_id                                          full_text\n",
       "0  000d118  many people have car where they live the thing...\n",
       "1  000fe60  i am a scientist at nasa that is discussing th...\n",
       "2  001ab80  people always wish they had the same technolog..."
      ]
     },
     "execution_count": 115,
     "metadata": {},
     "output_type": "execute_result"
    }
   ],
   "source": [
    "test_data['full_text'] = test_data['full_text'].apply(lambda x:clean_text(x))\n",
    "test_data.head(10)"
   ]
  },
  {
   "cell_type": "code",
   "execution_count": 116,
   "id": "ad703470-8645-4e41-a443-f6400c7ce7f3",
   "metadata": {
    "tags": []
   },
   "outputs": [
    {
     "data": {
      "text/html": [
       "<div>\n",
       "<style scoped>\n",
       "    .dataframe tbody tr th:only-of-type {\n",
       "        vertical-align: middle;\n",
       "    }\n",
       "\n",
       "    .dataframe tbody tr th {\n",
       "        vertical-align: top;\n",
       "    }\n",
       "\n",
       "    .dataframe thead th {\n",
       "        text-align: right;\n",
       "    }\n",
       "</style>\n",
       "<table border=\"1\" class=\"dataframe\">\n",
       "  <thead>\n",
       "    <tr style=\"text-align: right;\">\n",
       "      <th></th>\n",
       "      <th>essay_id</th>\n",
       "      <th>full_text</th>\n",
       "    </tr>\n",
       "  </thead>\n",
       "  <tbody>\n",
       "    <tr>\n",
       "      <th>0</th>\n",
       "      <td>000d118</td>\n",
       "      <td>many people car live thing dont know use car a...</td>\n",
       "    </tr>\n",
       "    <tr>\n",
       "      <th>1</th>\n",
       "      <td>000fe60</td>\n",
       "      <td>scientist nasa discussing face mars explaining...</td>\n",
       "    </tr>\n",
       "    <tr>\n",
       "      <th>2</th>\n",
       "      <td>001ab80</td>\n",
       "      <td>people always wish technology seen movies best...</td>\n",
       "    </tr>\n",
       "  </tbody>\n",
       "</table>\n",
       "</div>"
      ],
      "text/plain": [
       "  essay_id                                          full_text\n",
       "0  000d118  many people car live thing dont know use car a...\n",
       "1  000fe60  scientist nasa discussing face mars explaining...\n",
       "2  001ab80  people always wish technology seen movies best..."
      ]
     },
     "execution_count": 116,
     "metadata": {},
     "output_type": "execute_result"
    }
   ],
   "source": [
    "test_data['full_text'] = test_data['full_text'].apply(lambda x:remove_stopword(x))\n",
    "test_data.head(10)"
   ]
  },
  {
   "cell_type": "code",
   "execution_count": 117,
   "id": "abfa20ea-5cb4-49e0-bba8-f81c3c76d628",
   "metadata": {
    "tags": []
   },
   "outputs": [
    {
     "name": "stdout",
     "output_type": "stream",
     "text": [
      "\u001b[1m1/1\u001b[0m \u001b[32m━━━━━━━━━━━━━━━━━━━━\u001b[0m\u001b[37m\u001b[0m \u001b[1m0s\u001b[0m 37ms/step\n"
     ]
    },
    {
     "data": {
      "text/html": [
       "<div>\n",
       "<style scoped>\n",
       "    .dataframe tbody tr th:only-of-type {\n",
       "        vertical-align: middle;\n",
       "    }\n",
       "\n",
       "    .dataframe tbody tr th {\n",
       "        vertical-align: top;\n",
       "    }\n",
       "\n",
       "    .dataframe thead th {\n",
       "        text-align: right;\n",
       "    }\n",
       "</style>\n",
       "<table border=\"1\" class=\"dataframe\">\n",
       "  <thead>\n",
       "    <tr style=\"text-align: right;\">\n",
       "      <th></th>\n",
       "      <th>essay_id</th>\n",
       "      <th>full_text</th>\n",
       "      <th>score</th>\n",
       "    </tr>\n",
       "  </thead>\n",
       "  <tbody>\n",
       "    <tr>\n",
       "      <th>0</th>\n",
       "      <td>000d118</td>\n",
       "      <td>many people car live thing dont know use car a...</td>\n",
       "      <td>2.0</td>\n",
       "    </tr>\n",
       "    <tr>\n",
       "      <th>1</th>\n",
       "      <td>000fe60</td>\n",
       "      <td>scientist nasa discussing face mars explaining...</td>\n",
       "      <td>3.0</td>\n",
       "    </tr>\n",
       "    <tr>\n",
       "      <th>2</th>\n",
       "      <td>001ab80</td>\n",
       "      <td>people always wish technology seen movies best...</td>\n",
       "      <td>4.0</td>\n",
       "    </tr>\n",
       "  </tbody>\n",
       "</table>\n",
       "</div>"
      ],
      "text/plain": [
       "  essay_id                                          full_text  score\n",
       "0  000d118  many people car live thing dont know use car a...    2.0\n",
       "1  000fe60  scientist nasa discussing face mars explaining...    3.0\n",
       "2  001ab80  people always wish technology seen movies best...    4.0"
      ]
     },
     "execution_count": 117,
     "metadata": {},
     "output_type": "execute_result"
    }
   ],
   "source": [
    "new_sequences = tokenizer.texts_to_sequences(test_data['full_text'])\n",
    "new_X = pad_sequences(new_sequences, maxlen=max_len)\n",
    "\n",
    "test_data['score'] = model.predict(new_X).round()\n",
    "test_data.head()"
   ]
  },
  {
   "cell_type": "code",
   "execution_count": 118,
   "id": "02e1790c-590d-47ee-a167-6cf9bd9af0be",
   "metadata": {
    "tags": []
   },
   "outputs": [
    {
     "data": {
      "text/html": [
       "<div>\n",
       "<style scoped>\n",
       "    .dataframe tbody tr th:only-of-type {\n",
       "        vertical-align: middle;\n",
       "    }\n",
       "\n",
       "    .dataframe tbody tr th {\n",
       "        vertical-align: top;\n",
       "    }\n",
       "\n",
       "    .dataframe thead th {\n",
       "        text-align: right;\n",
       "    }\n",
       "</style>\n",
       "<table border=\"1\" class=\"dataframe\">\n",
       "  <thead>\n",
       "    <tr style=\"text-align: right;\">\n",
       "      <th></th>\n",
       "      <th>essay_id</th>\n",
       "      <th>score</th>\n",
       "    </tr>\n",
       "  </thead>\n",
       "  <tbody>\n",
       "    <tr>\n",
       "      <th>0</th>\n",
       "      <td>000d118</td>\n",
       "      <td>2.0</td>\n",
       "    </tr>\n",
       "    <tr>\n",
       "      <th>1</th>\n",
       "      <td>000fe60</td>\n",
       "      <td>3.0</td>\n",
       "    </tr>\n",
       "    <tr>\n",
       "      <th>2</th>\n",
       "      <td>001ab80</td>\n",
       "      <td>4.0</td>\n",
       "    </tr>\n",
       "  </tbody>\n",
       "</table>\n",
       "</div>"
      ],
      "text/plain": [
       "  essay_id  score\n",
       "0  000d118    2.0\n",
       "1  000fe60    3.0\n",
       "2  001ab80    4.0"
      ]
     },
     "execution_count": 118,
     "metadata": {},
     "output_type": "execute_result"
    }
   ],
   "source": [
    "output_data = test_data[['essay_id', 'score']]\n",
    "output_data"
   ]
  },
  {
   "cell_type": "code",
   "execution_count": 119,
   "id": "aa03a4ad-70dc-43ad-9137-f67938893379",
   "metadata": {
    "tags": []
   },
   "outputs": [],
   "source": [
    "# Export DataFrame to CSV file\n",
    "output_data.to_csv('output.csv', index=False)"
   ]
  },
  {
   "cell_type": "code",
   "execution_count": null,
   "id": "fb13df81-d78c-42b0-9884-9ce560d80071",
   "metadata": {},
   "outputs": [],
   "source": []
  },
  {
   "cell_type": "code",
   "execution_count": null,
   "id": "63909659-b0e5-47cb-b69d-3ce3787c9e49",
   "metadata": {},
   "outputs": [],
   "source": []
  }
 ],
 "metadata": {
  "kernelspec": {
   "display_name": "Python 3 (ipykernel)",
   "language": "python",
   "name": "python3"
  },
  "language_info": {
   "codemirror_mode": {
    "name": "ipython",
    "version": 3
   },
   "file_extension": ".py",
   "mimetype": "text/x-python",
   "name": "python",
   "nbconvert_exporter": "python",
   "pygments_lexer": "ipython3",
   "version": "3.11.3"
  }
 },
 "nbformat": 4,
 "nbformat_minor": 5
}
